{
 "cells": [
  {
   "cell_type": "markdown",
   "id": "3929f50c-0386-421a-add0-1db25bc29fa0",
   "metadata": {
    "editable": true,
    "slideshow": {
     "slide_type": ""
    },
    "tags": []
   },
   "source": [
    "# Upload Raw GA360 Data to BigQuery Table"
   ]
  },
  {
   "cell_type": "code",
   "execution_count": 1,
   "id": "da59faf6-65a0-40b3-a82e-9a4d0c362a15",
   "metadata": {
    "editable": true,
    "slideshow": {
     "slide_type": ""
    },
    "tags": []
   },
   "outputs": [],
   "source": [
    "%load_ext autoreload\n",
    "%autoreload 2"
   ]
  },
  {
   "cell_type": "markdown",
   "id": "95bc6354-81c8-4bf2-80a9-37d1740d53b9",
   "metadata": {},
   "source": [
    "::: {.content-hidden}\n",
    "Import necessary Python modules\n",
    ":::"
   ]
  },
  {
   "cell_type": "code",
   "execution_count": 2,
   "id": "537ec961-2643-44a3-9013-59bb18833c39",
   "metadata": {
    "tags": []
   },
   "outputs": [],
   "source": [
    "import os\n",
    "import sys\n",
    "from datetime import datetime, timedelta\n",
    "from glob import glob\n",
    "from typing import Any, Dict\n",
    "\n",
    "import pandas as pd\n",
    "import pytz\n",
    "from google.cloud import bigquery\n",
    "from google.oauth2 import service_account"
   ]
  },
  {
   "cell_type": "markdown",
   "id": "7dc9feea-921a-4467-b480-cd62d474eee2",
   "metadata": {},
   "source": [
    "::: {.content-hidden}\n",
    "Get relative path to project root directory\n",
    ":::"
   ]
  },
  {
   "cell_type": "code",
   "execution_count": 3,
   "id": "54091824-ffc8-471b-a6e2-a477c54699f6",
   "metadata": {
    "tags": []
   },
   "outputs": [],
   "source": [
    "PROJ_ROOT_DIR = os.path.join(os.pardir)\n",
    "src_dir = os.path.join(PROJ_ROOT_DIR, \"src\")\n",
    "sys.path.append(src_dir)"
   ]
  },
  {
   "cell_type": "markdown",
   "id": "3e3afbb0-3036-46c1-a040-e9e423831955",
   "metadata": {},
   "source": [
    "::: {.content-hidden}\n",
    "Import custom Python modules\n",
    ":::"
   ]
  },
  {
   "cell_type": "code",
   "execution_count": 4,
   "id": "473f3191-8d69-44d0-86e0-18ed9e62b611",
   "metadata": {},
   "outputs": [],
   "source": [
    "%aimport bigquery_auth_helpers\n",
    "from bigquery_auth_helpers import auth_to_bigquery\n",
    "\n",
    "%aimport sql_helpers\n",
    "import sql_helpers as sqlh\n",
    "\n",
    "%aimport transform_helpers\n",
    "import transform_helpers as th"
   ]
  },
  {
   "cell_type": "markdown",
   "id": "53dabe56-23c3-4070-8948-4a6eaf13fc1b",
   "metadata": {},
   "source": [
    "Show datatypes and number of missing values for all columns in a `DataFrame`"
   ]
  },
  {
   "cell_type": "code",
   "execution_count": 5,
   "id": "082c199f-53e6-4bdc-ba91-f6ca0d68bb43",
   "metadata": {},
   "outputs": [],
   "source": [
    "def summarize_df(df: pd.DataFrame) -> None:\n",
    "    \"\"\"Show datatypes and count missing values in columns of DataFrame.\"\"\"\n",
    "    display(\n",
    "        df.dtypes.rename(\"dtype\")\n",
    "        .to_frame()\n",
    "        .merge(\n",
    "            df.isna().sum().rename(\"missing\").to_frame(),\n",
    "            left_index=True,\n",
    "            right_index=True,\n",
    "            how=\"left\",\n",
    "        )\n",
    "        .reset_index()\n",
    "        .rename(columns={\"index\": \"column\"})\n",
    "    )"
   ]
  },
  {
   "cell_type": "markdown",
   "id": "1f3a1d6c-4a81-4d3e-9304-5d1973fc4750",
   "metadata": {},
   "source": [
    "## About"
   ]
  },
  {
   "cell_type": "markdown",
   "id": "f56caf09-c5bb-466a-8928-69aafac6f6fb",
   "metadata": {},
   "source": []
  },
  {
   "cell_type": "markdown",
   "id": "cce060ef-3d7e-43cc-a627-78a68b0dcd11",
   "metadata": {},
   "source": [
    "## User Inputs"
   ]
  },
  {
   "cell_type": "markdown",
   "id": "5e0c320c-8df0-4218-a38e-8feb4b26cc62",
   "metadata": {},
   "source": [
    "Define the following\n",
    "\n",
    "1. start date and the number of days following this date for which raw data should be queried\n",
    "2. list of nested columns in raw GA360 tracking data that is accessible in the sample merchandise store dataset\n",
    "3. GCP\n",
    "   - dataset id\n",
    "   - table id"
   ]
  },
  {
   "cell_type": "code",
   "execution_count": 6,
   "id": "ba6e7adc-a0b1-472c-afe0-c3f1896bef3f",
   "metadata": {
    "editable": true,
    "slideshow": {
     "slide_type": ""
    },
    "tags": [
     "parameters"
    ]
   },
   "outputs": [],
   "source": [
    "#| echo: true\n",
    "# 1. start date and number of following days\n",
    "date_start = datetime(2016, 11, 29)\n",
    "num_days = 2\n",
    "\n",
    "# 2. list of nested columns in raw data\n",
    "nested_cols = [\n",
    "    'totals',\n",
    "    'trafficSource',\n",
    "    'device',\n",
    "    'geoNetwork',\n",
    "    'customDimensions',\n",
    "    'hits',\n",
    "]\n",
    "\n",
    "# 3. GCP resources\n",
    "gbq_dataset_id = 'mydemo2asdf'\n",
    "gbq_table_id = 'ecwa'"
   ]
  },
  {
   "cell_type": "markdown",
   "id": "ce63bf09-6e49-4c34-86df-72e8ee9282a5",
   "metadata": {},
   "source": [
    "Get end date for which raw data should be queried"
   ]
  },
  {
   "cell_type": "code",
   "execution_count": 7,
   "id": "242ec446-040d-4244-96a5-609dd5e15f89",
   "metadata": {
    "editable": true,
    "slideshow": {
     "slide_type": ""
    },
    "tags": []
   },
   "outputs": [],
   "source": [
    "date_start_str = date_start.strftime(\"%Y%m%d\")\n",
    "date_end_str = (date_start + timedelta(days=num_days-1)).strftime(\"%Y%m%d\")"
   ]
  },
  {
   "cell_type": "markdown",
   "id": "62c5afee-e783-4b6a-b5c1-ae400250a20f",
   "metadata": {
    "editable": true,
    "slideshow": {
     "slide_type": ""
    },
    "tags": []
   },
   "source": [
    "::: {.content-hidden}\n",
    "Get path to data sub-folders\n",
    ":::"
   ]
  },
  {
   "cell_type": "code",
   "execution_count": 8,
   "id": "abbc3b11-496a-4105-ac24-7a25b15d5b9b",
   "metadata": {
    "editable": true,
    "slideshow": {
     "slide_type": ""
    },
    "tags": []
   },
   "outputs": [],
   "source": [
    "data_dir = os.path.join(PROJ_ROOT_DIR, \"data\")\n",
    "raw_data_dir = os.path.join(data_dir, \"raw\")"
   ]
  },
  {
   "cell_type": "markdown",
   "id": "df21c371-d378-4353-9b39-82e1e91ed5ca",
   "metadata": {
    "editable": true,
    "slideshow": {
     "slide_type": ""
    },
    "tags": []
   },
   "source": [
    "Set datatypes for non-nested fields in raw GA360 tracking data"
   ]
  },
  {
   "cell_type": "code",
   "execution_count": 9,
   "id": "15b48eed-95bd-4192-b3f9-dc680995c875",
   "metadata": {
    "editable": true,
    "slideshow": {
     "slide_type": ""
    },
    "tags": []
   },
   "outputs": [],
   "source": [
    "dtypes_dict_raw = {\n",
    "    \"visitorId\": pd.Int64Dtype(),\n",
    "    \"visitNumber\": pd.Int64Dtype(),\n",
    "    \"visitId\": pd.Int64Dtype(),\n",
    "    \"visitStartTime\": pd.Int64Dtype(),\n",
    "    \"date\": pd.StringDtype(),\n",
    "    \"fullVisitorId\": pd.StringDtype(),\n",
    "    \"userId\": pd.StringDtype(),\n",
    "    \"channelGrouping\": pd.StringDtype(),\n",
    "    \"socialEngagementType\": pd.StringDtype(),\n",
    "}"
   ]
  },
  {
   "cell_type": "markdown",
   "id": "ea0fc3b8-844f-4cb8-8936-a00b278b886b",
   "metadata": {
    "editable": true,
    "slideshow": {
     "slide_type": ""
    },
    "tags": []
   },
   "source": [
    "::: {.content-hidden}\n",
    "Load Google Cloud authentication credentials for use with the native BigQuery Python client\n",
    ":::"
   ]
  },
  {
   "cell_type": "code",
   "execution_count": 10,
   "id": "58c7e2a8-a3ae-4823-a124-3c1a4b416cb9",
   "metadata": {
    "editable": true,
    "slideshow": {
     "slide_type": ""
    },
    "tags": []
   },
   "outputs": [],
   "source": [
    "gcp_proj_id = os.environ[\"GCP_PROJECT_ID\"]\n",
    "gcp_creds_fpath = glob(os.path.join(raw_data_dir, \"*.json\"))[0]\n",
    "gcp_creds = service_account.Credentials.from_service_account_file(\n",
    "    gcp_creds_fpath\n",
    ")"
   ]
  },
  {
   "cell_type": "markdown",
   "id": "2f61c04a-6014-4be9-91cb-d7c63bc50cc1",
   "metadata": {
    "editable": true,
    "slideshow": {
     "slide_type": ""
    },
    "tags": []
   },
   "source": [
    "::: {.content-hidden}\n",
    "Get fully resolved name of the BigQuery table\n",
    ":::"
   ]
  },
  {
   "cell_type": "code",
   "execution_count": 11,
   "id": "40119620-2bac-4749-85cf-c2db28dac5b4",
   "metadata": {
    "editable": true,
    "slideshow": {
     "slide_type": ""
    },
    "tags": []
   },
   "outputs": [],
   "source": [
    "gbq_table_fully_resolved = f\"{gcp_proj_id}.{gbq_dataset_id}.{gbq_table_id}\""
   ]
  },
  {
   "cell_type": "markdown",
   "id": "2170aee4-1fdf-4c9d-a300-cf4ba9750a55",
   "metadata": {
    "editable": true,
    "slideshow": {
     "slide_type": ""
    },
    "tags": []
   },
   "source": [
    "::: {.content-hidden}\n",
    "Get path to all raw data files that were previously exported\n",
    ":::"
   ]
  },
  {
   "cell_type": "code",
   "execution_count": 12,
   "id": "f21d40a6-91e3-4037-80ea-342382112900",
   "metadata": {
    "editable": true,
    "slideshow": {
     "slide_type": ""
    },
    "tags": []
   },
   "outputs": [],
   "source": [
    "raw_data_files = sorted(glob(f\"{raw_data_dir}/ga_data/d2i_{gbq_table_id}*.parquet.gzip\"))"
   ]
  },
  {
   "cell_type": "markdown",
   "id": "18835799-29b8-45ea-b139-c99d8e42f34e",
   "metadata": {
    "editable": true,
    "slideshow": {
     "slide_type": ""
    },
    "tags": []
   },
   "source": [
    "::: {.content-hidden}\n",
    "Create authenticated native BigQuery Python client\n",
    ":::"
   ]
  },
  {
   "cell_type": "code",
   "execution_count": 13,
   "id": "76f86f09-e6d3-4fc8-9373-c772120a4c83",
   "metadata": {
    "editable": true,
    "slideshow": {
     "slide_type": ""
    },
    "tags": []
   },
   "outputs": [],
   "source": [
    "client = bigquery.Client(project=gcp_proj_id, credentials=gcp_creds)"
   ]
  },
  {
   "cell_type": "markdown",
   "id": "8adb7c8e-53c1-4ce7-a021-83159ac80fc3",
   "metadata": {},
   "source": [
    "## Read Data from Local Disk"
   ]
  },
  {
   "cell_type": "markdown",
   "id": "5f77e055-04e3-49d3-8df9-1b372916ac0f",
   "metadata": {},
   "source": [
    "Load batch(es) of raw data"
   ]
  },
  {
   "cell_type": "code",
   "execution_count": null,
   "id": "3ea615e2-3848-4d00-a5e3-e8fc80c2f316",
   "metadata": {},
   "outputs": [],
   "source": [
    "%%time\n",
    "dfs_local = [pd.read_parquet(f) for f in raw_data_files]\n",
    "for local_fpath, df_local in zip(raw_data_files, dfs_local):\n",
    "    print(\n",
    "        f\"Found data at {os.path.basename(local_fpath)} with \"\n",
    "        f\"{len(df_local):,} rows\"\n",
    "    )"
   ]
  },
  {
   "cell_type": "markdown",
   "id": "0c0cb897-c455-44d9-bc82-d387e82e2084",
   "metadata": {},
   "source": [
    "Show datatypes of columns in `DataFrame` for single batch of data"
   ]
  },
  {
   "cell_type": "code",
   "execution_count": null,
   "id": "f1f8ddaa-8c47-4623-af4e-285b53311702",
   "metadata": {},
   "outputs": [],
   "source": [
    "summarize_df(dfs_local[0])"
   ]
  },
  {
   "cell_type": "markdown",
   "id": "31e48e65-3df5-4c83-8b0b-45012b4e0c6b",
   "metadata": {},
   "source": [
    "## Upload Data to BigQuery Table"
   ]
  },
  {
   "cell_type": "markdown",
   "id": "8ac123ba-9aff-463c-b435-5e54fd918b2d",
   "metadata": {},
   "source": [
    "### Create Empty BigQuery Table"
   ]
  },
  {
   "cell_type": "code",
   "execution_count": null,
   "id": "9bd2bcbc-2cdf-4d96-8c54-feb320570c0d",
   "metadata": {},
   "outputs": [],
   "source": [
    "table = bigquery.Table(gbq_table_fully_resolved)\n",
    "try:\n",
    "    client.create_table(table)\n",
    "    table = client.create_table(table)\n",
    "    print(f\"Created table {table.project}.{table.dataset_id}.{table.table_id}\")\n",
    "except Exception as e:\n",
    "    if \"Already Exists\" in str(e):\n",
    "        print(f\"Found existing table {gbq_table_fully_resolved}\")\n",
    "    else:\n",
    "        print(str(e))"
   ]
  },
  {
   "cell_type": "markdown",
   "id": "3277d601-d4d2-4fd1-9192-817fa323c01d",
   "metadata": {},
   "source": [
    "### Define BigQuery Table Schema"
   ]
  },
  {
   "cell_type": "code",
   "execution_count": null,
   "id": "96ec34ca-a976-4252-8c69-c29f296fd8cc",
   "metadata": {},
   "outputs": [],
   "source": [
    "job_config = bigquery.LoadJobConfig(schema=[\n",
    "    bigquery.SchemaField(\"visitorId\", \"INTEGER\", mode='NULLABLE'),\n",
    "    bigquery.SchemaField(\"visitNumber\", \"INTEGER\", mode='NULLABLE'),\n",
    "    bigquery.SchemaField(\"visitId\", \"INTEGER\", mode='NULLABLE'),\n",
    "    bigquery.SchemaField(\"visitStartTime\", \"INTEGER\", mode='NULLABLE'),\n",
    "    bigquery.SchemaField(\"date\", \"STRING\", mode='NULLABLE'),\n",
    "    bigquery.SchemaField(\n",
    "        \"totals\",\n",
    "        \"RECORD\",\n",
    "        mode=\"NULLABLE\",\n",
    "        fields=[\n",
    "            bigquery.SchemaField(\"visits\", \"INTEGER\", mode=\"NULLABLE\"),\n",
    "            bigquery.SchemaField(\"hits\", \"INTEGER\", mode=\"NULLABLE\"),\n",
    "            bigquery.SchemaField(\"pageviews\", \"INTEGER\", mode=\"NULLABLE\"),\n",
    "            bigquery.SchemaField(\"timeOnSite\", \"INTEGER\", mode=\"NULLABLE\"),\n",
    "            bigquery.SchemaField(\"bounces\", \"INTEGER\", mode=\"NULLABLE\"),\n",
    "            bigquery.SchemaField(\"transactions\", \"INTEGER\", mode=\"NULLABLE\"),\n",
    "            bigquery.SchemaField(\"transactionRevenue\", \"INTEGER\", mode=\"NULLABLE\"),\n",
    "            bigquery.SchemaField(\"newVisits\", \"INTEGER\", mode=\"NULLABLE\"),\n",
    "            bigquery.SchemaField(\"screenviews\", \"INTEGER\", mode=\"NULLABLE\"),\n",
    "            bigquery.SchemaField(\"UniqueScreenViews\", \"INTEGER\", mode=\"NULLABLE\"),\n",
    "            bigquery.SchemaField(\"timeOnScreen\", \"INTEGER\", mode=\"NULLABLE\"),\n",
    "            bigquery.SchemaField(\"totalTransactionRevenue\", \"INTEGER\", mode=\"NULLABLE\"),\n",
    "            bigquery.SchemaField(\"sessionQualityDim\", \"INTEGER\", mode=\"NULLABLE\"),\n",
    "        ],\n",
    "    ),\n",
    "    bigquery.SchemaField(\n",
    "        \"trafficSource\",\n",
    "        \"RECORD\",\n",
    "        mode=\"NULLABLE\",\n",
    "        fields=[\n",
    "            bigquery.SchemaField(\"referralPath\", \"STRING\", mode=\"NULLABLE\"),\n",
    "            bigquery.SchemaField(\"campaign\", \"STRING\", mode=\"NULLABLE\"),\n",
    "            bigquery.SchemaField(\"source\", \"STRING\", mode=\"NULLABLE\"),\n",
    "            bigquery.SchemaField(\"medium\", \"STRING\", mode=\"NULLABLE\"),\n",
    "            bigquery.SchemaField(\"keyword\", \"STRING\", mode=\"NULLABLE\"),\n",
    "            bigquery.SchemaField(\"adContent\", \"STRING\", mode=\"NULLABLE\"),\n",
    "            bigquery.SchemaField(\n",
    "                \"adwordsClickInfo\",\n",
    "                \"RECORD\",\n",
    "                mode=\"NULLABLE\",\n",
    "                fields=[\n",
    "                    bigquery.SchemaField(\"campaignId\", \"INTEGER\", mode=\"NULLABLE\"),\n",
    "                    bigquery.SchemaField(\"adGroupId\", \"INTEGER\", mode=\"NULLABLE\"),\n",
    "                    bigquery.SchemaField(\"creativeId\", \"INTEGER\", mode=\"NULLABLE\"),\n",
    "                    bigquery.SchemaField(\"criteriaId\", \"INTEGER\", mode=\"NULLABLE\"),\n",
    "                    bigquery.SchemaField(\"page\", \"INTEGER\", mode=\"NULLABLE\"),\n",
    "                    bigquery.SchemaField(\"slot\", \"STRING\", mode=\"NULLABLE\"),\n",
    "                    bigquery.SchemaField(\"criteriaParameters\", \"STRING\", mode=\"NULLABLE\"),\n",
    "                    bigquery.SchemaField(\"gclId\", \"STRING\", mode=\"NULLABLE\"),\n",
    "                    bigquery.SchemaField(\"customerId\", \"INTEGER\", mode=\"NULLABLE\"),\n",
    "                    bigquery.SchemaField(\"adNetworkType\", \"STRING\", mode=\"NULLABLE\"),\n",
    "                    bigquery.SchemaField(\n",
    "                        \"targetingCriteria\",\n",
    "                        \"RECORD\",\n",
    "                        mode=\"NULLABLE\",\n",
    "                        fields=[bigquery.SchemaField(\"boomUserlistId\", \"INTEGER\", mode=\"NULLABLE\")],\n",
    "                    ),\n",
    "                    bigquery.SchemaField(\"isVideoId\", \"BOOLEAN\", mode=\"NULLABLE\"),\n",
    "                ],\n",
    "            ),\n",
    "            bigquery.SchemaField(\"isTrueDirect\", \"BOOLEAN\", mode=\"NULLABLE\"),\n",
    "            bigquery.SchemaField(\"campaignCode\", \"STRING\", mode=\"NULLABLE\"),\n",
    "        ],\n",
    "    ),\n",
    "    bigquery.SchemaField(\n",
    "        \"device\",\n",
    "        \"RECORD\",\n",
    "        mode=\"NULLABLE\",\n",
    "        fields=[\n",
    "            bigquery.SchemaField(\"browser\", \"STRING\", mode=\"NULLABLE\"),\n",
    "            bigquery.SchemaField(\"browserVersion\", \"STRING\", mode=\"NULLABLE\"),\n",
    "            bigquery.SchemaField(\"browserSize\", \"STRING\", mode=\"NULLABLE\"),\n",
    "            bigquery.SchemaField(\"operatingSystem\", \"STRING\", mode=\"NULLABLE\"),\n",
    "            bigquery.SchemaField(\"operatingSystemVersion\", \"STRING\", mode=\"NULLABLE\"),\n",
    "            bigquery.SchemaField(\"isMobile\", \"BOOLEAN\", mode=\"NULLABLE\"),\n",
    "            bigquery.SchemaField(\"mobileDeviceBranding\", \"STRING\", mode=\"NULLABLE\"),\n",
    "            bigquery.SchemaField(\"mobileDeviceModel\", \"STRING\", mode=\"NULLABLE\"),\n",
    "            bigquery.SchemaField(\"mobileInputSelector\", \"STRING\", mode=\"NULLABLE\"),\n",
    "            bigquery.SchemaField(\"mobileDeviceInfo\", \"STRING\", mode=\"NULLABLE\"),\n",
    "            bigquery.SchemaField(\"mobileDeviceMarketingName\", \"STRING\", mode=\"NULLABLE\"),\n",
    "            bigquery.SchemaField(\"flashVersion\", \"STRING\", mode=\"NULLABLE\"),\n",
    "            bigquery.SchemaField(\"javaEnabled\", \"BOOLEAN\", mode=\"NULLABLE\"),\n",
    "            bigquery.SchemaField(\"language\", \"STRING\", mode=\"NULLABLE\"),\n",
    "            bigquery.SchemaField(\"screenColors\", \"STRING\", mode=\"NULLABLE\"),\n",
    "            bigquery.SchemaField(\"screenResolution\", \"STRING\", mode=\"NULLABLE\"),\n",
    "            bigquery.SchemaField(\"deviceCategory\", \"STRING\", mode=\"NULLABLE\"),\n",
    "        ],\n",
    "    ),\n",
    "    bigquery.SchemaField(\n",
    "        \"geoNetwork\",\n",
    "        \"RECORD\",\n",
    "        mode=\"NULLABLE\",\n",
    "        fields=[\n",
    "            bigquery.SchemaField(\"continent\", \"STRING\", mode=\"NULLABLE\"),\n",
    "            bigquery.SchemaField(\"subContinent\", \"STRING\", mode=\"NULLABLE\"),\n",
    "            bigquery.SchemaField(\"country\", \"STRING\", mode=\"NULLABLE\"),\n",
    "            bigquery.SchemaField(\"region\", \"STRING\", mode=\"NULLABLE\"),\n",
    "            bigquery.SchemaField(\"metro\", \"STRING\", mode=\"NULLABLE\"),\n",
    "            bigquery.SchemaField(\"city\", \"STRING\", mode=\"NULLABLE\"),\n",
    "            bigquery.SchemaField(\"cityId\", \"STRING\", mode=\"NULLABLE\"),\n",
    "            bigquery.SchemaField(\"networkDomain\", \"STRING\", mode=\"NULLABLE\"),\n",
    "            bigquery.SchemaField(\"latitude\", \"STRING\", mode=\"NULLABLE\"),\n",
    "            bigquery.SchemaField(\"longitude\", \"STRING\", mode=\"NULLABLE\"),\n",
    "            bigquery.SchemaField(\"networkLocation\", \"STRING\", mode=\"NULLABLE\"),\n",
    "        ],\n",
    "    ),\n",
    "    bigquery.SchemaField(\n",
    "        \"customDimensions\",\n",
    "        \"RECORD\",\n",
    "        mode=\"REPEATED\",\n",
    "        fields=[\n",
    "            bigquery.SchemaField(\"index\", \"INTEGER\", mode=\"NULLABLE\"),\n",
    "            bigquery.SchemaField(\"value\", \"STRING\", mode=\"NULLABLE\"),\n",
    "        ],\n",
    "    ),\n",
    "    # hits\n",
    "    bigquery.SchemaField(\n",
    "        \"hits\",\n",
    "        \"RECORD\",\n",
    "        mode=\"REPEATED\",\n",
    "        fields=[\n",
    "            bigquery.SchemaField(\"hitNumber\", \"INTEGER\", mode=\"NULLABLE\"),\n",
    "            bigquery.SchemaField(\"time\", \"INTEGER\", mode=\"NULLABLE\"),\n",
    "            bigquery.SchemaField(\"hour\", \"INTEGER\", mode=\"NULLABLE\"),\n",
    "            bigquery.SchemaField(\"minute\", \"INTEGER\", mode=\"NULLABLE\"),\n",
    "            bigquery.SchemaField(\"isSecure\", \"BOOLEAN\", mode=\"NULLABLE\"),\n",
    "            bigquery.SchemaField(\"isInteraction\", \"BOOLEAN\", mode=\"NULLABLE\"),\n",
    "            bigquery.SchemaField(\"isEntrance\", \"BOOLEAN\", mode=\"NULLABLE\"),\n",
    "            bigquery.SchemaField(\"isExit\", \"BOOLEAN\", mode=\"NULLABLE\"),\n",
    "            bigquery.SchemaField(\"referer\", \"STRING\", mode=\"NULLABLE\"),\n",
    "            # page (NESTED)\n",
    "            bigquery.SchemaField(\n",
    "                \"page\",\n",
    "                \"RECORD\",\n",
    "                mode=\"NULLABLE\",\n",
    "                fields=[\n",
    "                    bigquery.SchemaField(\"pagePath\", \"STRING\", mode=\"NULLABLE\"),\n",
    "                    bigquery.SchemaField(\"hostname\", \"STRING\", mode=\"NULLABLE\"),\n",
    "                    bigquery.SchemaField(\"pageTitle\", \"STRING\", mode=\"NULLABLE\"),\n",
    "                    bigquery.SchemaField(\"searchKeyword\", \"STRING\", mode=\"NULLABLE\"),\n",
    "                    bigquery.SchemaField(\"searchCategory\", \"STRING\", mode=\"NULLABLE\"),\n",
    "                    bigquery.SchemaField(\"pagePathLevel1\", \"STRING\", mode=\"NULLABLE\"),\n",
    "                    bigquery.SchemaField(\"pagePathLevel2\", \"STRING\", mode=\"NULLABLE\"),\n",
    "                    bigquery.SchemaField(\"pagePathLevel3\", \"STRING\", mode=\"NULLABLE\"),\n",
    "                    bigquery.SchemaField(\"pagePathLevel4\", \"STRING\", mode=\"NULLABLE\"),\n",
    "                ],\n",
    "            ),\n",
    "            # transaction (NESTED)\n",
    "            bigquery.SchemaField(\n",
    "                \"transaction\",\n",
    "                \"RECORD\",\n",
    "                mode=\"NULLABLE\",\n",
    "                fields=[\n",
    "                    bigquery.SchemaField(\"transactionId\", \"STRING\", mode=\"NULLABLE\"),\n",
    "                    bigquery.SchemaField(\"transactionRevenue\", \"INTEGER\", mode=\"NULLABLE\"),\n",
    "                    bigquery.SchemaField(\"transactionTax\", \"INTEGER\", mode=\"NULLABLE\"),\n",
    "                    bigquery.SchemaField(\"transactionShipping\", \"INTEGER\", mode=\"NULLABLE\"),\n",
    "                    bigquery.SchemaField(\"affiliation\", \"STRING\", mode=\"NULLABLE\"),\n",
    "                    bigquery.SchemaField(\"currencyCode\", \"STRING\", mode=\"NULLABLE\"),\n",
    "                    bigquery.SchemaField(\"localTransactionRevenue\", \"INTEGER\", mode=\"NULLABLE\"),\n",
    "                    bigquery.SchemaField(\"localTransactionTax\", \"INTEGER\", mode=\"NULLABLE\"),\n",
    "                    bigquery.SchemaField(\"localTransactionShipping\", \"INTEGER\", mode=\"NULLABLE\"),\n",
    "                    bigquery.SchemaField(\"transactionCoupon\", \"STRING\", mode=\"NULLABLE\"),\n",
    "                ],\n",
    "            ),\n",
    "            # item (NESTED)\n",
    "            bigquery.SchemaField(\n",
    "                \"item\",\n",
    "                \"RECORD\",\n",
    "                mode=\"NULLABLE\",\n",
    "                fields=[\n",
    "                    bigquery.SchemaField(\"transactionId\", \"STRING\", mode=\"NULLABLE\"),\n",
    "                    bigquery.SchemaField(\"productName\", \"STRING\", mode=\"NULLABLE\"),\n",
    "                    bigquery.SchemaField(\"productCategory\", \"STRING\", mode=\"NULLABLE\"),\n",
    "                    bigquery.SchemaField(\"productSku\", \"STRING\", mode=\"NULLABLE\"),\n",
    "                    bigquery.SchemaField(\"itemQuantity\", \"INTEGER\", mode=\"NULLABLE\"),\n",
    "                    bigquery.SchemaField(\"itemRevenue\", \"INTEGER\", mode=\"NULLABLE\"),\n",
    "                    bigquery.SchemaField(\"currencyCode\", \"STRING\", mode=\"NULLABLE\"),\n",
    "                    bigquery.SchemaField(\"localItemRevenue\", \"INTEGER\", mode=\"NULLABLE\"),\n",
    "                ],\n",
    "            ),\n",
    "            # contentInfo (NESTED)\n",
    "            bigquery.SchemaField(\n",
    "                \"contentInfo\",\n",
    "                \"RECORD\",\n",
    "                mode=\"NULLABLE\",\n",
    "                fields=[\n",
    "                    bigquery.SchemaField(\"contentDescription\", \"STRING\", mode=\"NULLABLE\"),\n",
    "                ],\n",
    "            ),\n",
    "            # appInfo (NESTED)\n",
    "            bigquery.SchemaField(\n",
    "                \"appInfo\",\n",
    "                \"RECORD\",\n",
    "                mode=\"NULLABLE\",\n",
    "                fields=[\n",
    "                    bigquery.SchemaField(\"name\", \"STRING\", mode=\"NULLABLE\"),\n",
    "                    bigquery.SchemaField(\"version\", \"STRING\", mode=\"NULLABLE\"),\n",
    "                    bigquery.SchemaField(\"id\", \"STRING\", mode=\"NULLABLE\"),\n",
    "                    bigquery.SchemaField(\"installerId\", \"STRING\", mode=\"NULLABLE\"),\n",
    "                    bigquery.SchemaField(\"appInstallerId\", \"STRING\", mode=\"NULLABLE\"),\n",
    "                    bigquery.SchemaField(\"appName\", \"STRING\", mode=\"NULLABLE\"),\n",
    "                    bigquery.SchemaField(\"appVersion\", \"STRING\", mode=\"NULLABLE\"),\n",
    "                    bigquery.SchemaField(\"appId\", \"STRING\", mode=\"NULLABLE\"),\n",
    "                    bigquery.SchemaField(\"screenName\", \"STRING\", mode=\"NULLABLE\"),\n",
    "                    bigquery.SchemaField(\"landingScreenName\", \"STRING\", mode=\"NULLABLE\"),\n",
    "                    bigquery.SchemaField(\"exitScreenName\", \"STRING\", mode=\"NULLABLE\"),\n",
    "                    bigquery.SchemaField(\"screenDepth\", \"STRING\", mode=\"NULLABLE\"),\n",
    "                ],\n",
    "            ),\n",
    "            # exceptionInfo (NESTED)\n",
    "            bigquery.SchemaField(\n",
    "                \"exceptionInfo\",\n",
    "                \"RECORD\",\n",
    "                mode=\"NULLABLE\",\n",
    "                fields=[\n",
    "                    bigquery.SchemaField(\"description\", \"STRING\", mode=\"NULLABLE\"),\n",
    "                    bigquery.SchemaField(\"isFatal\", \"BOOLEAN\", mode=\"NULLABLE\"),\n",
    "                    bigquery.SchemaField(\"exceptions\", \"INTEGER\", mode=\"NULLABLE\"),\n",
    "                    bigquery.SchemaField(\"fatalExceptions\", \"INTEGER\", mode=\"NULLABLE\"),\n",
    "                ],\n",
    "            ),\n",
    "            # eventInfo (NESTED)\n",
    "            bigquery.SchemaField(\n",
    "                \"eventInfo\",\n",
    "                \"RECORD\",\n",
    "                mode=\"NULLABLE\",\n",
    "                fields=[\n",
    "                    bigquery.SchemaField(\"eventCategory\", \"STRING\", mode=\"NULLABLE\"),\n",
    "                    bigquery.SchemaField(\"eventAction\", \"STRING\", mode=\"NULLABLE\"),\n",
    "                    bigquery.SchemaField(\"eventLabel\", \"STRING\", mode=\"NULLABLE\"),\n",
    "                    bigquery.SchemaField(\"eventValue\", \"INTEGER\", mode=\"NULLABLE\"),\n",
    "                ],\n",
    "            ),\n",
    "            # product (NESTED)\n",
    "            bigquery.SchemaField(\n",
    "                \"product\",\n",
    "                \"RECORD\",\n",
    "                mode=\"REPEATED\",\n",
    "                fields=[\n",
    "                    bigquery.SchemaField(\"productSKU\", \"STRING\", mode=\"NULLABLE\"),\n",
    "                    bigquery.SchemaField(\"v2ProductName\", \"STRING\", mode=\"NULLABLE\"),\n",
    "                    bigquery.SchemaField(\"v2ProductCategory\", \"STRING\", mode=\"NULLABLE\"),\n",
    "                    bigquery.SchemaField(\"productVariant\", \"STRING\", mode=\"NULLABLE\"),\n",
    "                    bigquery.SchemaField(\"productBrand\", \"STRING\", mode=\"NULLABLE\"),\n",
    "                    bigquery.SchemaField(\"productRevenue\", \"INTEGER\", mode=\"NULLABLE\"),\n",
    "                    bigquery.SchemaField(\"localProductRevenue\", \"INTEGER\", mode=\"NULLABLE\"),\n",
    "                    bigquery.SchemaField(\"productPrice\", \"INTEGER\", mode=\"NULLABLE\"),\n",
    "                    bigquery.SchemaField(\"localProductPrice\", \"INTEGER\", mode=\"NULLABLE\"),\n",
    "                    bigquery.SchemaField(\"productQuantity\", \"INTEGER\", mode=\"NULLABLE\"),\n",
    "                    bigquery.SchemaField(\"productRefundAmount\", \"INTEGER\", mode=\"NULLABLE\"),\n",
    "                    bigquery.SchemaField(\"localProductRefundAmount\", \"INTEGER\", mode=\"NULLABLE\"),\n",
    "                    bigquery.SchemaField(\"isImpression\", \"BOOLEAN\", mode=\"NULLABLE\"),\n",
    "                    bigquery.SchemaField(\"isClick\", \"BOOLEAN\", mode=\"NULLABLE\"),\n",
    "                    bigquery.SchemaField(\n",
    "                        \"customDimensions\",\n",
    "                        \"RECORD\",\n",
    "                        mode=\"REPEATED\",\n",
    "                        fields=[\n",
    "                            bigquery.SchemaField(\"index\", \"INTEGER\", mode=\"NULLABLE\"),\n",
    "                            bigquery.SchemaField(\"value\", \"STRING\", mode=\"NULLABLE\"),\n",
    "                        ],\n",
    "                    ),\n",
    "                    bigquery.SchemaField(\n",
    "                        \"customMetrics\",\n",
    "                        \"RECORD\",\n",
    "                        mode=\"REPEATED\",\n",
    "                        fields=[\n",
    "                            bigquery.SchemaField(\"index\", \"INTEGER\", mode=\"NULLABLE\"),\n",
    "                            bigquery.SchemaField(\"value\", \"INTEGER\", mode=\"NULLABLE\"),\n",
    "                        ],\n",
    "                    ),\n",
    "                    bigquery.SchemaField(\"productListName\", \"STRING\", mode=\"NULLABLE\"),\n",
    "                    bigquery.SchemaField(\"productListPosition\", \"INTEGER\", mode=\"NULLABLE\"),\n",
    "                ],\n",
    "            ),\n",
    "            # promotion (NESTED)\n",
    "            bigquery.SchemaField(\n",
    "                \"promotion\",\n",
    "                \"RECORD\",\n",
    "                mode=\"REPEATED\",\n",
    "                fields=[\n",
    "                    bigquery.SchemaField(\"promoId\", \"STRING\", mode=\"NULLABLE\"),\n",
    "                    bigquery.SchemaField(\"promoName\", \"STRING\", mode=\"NULLABLE\"),\n",
    "                    bigquery.SchemaField(\"promoCreative\", \"STRING\", mode=\"NULLABLE\"),\n",
    "                    bigquery.SchemaField(\"promoPosition\", \"STRING\", mode=\"NULLABLE\"),\n",
    "                ],\n",
    "            ),\n",
    "            # promotionActionInfo (NESTED)\n",
    "            bigquery.SchemaField(\n",
    "                \"promotionActionInfo\",\n",
    "                \"RECORD\",\n",
    "                mode=\"NULLABLE\",\n",
    "                fields=[\n",
    "                    bigquery.SchemaField(\"promoIsView\", \"BOOLEAN\", mode=\"NULLABLE\"),\n",
    "                    bigquery.SchemaField(\"promoIsClick\", \"BOOLEAN\", mode=\"NULLABLE\"),\n",
    "                ],\n",
    "            ),\n",
    "            # refund (NESTED)\n",
    "            bigquery.SchemaField(\n",
    "                \"refund\",\n",
    "                \"RECORD\",\n",
    "                mode=\"NULLABLE\",\n",
    "                fields=[\n",
    "                    bigquery.SchemaField(\"refundAmount\", \"INTEGER\", mode=\"NULLABLE\"),\n",
    "                    bigquery.SchemaField(\"localRefundAmount\", \"INTEGER\", mode=\"NULLABLE\"),\n",
    "                ],\n",
    "            ),\n",
    "            # eCommerceAction (NESTED)\n",
    "            bigquery.SchemaField(\n",
    "                \"eCommerceAction\",\n",
    "                \"RECORD\",\n",
    "                mode=\"NULLABLE\",\n",
    "                fields=[\n",
    "                    bigquery.SchemaField(\"action_type\", \"STRING\", mode=\"NULLABLE\"),\n",
    "                    bigquery.SchemaField(\"step\", \"INTEGER\", mode=\"NULLABLE\"),\n",
    "                    bigquery.SchemaField(\"option\", \"STRING\", mode=\"NULLABLE\"),\n",
    "                ],\n",
    "            ),\n",
    "            # experiment (NESTED)\n",
    "            bigquery.SchemaField(\n",
    "                \"experiment\",\n",
    "                \"RECORD\",\n",
    "                mode=\"REPEATED\",\n",
    "                fields=[\n",
    "                    bigquery.SchemaField(\"experimentId\", \"STRING\", mode=\"NULLABLE\"),\n",
    "                    bigquery.SchemaField(\"experimentVariant\", \"STRING\", mode=\"NULLABLE\"),\n",
    "                ],\n",
    "            ),\n",
    "            # publisher (NESTED)\n",
    "            bigquery.SchemaField(\n",
    "                \"publisher\",\n",
    "                \"RECORD\",\n",
    "                mode=\"NULLABLE\",\n",
    "                fields=[\n",
    "                    bigquery.SchemaField(\"dfpClicks\", \"INTEGER\", mode=\"NULLABLE\"),\n",
    "                    bigquery.SchemaField(\"dfpImpressions\", \"INTEGER\", mode=\"NULLABLE\"),\n",
    "                    bigquery.SchemaField(\"dfpMatchedQueries\", \"INTEGER\", mode=\"NULLABLE\"),\n",
    "                    bigquery.SchemaField(\"dfpMeasurableImpressions\", \"INTEGER\", mode=\"NULLABLE\"),\n",
    "                    bigquery.SchemaField(\"dfpQueries\", \"INTEGER\", mode=\"NULLABLE\"),\n",
    "                    bigquery.SchemaField(\"dfpRevenueCpm\", \"INTEGER\", mode=\"NULLABLE\"),\n",
    "                    bigquery.SchemaField(\"dfpRevenueCpc\", \"INTEGER\", mode=\"NULLABLE\"),\n",
    "                    bigquery.SchemaField(\"dfpViewableImpressions\", \"INTEGER\", mode=\"NULLABLE\"),\n",
    "                    bigquery.SchemaField(\"dfpPagesViewed\", \"INTEGER\", mode=\"NULLABLE\"),\n",
    "                    bigquery.SchemaField(\"adsenseBackfillDfpClicks\", \"INTEGER\", mode=\"NULLABLE\"),\n",
    "                    bigquery.SchemaField(\"adsenseBackfillDfpImpressions\", \"INTEGER\", mode=\"NULLABLE\"),\n",
    "                    bigquery.SchemaField(\"adsenseBackfillDfpMatchedQueries\", \"INTEGER\", mode=\"NULLABLE\"),\n",
    "                    bigquery.SchemaField(\"adsenseBackfillDfpMeasurableImpressions\", \"INTEGER\", mode=\"NULLABLE\"),\n",
    "                    bigquery.SchemaField(\"adsenseBackfillDfpQueries\", \"INTEGER\", mode=\"NULLABLE\"),\n",
    "                    bigquery.SchemaField(\"adsenseBackfillDfpRevenueCpm\", \"INTEGER\", mode=\"NULLABLE\"),\n",
    "                    bigquery.SchemaField(\"adsenseBackfillDfpRevenueCpc\", \"INTEGER\", mode=\"NULLABLE\"),\n",
    "                    bigquery.SchemaField(\"adsenseBackfillDfpViewableImpressions\", \"INTEGER\", mode=\"NULLABLE\"),\n",
    "                    bigquery.SchemaField(\"adsenseBackfillDfpPagesViewed\", \"INTEGER\", mode=\"NULLABLE\"),\n",
    "                    bigquery.SchemaField(\"adxBackfillDfpClicks\", \"INTEGER\", mode=\"NULLABLE\"),\n",
    "                    bigquery.SchemaField(\"adxBackfillDfpImpressions\", \"INTEGER\", mode=\"NULLABLE\"),\n",
    "                    bigquery.SchemaField(\"adxBackfillDfpMatchedQueries\", \"INTEGER\", mode=\"NULLABLE\"),\n",
    "                    bigquery.SchemaField(\"adxBackfillDfpMeasurableImpressions\", \"INTEGER\", mode=\"NULLABLE\"),\n",
    "                    bigquery.SchemaField(\"adxBackfillDfpQueries\", \"INTEGER\", mode=\"NULLABLE\"),\n",
    "                    bigquery.SchemaField(\"adxBackfillDfpRevenueCpm\", \"INTEGER\", mode=\"NULLABLE\"),\n",
    "                    bigquery.SchemaField(\"adxBackfillDfpRevenueCpc\", \"INTEGER\", mode=\"NULLABLE\"),\n",
    "                    bigquery.SchemaField(\"adxBackfillDfpViewableImpressions\", \"INTEGER\", mode=\"NULLABLE\"),\n",
    "                    bigquery.SchemaField(\"adxBackfillDfpPagesViewed\", \"INTEGER\", mode=\"NULLABLE\"),\n",
    "                    bigquery.SchemaField(\"adxClicks\", \"INTEGER\", mode=\"NULLABLE\"),\n",
    "                    bigquery.SchemaField(\"adxImpressions\", \"INTEGER\", mode=\"NULLABLE\"),\n",
    "                    bigquery.SchemaField(\"adxMatchedQueries\", \"INTEGER\", mode=\"NULLABLE\"),\n",
    "                    bigquery.SchemaField(\"adxMeasurableImpressions\", \"INTEGER\", mode=\"NULLABLE\"),\n",
    "                    bigquery.SchemaField(\"adxQueries\", \"INTEGER\", mode=\"NULLABLE\"),\n",
    "                    bigquery.SchemaField(\"adxRevenue\", \"INTEGER\", mode=\"NULLABLE\"),\n",
    "                    bigquery.SchemaField(\"adxViewableImpressions\", \"INTEGER\", mode=\"NULLABLE\"),\n",
    "                    bigquery.SchemaField(\"adxPagesViewed\", \"INTEGER\", mode=\"NULLABLE\"),\n",
    "                    bigquery.SchemaField(\"adsViewed\", \"INTEGER\", mode=\"NULLABLE\"),\n",
    "                    bigquery.SchemaField(\"adsUnitsViewed\", \"INTEGER\", mode=\"NULLABLE\"),\n",
    "                    bigquery.SchemaField(\"adsUnitsMatched\", \"INTEGER\", mode=\"NULLABLE\"),\n",
    "                    bigquery.SchemaField(\"viewableAdsViewed\", \"INTEGER\", mode=\"NULLABLE\"),\n",
    "                    bigquery.SchemaField(\"measurableAdsViewed\", \"INTEGER\", mode=\"NULLABLE\"),\n",
    "                    bigquery.SchemaField(\"adsPagesViewed\", \"INTEGER\", mode=\"NULLABLE\"),\n",
    "                    bigquery.SchemaField(\"adsClicked\", \"INTEGER\", mode=\"NULLABLE\"),\n",
    "                    bigquery.SchemaField(\"adsRevenue\", \"INTEGER\", mode=\"NULLABLE\"),\n",
    "                    bigquery.SchemaField(\"dfpAdGroup\", \"STRING\", mode=\"NULLABLE\"),\n",
    "                    bigquery.SchemaField(\"dfpAdUnits\", \"STRING\", mode=\"NULLABLE\"),\n",
    "                    bigquery.SchemaField(\"dfpNetworkId\", \"STRING\", mode=\"NULLABLE\"),\n",
    "                ],\n",
    "            ),\n",
    "            # customVariables (NESTED)\n",
    "            bigquery.SchemaField(\n",
    "                \"customVariables\",\n",
    "                \"RECORD\",\n",
    "                mode=\"REPEATED\",\n",
    "                fields=[\n",
    "                    bigquery.SchemaField(\"index\", \"INTEGER\", mode=\"NULLABLE\"),\n",
    "                    bigquery.SchemaField(\"customVarName\", \"STRING\", mode=\"NULLABLE\"),\n",
    "                    bigquery.SchemaField(\"customVarValue\", \"STRING\", mode=\"NULLABLE\"),\n",
    "                ],\n",
    "            ),\n",
    "            # customDimensions (NESTED)\n",
    "            bigquery.SchemaField(\n",
    "                \"customDimensions\",\n",
    "                \"RECORD\",\n",
    "                mode=\"REPEATED\",\n",
    "                fields=[\n",
    "                    bigquery.SchemaField(\"index\", \"INTEGER\", mode=\"NULLABLE\"),\n",
    "                    bigquery.SchemaField(\"value\", \"STRING\", mode=\"NULLABLE\"),\n",
    "                ],\n",
    "            ),\n",
    "            # customMetrics (NESTED)\n",
    "            bigquery.SchemaField(\n",
    "                \"customMetrics\",\n",
    "                \"RECORD\",\n",
    "                mode=\"REPEATED\",\n",
    "                fields=[\n",
    "                    bigquery.SchemaField(\"index\", \"INTEGER\", mode=\"NULLABLE\"),\n",
    "                    bigquery.SchemaField(\"value\", \"INTEGER\", mode=\"NULLABLE\"),\n",
    "                ],\n",
    "            ),\n",
    "            bigquery.SchemaField(\"type\", \"STRING\", mode=\"NULLABLE\"),\n",
    "            # social (NESTED)\n",
    "            bigquery.SchemaField(\n",
    "                \"social\",\n",
    "                \"RECORD\",\n",
    "                mode=\"NULLABLE\",\n",
    "                fields=[\n",
    "                    bigquery.SchemaField(\"socialInteractionNetwork\", \"STRING\", mode=\"NULLABLE\"),\n",
    "                    bigquery.SchemaField(\"socialInteractionAction\", \"STRING\", mode=\"NULLABLE\"),\n",
    "                    bigquery.SchemaField(\"socialInteractions\", \"INTEGER\", mode=\"NULLABLE\"),\n",
    "                    bigquery.SchemaField(\"socialInteractionTarget\", \"STRING\", mode=\"NULLABLE\"),\n",
    "                    bigquery.SchemaField(\"socialNetwork\", \"STRING\", mode=\"NULLABLE\"),\n",
    "                    bigquery.SchemaField(\"uniqueSocialInteractions\", \"INTEGER\", mode=\"NULLABLE\"),\n",
    "                    bigquery.SchemaField(\"hasSocialSourceReferral\", \"STRING\", mode=\"NULLABLE\"),\n",
    "                    bigquery.SchemaField(\"socialInteractionNetworkAction\", \"STRING\", mode=\"NULLABLE\"),\n",
    "                ],\n",
    "            ),\n",
    "            # latencyTracking (NESTED)\n",
    "            bigquery.SchemaField(\n",
    "                \"latencyTracking\",\n",
    "                \"RECORD\",\n",
    "                mode=\"NULLABLE\",\n",
    "                fields=[\n",
    "                    bigquery.SchemaField(\"pageLoadSample\", \"INTEGER\", mode=\"NULLABLE\"),\n",
    "                    bigquery.SchemaField(\"pageLoadTime\", \"INTEGER\", mode=\"NULLABLE\"),\n",
    "                    bigquery.SchemaField(\"pageDownloadTime\", \"INTEGER\", mode=\"NULLABLE\"),\n",
    "                    bigquery.SchemaField(\"redirectionTime\", \"INTEGER\", mode=\"NULLABLE\"),\n",
    "                    bigquery.SchemaField(\"speedMetricsSample\", \"INTEGER\", mode=\"NULLABLE\"),\n",
    "                    bigquery.SchemaField(\"domainLookupTime\", \"INTEGER\", mode=\"NULLABLE\"),\n",
    "                    bigquery.SchemaField(\"serverConnectionTime\", \"INTEGER\", mode=\"NULLABLE\"),\n",
    "                    bigquery.SchemaField(\"serverResponseTime\", \"INTEGER\", mode=\"NULLABLE\"),\n",
    "                    bigquery.SchemaField(\"domLatencyMetricsSample\", \"INTEGER\", mode=\"NULLABLE\"),\n",
    "                    bigquery.SchemaField(\"domInteractiveTime\", \"INTEGER\", mode=\"NULLABLE\"),\n",
    "                    bigquery.SchemaField(\"domContentLoadedTime\", \"INTEGER\", mode=\"NULLABLE\"),\n",
    "                    bigquery.SchemaField(\"userTimingValue\", \"INTEGER\", mode=\"NULLABLE\"),\n",
    "                    bigquery.SchemaField(\"userTimingSample\", \"INTEGER\", mode=\"NULLABLE\"),\n",
    "                    bigquery.SchemaField(\"userTimingVariable\", \"STRING\", mode=\"NULLABLE\"),\n",
    "                    bigquery.SchemaField(\"userTimingCategory\", \"STRING\", mode=\"NULLABLE\"),\n",
    "                    bigquery.SchemaField(\"userTimingLabel\", \"STRING\", mode=\"NULLABLE\"),\n",
    "                ],\n",
    "            ),\n",
    "            # sourcePropertyInfo (NESTED)\n",
    "            bigquery.SchemaField(\n",
    "                \"sourcePropertyInfo\",\n",
    "                \"RECORD\",\n",
    "                mode=\"NULLABLE\",\n",
    "                fields=[\n",
    "                    bigquery.SchemaField(\"sourcePropertyDisplayName\", \"STRING\", mode=\"NULLABLE\"),\n",
    "                    bigquery.SchemaField(\"sourcePropertyTrackingId\", \"STRING\", mode=\"NULLABLE\"),\n",
    "                ],\n",
    "            ),\n",
    "            # contentGroup (NESTED)\n",
    "            bigquery.SchemaField(\n",
    "                \"contentGroup\",\n",
    "                \"RECORD\",\n",
    "                mode=\"NULLABLE\",\n",
    "                fields=[\n",
    "                    bigquery.SchemaField(\"contentGroup1\", \"STRING\", mode=\"NULLABLE\"),\n",
    "                    bigquery.SchemaField(\"contentGroup2\", \"STRING\", mode=\"NULLABLE\"),\n",
    "                    bigquery.SchemaField(\"contentGroup3\", \"STRING\", mode=\"NULLABLE\"),\n",
    "                    bigquery.SchemaField(\"contentGroup4\", \"STRING\", mode=\"NULLABLE\"),\n",
    "                    bigquery.SchemaField(\"contentGroup5\", \"STRING\", mode=\"NULLABLE\"),\n",
    "                    bigquery.SchemaField(\"previousContentGroup1\", \"STRING\", mode=\"NULLABLE\"),\n",
    "                    bigquery.SchemaField(\"previousContentGroup2\", \"STRING\", mode=\"NULLABLE\"),\n",
    "                    bigquery.SchemaField(\"previousContentGroup3\", \"STRING\", mode=\"NULLABLE\"),\n",
    "                    bigquery.SchemaField(\"previousContentGroup4\", \"STRING\", mode=\"NULLABLE\"),\n",
    "                    bigquery.SchemaField(\"previousContentGroup5\", \"STRING\", mode=\"NULLABLE\"),\n",
    "                    bigquery.SchemaField(\"contentGroupUniqueViews1\", \"INTEGER\", mode=\"NULLABLE\"),\n",
    "                    bigquery.SchemaField(\"contentGroupUniqueViews2\", \"INTEGER\", mode=\"NULLABLE\"),\n",
    "                    bigquery.SchemaField(\"contentGroupUniqueViews3\", \"INTEGER\", mode=\"NULLABLE\"),\n",
    "                    bigquery.SchemaField(\"contentGroupUniqueViews4\", \"INTEGER\", mode=\"NULLABLE\"),\n",
    "                    bigquery.SchemaField(\"contentGroupUniqueViews5\", \"INTEGER\", mode=\"NULLABLE\"),\n",
    "                ],\n",
    "            ),\n",
    "            bigquery.SchemaField(\"dataSource\", \"STRING\", mode=\"NULLABLE\"),\n",
    "            # publisher_infos (NESTED)\n",
    "            bigquery.SchemaField(\n",
    "                \"publisher_infos\",\n",
    "                \"RECORD\",\n",
    "                mode=\"REPEATED\",\n",
    "                fields=[\n",
    "                    bigquery.SchemaField(\"dfpClicks\", \"INTEGER\", mode=\"NULLABLE\"),\n",
    "                    bigquery.SchemaField(\"dfpImpressions\", \"INTEGER\", mode=\"NULLABLE\"),\n",
    "                    bigquery.SchemaField(\"dfpMatchedQueries\", \"INTEGER\", mode=\"NULLABLE\"),\n",
    "                    bigquery.SchemaField(\"dfpMeasurableImpressions\", \"INTEGER\", mode=\"NULLABLE\"),\n",
    "                    bigquery.SchemaField(\"dfpQueries\", \"INTEGER\", mode=\"NULLABLE\"),\n",
    "                    bigquery.SchemaField(\"dfpRevenueCpm\", \"INTEGER\", mode=\"NULLABLE\"),\n",
    "                    bigquery.SchemaField(\"dfpRevenueCpc\", \"INTEGER\", mode=\"NULLABLE\"),\n",
    "                    bigquery.SchemaField(\"dfpViewableImpressions\", \"INTEGER\", mode=\"NULLABLE\"),\n",
    "                    bigquery.SchemaField(\"dfpPagesViewed\", \"INTEGER\", mode=\"NULLABLE\"),\n",
    "                    bigquery.SchemaField(\"adsenseBackfillDfpClicks\", \"INTEGER\", mode=\"NULLABLE\"),\n",
    "                    bigquery.SchemaField(\"adsenseBackfillDfpImpressions\", \"INTEGER\", mode=\"NULLABLE\"),\n",
    "                    bigquery.SchemaField(\"adsenseBackfillDfpMatchedQueries\", \"INTEGER\", mode=\"NULLABLE\"),\n",
    "                    bigquery.SchemaField(\"adsenseBackfillDfpMeasurableImpressions\", \"INTEGER\", mode=\"NULLABLE\"),\n",
    "                    bigquery.SchemaField(\"adsenseBackfillDfpQueries\", \"INTEGER\", mode=\"NULLABLE\"),\n",
    "                    bigquery.SchemaField(\"adsenseBackfillDfpRevenueCpm\", \"INTEGER\", mode=\"NULLABLE\"),\n",
    "                    bigquery.SchemaField(\"adsenseBackfillDfpRevenueCpc\", \"INTEGER\", mode=\"NULLABLE\"),\n",
    "                    bigquery.SchemaField(\"adsenseBackfillDfpViewableImpressions\", \"INTEGER\", mode=\"NULLABLE\"),\n",
    "                    bigquery.SchemaField(\"adsenseBackfillDfpPagesViewed\", \"INTEGER\", mode=\"NULLABLE\"),\n",
    "                    bigquery.SchemaField(\"adxBackfillDfpClicks\", \"INTEGER\", mode=\"NULLABLE\"),\n",
    "                    bigquery.SchemaField(\"adxBackfillDfpImpressions\", \"INTEGER\", mode=\"NULLABLE\"),\n",
    "                    bigquery.SchemaField(\"adxBackfillDfpMatchedQueries\", \"INTEGER\", mode=\"NULLABLE\"),\n",
    "                    bigquery.SchemaField(\"adxBackfillDfpMeasurableImpressions\", \"INTEGER\", mode=\"NULLABLE\"),\n",
    "                    bigquery.SchemaField(\"adxBackfillDfpQueries\", \"INTEGER\", mode=\"NULLABLE\"),\n",
    "                    bigquery.SchemaField(\"adxBackfillDfpRevenueCpm\", \"INTEGER\", mode=\"NULLABLE\"),\n",
    "                    bigquery.SchemaField(\"adxBackfillDfpRevenueCpc\", \"INTEGER\", mode=\"NULLABLE\"),\n",
    "                    bigquery.SchemaField(\"adxBackfillDfpViewableImpressions\", \"INTEGER\", mode=\"NULLABLE\"),\n",
    "                    bigquery.SchemaField(\"adxBackfillDfpPagesViewed\", \"INTEGER\", mode=\"NULLABLE\"),\n",
    "                    bigquery.SchemaField(\"adxClicks\", \"INTEGER\", mode=\"NULLABLE\"),\n",
    "                    bigquery.SchemaField(\"adxImpressions\", \"INTEGER\", mode=\"NULLABLE\"),\n",
    "                    bigquery.SchemaField(\"adxMatchedQueries\", \"INTEGER\", mode=\"NULLABLE\"),\n",
    "                    bigquery.SchemaField(\"adxMeasurableImpressions\", \"INTEGER\", mode=\"NULLABLE\"),\n",
    "                    bigquery.SchemaField(\"adxQueries\", \"INTEGER\", mode=\"NULLABLE\"),\n",
    "                    bigquery.SchemaField(\"adxRevenue\", \"INTEGER\", mode=\"NULLABLE\"),\n",
    "                    bigquery.SchemaField(\"adxViewableImpressions\", \"INTEGER\", mode=\"NULLABLE\"),\n",
    "                    bigquery.SchemaField(\"adxPagesViewed\", \"INTEGER\", mode=\"NULLABLE\"),\n",
    "                    bigquery.SchemaField(\"adsViewed\", \"INTEGER\", mode=\"NULLABLE\"),\n",
    "                    bigquery.SchemaField(\"adsUnitsViewed\", \"INTEGER\", mode=\"NULLABLE\"),\n",
    "                    bigquery.SchemaField(\"adsUnitsMatched\", \"INTEGER\", mode=\"NULLABLE\"),\n",
    "                    bigquery.SchemaField(\"viewableAdsViewed\", \"INTEGER\", mode=\"NULLABLE\"),\n",
    "                    bigquery.SchemaField(\"measurableAdsViewed\", \"INTEGER\", mode=\"NULLABLE\"),\n",
    "                    bigquery.SchemaField(\"adsPagesViewed\", \"INTEGER\", mode=\"NULLABLE\"),\n",
    "                    bigquery.SchemaField(\"adsClicked\", \"INTEGER\", mode=\"NULLABLE\"),\n",
    "                    bigquery.SchemaField(\"adsRevenue\", \"INTEGER\", mode=\"NULLABLE\"),\n",
    "                    bigquery.SchemaField(\"dfpAdGroup\", \"STRING\", mode=\"NULLABLE\"),\n",
    "                    bigquery.SchemaField(\"dfpAdUnits\", \"STRING\", mode=\"NULLABLE\"),\n",
    "                    bigquery.SchemaField(\"dfpNetworkId\", \"STRING\", mode=\"NULLABLE\"),\n",
    "                ],\n",
    "            ),\n",
    "        ],\n",
    "    ),\n",
    "    bigquery.SchemaField(\"fullVisitorId\", \"STRING\", mode='NULLABLE'),\n",
    "    bigquery.SchemaField(\"userId\", \"STRING\", mode='NULLABLE'),\n",
    "    bigquery.SchemaField(\"channelGrouping\", \"STRING\", mode='NULLABLE'),\n",
    "    bigquery.SchemaField(\"socialEngagementType\", \"STRING\", mode='NULLABLE'),\n",
    "])\n",
    "job_config.write_disposition = 'WRITE_APPEND'"
   ]
  },
  {
   "cell_type": "markdown",
   "id": "1590c2b7-2e34-43b6-8384-527ce2ac4bca",
   "metadata": {},
   "source": [
    "Get list of columns in the table"
   ]
  },
  {
   "cell_type": "code",
   "execution_count": null,
   "id": "515f4a3f-e2eb-43fd-874d-1ec0be3fb499",
   "metadata": {},
   "outputs": [],
   "source": [
    "cols_to_use = [f.name for f in job_config.schema]"
   ]
  },
  {
   "cell_type": "markdown",
   "id": "6615cb93-024f-425c-88c1-9f7f349f4333",
   "metadata": {},
   "source": [
    "### Appending Batch(es) of Data to BigQuery Table"
   ]
  },
  {
   "cell_type": "markdown",
   "id": "2eafb041-9380-451f-94af-1bd71af7b926",
   "metadata": {},
   "source": [
    "Append `DataFrame` for single file of data to newly-created table in BigQuery dataset"
   ]
  },
  {
   "cell_type": "code",
   "execution_count": null,
   "id": "ae377242-fe84-4490-bd14-69cf8a4651dd",
   "metadata": {},
   "outputs": [],
   "source": [
    "%%time\n",
    "job = client.load_table_from_dataframe(\n",
    "    # dfs_local[2][cols_to_use].iloc[0:13_000],\n",
    "    dfs_local[4][cols_to_use],\n",
    "    destination=f\"{gbq_dataset_id}.{gbq_table_id}\",\n",
    "    job_config=job_config,\n",
    ")\n",
    "_ = job.result()"
   ]
  },
  {
   "cell_type": "markdown",
   "id": "8e91c2c3-c90a-4cc1-abb8-40b55f1ea931",
   "metadata": {},
   "source": [
    "Count number of rows in BigQuery table"
   ]
  },
  {
   "cell_type": "code",
   "execution_count": null,
   "id": "fa8050c5-123e-4875-8b3c-987d778d5a3c",
   "metadata": {},
   "outputs": [],
   "source": [
    "table = client.get_table(gbq_table_fully_resolved)\n",
    "print(\n",
    "    f\"Found {table.num_rows:,} rows and {len(table.schema):,} columns in \"\n",
    "    f\"table {table.dataset_id}.{table.table_id}\"\n",
    ")"
   ]
  },
  {
   "cell_type": "markdown",
   "id": "7d756381-128d-4347-b67c-59edb88a27d0",
   "metadata": {},
   "source": [
    "## Read Data From Newly-Created BigQuery Table"
   ]
  },
  {
   "cell_type": "markdown",
   "id": "0e03d911-e8bc-4d23-b757-49eef6382be9",
   "metadata": {},
   "source": [
    "Authenticate to `BigQuery` using Google Cloud Service Account, in order to query BigQuery table using `pandas` (which uses the `pandas_gbq` Python library)"
   ]
  },
  {
   "cell_type": "code",
   "execution_count": null,
   "id": "9af168e6-2334-460c-a520-18ab837ac705",
   "metadata": {
    "tags": []
   },
   "outputs": [],
   "source": [
    "gcp_auth_dict = auth_to_bigquery(raw_data_dir)"
   ]
  },
  {
   "cell_type": "markdown",
   "id": "a2a045bd-3f91-413b-b1ad-8877ec434565",
   "metadata": {},
   "source": [
    "### Basic Query"
   ]
  },
  {
   "cell_type": "markdown",
   "id": "afefa1dc-650e-4eb1-95d8-8cab230b2ad6",
   "metadata": {},
   "source": [
    "Read single batch of raw GA360 tracking data covering the start and end dates defined above, drop duplicated rows (if any) and change datatypes"
   ]
  },
  {
   "cell_type": "code",
   "execution_count": null,
   "id": "df360ef5-c950-4806-9d90-b5dc8d9f64d8",
   "metadata": {
    "editable": true,
    "slideshow": {
     "slide_type": ""
    },
    "tags": []
   },
   "outputs": [],
   "source": [
    "%%time\n",
    "query = f\"\"\"\n",
    "        SELECT visitorId,\n",
    "               visitNumber,\n",
    "               visitId,\n",
    "               visitStartTime,\n",
    "               date,\n",
    "               totals,\n",
    "               trafficSource,\n",
    "               device,\n",
    "               geoNetwork,\n",
    "               customDimensions,\n",
    "               hits,\n",
    "               fullVisitorId,\n",
    "               userId,\n",
    "               channelGrouping,\n",
    "               socialEngagementType\n",
    "        FROM `{gbq_table_fully_resolved}`\n",
    "        -- LIMIT 4000\n",
    "        WHERE date BETWEEN '{date_start_str}' AND '{date_end_str}'\n",
    "        \"\"\"\n",
    "df_query = (\n",
    "    th.extract_data(query, gcp_auth_dict)\n",
    "    .pipe(th.set_datatypes, dtypes_dict_raw)\n",
    "    .pipe(th.set_datatypes, dict(zip(nested_cols, [pd.StringDtype()]*len(nested_cols))))\n",
    ")\n",
    "print(\n",
    "    len(df_query),\n",
    "    len(df_query.drop_duplicates([c for c in cols_to_use if c not in nested_cols])),\n",
    "    df_query['fullVisitorId'].nunique(),\n",
    ")\n",
    "summarize_df(df_query)"
   ]
  },
  {
   "cell_type": "markdown",
   "id": "83279b48-a25d-4d76-a86b-0d32b3af4c62",
   "metadata": {},
   "source": [
    "### Other Queries"
   ]
  },
  {
   "cell_type": "markdown",
   "id": "456c8694-65d4-49c5-8d3c-c824b9ec0867",
   "metadata": {},
   "source": [
    "Run some queries from [QuickLab](https://www.cloudskillsboost.google/focuses/1794?parent=catalog)."
   ]
  },
  {
   "cell_type": "markdown",
   "id": "0c7548b4-08a0-4d2f-81fb-4bab79cc7631",
   "metadata": {},
   "source": [
    "Task 1"
   ]
  },
  {
   "cell_type": "code",
   "execution_count": null,
   "id": "7adfaecd-79f4-4a5a-a51c-0b636eb1cef1",
   "metadata": {
    "editable": true,
    "slideshow": {
     "slide_type": ""
    },
    "tags": []
   },
   "outputs": [],
   "source": [
    "%%time\n",
    "query = f\"\"\"\n",
    "        WITH visitors AS(\n",
    "            SELECT COUNT(DISTINCT fullVisitorId) AS total_visitors\n",
    "            FROM `{gbq_table_fully_resolved}`\n",
    "            -- WHERE date BETWEEN '{date_start_str}' AND '{date_end_str}'\n",
    "        ),\n",
    "        purchasers AS (\n",
    "            SELECT COUNT(DISTINCT fullVisitorId) AS total_purchasers\n",
    "            FROM `{gbq_table_fully_resolved}`\n",
    "            -- WHERE date BETWEEN '{date_start_str}' AND '{date_end_str}'\n",
    "            WHERE totals.transactions IS NOT NULL\n",
    "        )\n",
    "        SELECT total_visitors,\n",
    "               total_purchasers,\n",
    "               100* (total_purchasers / total_visitors) AS conversion_rate\n",
    "        FROM visitors, purchasers\n",
    "        \"\"\"\n",
    "df_query = th.extract_data(query, gcp_auth_dict)\n",
    "df_query"
   ]
  },
  {
   "cell_type": "markdown",
   "id": "a51493c4-4b3c-4489-94cb-742e3d5db6d9",
   "metadata": {},
   "source": [
    "Task 2"
   ]
  },
  {
   "cell_type": "code",
   "execution_count": null,
   "id": "29d9e0e8-3353-4b09-89e0-a8cf643df1f8",
   "metadata": {
    "editable": true,
    "slideshow": {
     "slide_type": ""
    },
    "tags": []
   },
   "outputs": [],
   "source": [
    "%%time\n",
    "query = f\"\"\"\n",
    "        WITH t1 AS (\n",
    "            SELECT hits\n",
    "            FROM `{gbq_table_fully_resolved}`\n",
    "        )\n",
    "        SELECT p.v2ProductName,\n",
    "               p.v2ProductCategory,\n",
    "               SUM(p.productQuantity) AS units_sold,\n",
    "               ROUND(SUM(p.localProductRevenue/1000000),2) AS revenue\n",
    "        FROM t1,\n",
    "        UNNEST(hits) AS h,\n",
    "        UNNEST(h.product) AS p\n",
    "        GROUP BY 1, 2\n",
    "        ORDER BY revenue DESC\n",
    "        LIMIT 5\n",
    "        \"\"\"\n",
    "df_query = th.extract_data(query, gcp_auth_dict)\n",
    "df_query"
   ]
  },
  {
   "cell_type": "markdown",
   "id": "0f03f24f-56f5-4316-83b2-e8d464a6b447",
   "metadata": {},
   "source": [
    "Task 3"
   ]
  },
  {
   "cell_type": "code",
   "execution_count": null,
   "id": "f005fef8-2062-41ca-885d-cca796179694",
   "metadata": {
    "editable": true,
    "slideshow": {
     "slide_type": ""
    },
    "tags": []
   },
   "outputs": [],
   "source": [
    "%%time\n",
    "query = f\"\"\"\n",
    "        # visitors who bought on a return visit (could have bought on first as well\n",
    "        WITH all_visitor_stats AS (\n",
    "            SELECT fullvisitorid,\n",
    "                   IF(COUNTIF(totals.transactions > 0 AND totals.newVisits IS NULL) > 0, 1, 0) AS will_buy_on_return_visit\n",
    "            FROM `{gbq_table_fully_resolved}`\n",
    "            GROUP BY fullvisitorid\n",
    "        )\n",
    "        SELECT will_buy_on_return_visit,\n",
    "               COUNT(DISTINCT fullvisitorid) AS total_visitors\n",
    "        FROM all_visitor_stats\n",
    "        GROUP BY will_buy_on_return_visit\n",
    "        \"\"\"\n",
    "df_query = th.extract_data(query, gcp_auth_dict)\n",
    "df_query"
   ]
  },
  {
   "cell_type": "markdown",
   "id": "a35e3780-d46d-4dbb-83c1-8afb83b52ac0",
   "metadata": {},
   "source": [
    "Tasks 4 and 5"
   ]
  },
  {
   "cell_type": "code",
   "execution_count": null,
   "id": "9fd2da5e-d562-48b3-bb7a-03dd5f2c631f",
   "metadata": {
    "editable": true,
    "slideshow": {
     "slide_type": ""
    },
    "tags": []
   },
   "outputs": [],
   "source": [
    "%%time\n",
    "query = f\"\"\"\n",
    "        WITH t1 AS (\n",
    "            SELECT fullVisitorId,\n",
    "                   IFNULL(totals.bounces, 0) AS bounces,\n",
    "                   IFNULL(totals.timeOnSite, 0) AS time_on_site\n",
    "            FROM `{gbq_table_fully_resolved}`\n",
    "            WHERE totals.newVisits = 1\n",
    "        ),\n",
    "        t2 AS (\n",
    "            SELECT fullvisitorid,\n",
    "                   IF(COUNTIF(totals.transactions > 0 AND totals.newVisits IS NULL) > 0, 1, 0) AS will_buy_on_return_visit\n",
    "            FROM `{gbq_table_fully_resolved}`\n",
    "            GROUP BY fullvisitorid\n",
    "        )\n",
    "        SELECT *\n",
    "        FROM t1 JOIN t2 USING (fullVisitorId)\n",
    "        ORDER BY time_on_site DESC\n",
    "        \"\"\"\n",
    "df_query = th.extract_data(query, gcp_auth_dict)\n",
    "print(\n",
    "    len(df_query),\n",
    "    len(df_query.drop_duplicates(['fullVisitorId'])),\n",
    "    df_query['fullVisitorId'].nunique(),\n",
    ")\n",
    "df_query"
   ]
  }
 ],
 "metadata": {
  "kernelspec": {
   "display_name": "get-data",
   "language": "python",
   "name": "get-data"
  },
  "language_info": {
   "codemirror_mode": {
    "name": "ipython",
    "version": 3
   },
   "file_extension": ".py",
   "mimetype": "text/x-python",
   "name": "python",
   "nbconvert_exporter": "python",
   "pygments_lexer": "ipython3",
   "version": "3.11.3"
  }
 },
 "nbformat": 4,
 "nbformat_minor": 5
}
