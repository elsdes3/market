{
 "cells": [
  {
   "cell_type": "markdown",
   "id": "b2f9a841-067e-4958-ae2b-ef8beb5dfc3c",
   "metadata": {},
   "source": [
    "# Cleanup BigQuery Resources"
   ]
  },
  {
   "cell_type": "markdown",
   "id": "cf79d61a-32bf-499c-bf40-25d32feb3dac",
   "metadata": {},
   "source": [
    "::: {.content-hidden}\n",
    "Import necessary Python modules\n",
    ":::"
   ]
  },
  {
   "cell_type": "code",
   "execution_count": null,
   "id": "deb5037f-647f-412d-b563-b1a4dff938cd",
   "metadata": {
    "tags": []
   },
   "outputs": [],
   "source": [
    "import os\n",
    "import sys\n",
    "from glob import glob\n",
    "\n",
    "from google.cloud import bigquery\n",
    "from google.oauth2 import service_account"
   ]
  },
  {
   "cell_type": "markdown",
   "id": "9bb7a9df-a543-4c34-b75b-dcc44c9d8c7b",
   "metadata": {},
   "source": [
    "::: {.content-hidden}\n",
    "Get relative path to project root directory\n",
    ":::"
   ]
  },
  {
   "cell_type": "code",
   "execution_count": 3,
   "id": "462a44a1-ac63-491b-9aec-9b310b399201",
   "metadata": {
    "tags": []
   },
   "outputs": [],
   "source": [
    "PROJ_ROOT_DIR = os.path.join(os.pardir)\n",
    "src_dir = os.path.join(PROJ_ROOT_DIR, \"src\")\n",
    "sys.path.append(src_dir)"
   ]
  },
  {
   "cell_type": "markdown",
   "id": "73fadf5d-3196-4cc2-8ad4-c8d7b6fe5254",
   "metadata": {},
   "source": [
    "## User Inputs"
   ]
  },
  {
   "cell_type": "markdown",
   "id": "5f6ea9db-dbfc-40bc-b175-7753d435920b",
   "metadata": {},
   "source": [
    "Define the following\n",
    "\n",
    "1. GCP\n",
    "   - dataset id\n",
    "   - table id"
   ]
  },
  {
   "cell_type": "code",
   "execution_count": null,
   "id": "c7f5ce10-d7aa-4ae6-9f4b-83bfb14c9af5",
   "metadata": {
    "editable": true,
    "slideshow": {
     "slide_type": ""
    },
    "tags": [
     "parameters"
    ]
   },
   "outputs": [],
   "source": [
    "#| echo: true\n",
    "# 1. GCP resources\n",
    "gbq_dataset_id = 'mydemo2asdf'\n",
    "gbq_table_id = 'ecwa'"
   ]
  },
  {
   "cell_type": "markdown",
   "id": "8d1a8eae-5b20-4712-b349-2c100f67e89f",
   "metadata": {
    "editable": true,
    "slideshow": {
     "slide_type": ""
    },
    "tags": []
   },
   "source": [
    "::: {.content-hidden}\n",
    "Get path to data sub-folders\n",
    ":::"
   ]
  },
  {
   "cell_type": "code",
   "execution_count": 7,
   "id": "60a452e6-ca85-4cca-8430-e33ac877b071",
   "metadata": {
    "editable": true,
    "slideshow": {
     "slide_type": ""
    },
    "tags": []
   },
   "outputs": [],
   "source": [
    "data_dir = os.path.join(PROJ_ROOT_DIR, \"data\")\n",
    "raw_data_dir = os.path.join(data_dir, \"raw\")"
   ]
  },
  {
   "cell_type": "markdown",
   "id": "b733a029-b54d-4900-bcfc-d2b955904c7b",
   "metadata": {},
   "source": [
    "::: {.content-hidden}\n",
    "Load Google Cloud authentication credentials for use with the native BigQuery Python client\n",
    ":::"
   ]
  },
  {
   "cell_type": "code",
   "execution_count": null,
   "id": "42107116-73a2-49a7-97a5-940ba8fbbc63",
   "metadata": {},
   "outputs": [],
   "source": [
    "gcp_proj_id = os.environ[\"GCP_PROJECT_ID\"]\n",
    "gcp_creds_fpath = glob(os.path.join(raw_data_dir, \"*.json\"))[0]\n",
    "gcp_creds = service_account.Credentials.from_service_account_file(\n",
    "    gcp_creds_fpath\n",
    ")"
   ]
  },
  {
   "cell_type": "markdown",
   "id": "03f3fc2a-a4dc-4871-9872-ba13e3e51d31",
   "metadata": {},
   "source": [
    "::: {.content-hidden}\n",
    "Get fully resolved name of the BigQuery table\n",
    ":::"
   ]
  },
  {
   "cell_type": "code",
   "execution_count": null,
   "id": "7170fcaa-8aec-4ce8-bcbe-dec079539084",
   "metadata": {},
   "outputs": [],
   "source": [
    "gbq_table_fully_resolved = f\"{gcp_proj_id}.{gbq_dataset_id}.{gbq_table_id}\""
   ]
  },
  {
   "cell_type": "markdown",
   "id": "2378d944-7dfc-465a-8c7f-b48b8a4e3278",
   "metadata": {},
   "source": [
    "::: {.content-hidden}\n",
    "Create authenticated native BigQuery Python client\n",
    ":::"
   ]
  },
  {
   "cell_type": "code",
   "execution_count": null,
   "id": "5775fa64-0f2c-4ffe-88c4-4f56dfca3072",
   "metadata": {},
   "outputs": [],
   "source": [
    "client = bigquery.Client(project=gcp_proj_id, credentials=gcp_creds)"
   ]
  },
  {
   "cell_type": "markdown",
   "id": "4264431c-7cdc-4a00-954b-27ef1c7297da",
   "metadata": {
    "editable": true,
    "slideshow": {
     "slide_type": ""
    },
    "tags": []
   },
   "source": [
    "## Delete Newly-Created BigQuery Table"
   ]
  },
  {
   "cell_type": "code",
   "execution_count": null,
   "id": "f8a40879-513a-4742-8762-5acd3d461f38",
   "metadata": {},
   "outputs": [],
   "source": [
    "client.delete_table(gbq_table_fully_resolved)\n",
    "print(f\"Deleted table {gbq_table_fully_resolved}\")"
   ]
  }
 ],
 "metadata": {
  "kernelspec": {
   "display_name": "cleanup",
   "language": "python",
   "name": "cleanup"
  },
  "language_info": {
   "codemirror_mode": {
    "name": "ipython",
    "version": 3
   },
   "file_extension": ".py",
   "mimetype": "text/x-python",
   "name": "python",
   "nbconvert_exporter": "python",
   "pygments_lexer": "ipython3",
   "version": "3.11.3"
  }
 },
 "nbformat": 4,
 "nbformat_minor": 5
}
