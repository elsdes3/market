{
 "cells": [
  {
   "cell_type": "markdown",
   "id": "799f6d08-f677-43d4-bc56-9f718d0098e6",
   "metadata": {},
   "source": [
    "# Get Randomized Audience Cohorts From Inference"
   ]
  },
  {
   "cell_type": "code",
   "execution_count": 1,
   "id": "fb96fe94-a123-4ae3-bfe1-ee249ee6cadb",
   "metadata": {
    "tags": []
   },
   "outputs": [],
   "source": [
    "%load_ext autoreload\n",
    "%autoreload 2"
   ]
  },
  {
   "cell_type": "markdown",
   "id": "3e59c27c-3fe4-4f84-b41b-eb393479e9a6",
   "metadata": {},
   "source": [
    "::: {.content-hidden}\n",
    "Import necessary Python modules\n",
    ":::"
   ]
  },
  {
   "cell_type": "code",
   "execution_count": 2,
   "id": "c2a6cb18-5b30-4d97-9bee-2e163fd56e20",
   "metadata": {
    "tags": []
   },
   "outputs": [],
   "source": [
    "import os\n",
    "import sys\n",
    "from calendar import month_name\n",
    "from datetime import datetime\n",
    "\n",
    "import mlflow.sklearn\n",
    "import pandas as pd"
   ]
  },
  {
   "cell_type": "markdown",
   "id": "56997ab3-1193-4885-b304-76862fa6ee37",
   "metadata": {},
   "source": [
    "::: {.content-hidden}\n",
    "Get relative path to project root directory\n",
    ":::"
   ]
  },
  {
   "cell_type": "code",
   "execution_count": 3,
   "id": "d6b0a033-8586-4e1e-94f2-f9e427b32776",
   "metadata": {
    "tags": []
   },
   "outputs": [],
   "source": [
    "PROJ_ROOT_DIR = os.path.join(os.pardir)\n",
    "src_dir = os.path.join(PROJ_ROOT_DIR, \"src\")\n",
    "\n",
    "sys.path.append(src_dir)"
   ]
  },
  {
   "cell_type": "markdown",
   "id": "8dfef4b7-7e88-4756-bbb7-68002f12b798",
   "metadata": {},
   "source": [
    "::: {.content-hidden}\n",
    "Import custom Python modules\n",
    ":::"
   ]
  },
  {
   "cell_type": "code",
   "execution_count": 4,
   "id": "818a2fe3-b025-4cb4-9feb-3ff59ca65cdb",
   "metadata": {},
   "outputs": [],
   "source": [
    "%aimport audience_size_helpers\n",
    "import audience_size_helpers as ash\n",
    "\n",
    "%aimport bigquery_auth_helpers\n",
    "from bigquery_auth_helpers import auth_to_bigquery\n",
    "\n",
    "%aimport cohorts\n",
    "import cohorts as ch\n",
    "\n",
    "%aimport model_helpers\n",
    "import model_helpers as modh\n",
    "\n",
    "%aimport profile_audience\n",
    "import profile_audience as pa\n",
    "\n",
    "%aimport sql_helpers\n",
    "import sql_helpers as sqlh\n",
    "\n",
    "%aimport transform_helpers\n",
    "import transform_helpers as th\n",
    "\n",
    "%aimport utils\n",
    "import utils as ut"
   ]
  },
  {
   "cell_type": "markdown",
   "id": "22e13b72-af34-467d-96e6-ed0350e37fdc",
   "metadata": {},
   "source": [
    "## About"
   ]
  },
  {
   "cell_type": "markdown",
   "id": "50dd08e7-7ab4-4975-a01c-c6bcd4de05e9",
   "metadata": {},
   "source": [
    "### Overview\n",
    "\n",
    "This step generates the randomized test and control cohorts needed to run a marketing campaign. The impact of the campaign on conversions (KPI) will be assessed using an A/B test at the end of the campaign. The randomized cohorts are needed in order to conduct this test. This is step 4. from a [typical A/B Testing workflow](https://www.datacamp.com/blog/data-demystified-what-is-a-b-testing).\n",
    "\n",
    "### Order of Operations\n",
    "This step can be run prospectively at the end of the inference period, just before the start of the campaign, when all the inference data (first-time visitors to the store) becomes available.\n",
    "\n",
    "For the current use-case, the required sizes of one or more audience groups have been determined in the previous step. Recall that an audience strategy determines if one of more groups are used. For a strategy consisting of a single audience group, only the visitors predicted to have a high propensity to make a purchase on a return visit are selected to participate in the campaign and so randomized cohorts are to be drawn from this single group. For multiple audience groups, namely visitors predicted to have a low, medium or high propensity, randomized cohorts are to be drawn from each such group.\n",
    "\n",
    "With this in mind, this step first assigns all first-time visitors to the store during the inference period to an audience group based on the requied audience strategy (single or multiple audience groups).\n",
    "\n",
    "Next, before generating audience cohorts, features in the unseen (inference) data are checked for data drift relative to the test data used during ML model development.\n",
    "\n",
    "1. Use statistical tests, that are called as part of EvidentlyAI's data drift monitor ([1](https://www.evidentlyai.com/blog/tutorial-3-historical-data-drift), [2](https://github.com/evidentlyai/evidently/blob/main/examples/integrations/mlflow_logging/historical_drift_visualization.ipynb)) [for tabular data](https://docs.evidentlyai.com/user-guide/customization/options-for-statistical-tests#tabular-drift-detection). The following [statistical tests and logic are used by EvidentlyAI](https://docs.evidentlyai.com/reference/data-drift-algorithm#tabular-data) and are also implemented here\n",
    "   - numerical features with less than or equal to 1,000 observations (this is not used here since the inference data consists of more than 1,000 observations during the inference data period)\n",
    "     - [Kolmogorov-Smirnov goodness-of-fit Test (two-sample version)](https://docs.scipy.org/doc/scipy/reference/generated/scipy.stats.kstest.html#scipy.stats.kstest)\n",
    "   - numerical features with more than 1,000 observations (this is the case here since the inference data has more than 1,000 first-time visitors during the inference data period)\n",
    "     - [Wasserstein distance](https://docs.scipy.org/doc/scipy/reference/generated/scipy.stats.wasserstein_distance.html#scipy.stats.wasserstein_distance)\n",
    "   - categorical features with less than or equal to 1,000 observations (not used here)\n",
    "     - [chi-squared goodness-of-fit test](https://docs.scipy.org/doc/scipy/reference/generated/scipy.stats.chi2.html#scipy.stats.chi2)\n",
    "   - categorical features with more than 1,000 observations (used here)\n",
    "     - [Jensen-Shannon distance](https://docs.scipy.org/doc/scipy/reference/generated/scipy.spatial.distance.jensenshannon.html#scipy.spatial.distance.jensenshannon)\n",
    "\n",
    "   Here, a custom function is defined to manually implement these tests on the unseen (inference) data.\n",
    "3. Perform sanity checks on the data, by directly using EvidentlyAI's data test suite ([1](https://docs.evidentlyai.com/get-started/tutorial#7.-run-data-stability-tests), [2](https://docs.evidentlyai.com/user-guide/tests-and-reports/run-tests#using-test-presets)). A suite consisting of the following tests is applied to the unseen (inference) data in order to test that the number of\n",
    "   - columns with missing values (columns with at least one missing value)\n",
    "   - rows with missing values \n",
    "   - constant (single-valued) columns\n",
    "   - duplicated rows (rows that are duplicates)\n",
    "   - duplicated columns (columns that are duplicates)\n",
    "   - column datatypes\n",
    "   - empty columns (all values in a column are missing)\n",
    "   - empty rows (all values in a row are missing)\n",
    "   - rows with missing values (rows with at least one missing value)\n",
    "   - number of columns\n",
    "\n",
    "   in the unseen (inference) data equals the number in the reference data (test split).\n",
    "\n",
    "Finally, within each audience group, visitors are randomly assigned to test or control cohorts. A brief profile of each audience group is then performed using attributes of the visitors' first visit. The profile and the inference data with the audience group and cohort for each first-time visitor during the inference period can be used by the marketing team to design and implement the marketing campaign aimed at growing the customer base.\n",
    "\n",
    "### Implementation\n",
    "\n",
    "A custom python module in `src/cohorts.py` has been developed to create the test and control audience cohorts based on required sample sizes that were estimated in the previous step and logged as a MLFlow artifact (file) for the best MLFlow deployment candidate model.\n",
    "\n",
    "The procedure followed in this step is briefle outlined below\n",
    "\n",
    "1. the MLFlow artifact (file) is loaded in order to access the required sample sizes for each\n",
    "   - audience strategy\n",
    "   - desired combination of effect sizes (power, confidence level and uplift)\n",
    "2. the file is filtered based on the\n",
    "   - audience strategy\n",
    "   - desired combination of effect sizes (see `wanted_effect_sizes` from **User Inputs**)\n",
    "3. inference data (first-time visitors) is retrieved and the best ML model is used to make inference predictions of the propensity of these visitors to make a purchase on a return (future) visit to the store.\n",
    "4. propensities are used to assign first-time visitors to audience groups (or bins)\n",
    "   - if the desired audience strategy is for a single audience group, then visitors are placed into a single bin\n",
    "   - if the desired audience strategy is for multiple audience groups, then multiple bins are creaed\n",
    "5. for each bin (audience group), visitors are randomly placed into test and control cohorts\n",
    "6. the inference data with\n",
    "   - predicted propensity (probability)\n",
    "   - audience group\n",
    "   - cohort (test or control)\n",
    "\n",
    "   is then logged as a MLFlow artifact for use by the marketing team to build and design the campaign."
   ]
  },
  {
   "cell_type": "markdown",
   "id": "3d72adb6-d930-4d8f-b22f-0a636839b584",
   "metadata": {},
   "source": [
    "## User Inputs"
   ]
  },
  {
   "cell_type": "markdown",
   "id": "81d847fb-7186-4c5d-96e5-f19ab54f6ae2",
   "metadata": {},
   "source": [
    "Define the following\n",
    "\n",
    "1. start and end dates for inference data\n",
    "2. name of column containing label (outcome)\n",
    "3. list of categorical features\n",
    "4. list of numerical features, including categorical features present in the raw data as integers\n",
    "5. `audience_groups`\n",
    "   - desired audience groups into which the first-time visitors propensities will be placed\n",
    "     - `num_propens_groups` specifies the number of desired audience propensity groups (low, medium and high)\n",
    "     - `propens_group_labels` specifies names of the desired audience propensity groups\n",
    "6. inputs (uplift, powerm confidence level) for which random cohort sizes are to be created\n",
    "7. type of audience strategy (single- or multi- group) from which to create cohorts"
   ]
  },
  {
   "cell_type": "code",
   "execution_count": 5,
   "id": "d9c29870-bc7b-47db-b786-644397a86470",
   "metadata": {
    "tags": [
     "parameters"
    ]
   },
   "outputs": [],
   "source": [
    "#| echo: true\n",
    "# 1. start and end dates\n",
    "infer_start_date = \"20170301\"\n",
    "infer_end_date = \"20170331\"\n",
    "\n",
    "# 2. label column\n",
    "label = \"made_purchase_on_future_visit\"\n",
    "\n",
    "# 3. categorical column\n",
    "categoricals=[\n",
    "    'bounces',\n",
    "    'source',\n",
    "    'medium',\n",
    "    'channelGrouping',\n",
    "    'last_action',\n",
    "    'browser',\n",
    "    'os',\n",
    "    'deviceCategory',\n",
    "]\n",
    "\n",
    "# 4. numerical columns\n",
    "numericals=[\n",
    "    'hits',\n",
    "    'pageviews',\n",
    "    'promos_displayed',\n",
    "    'product_views',\n",
    "    'product_clicks',\n",
    "    'time_on_site',\n",
    "]\n",
    "\n",
    "# 5. mapping dictionaries\n",
    "audience_groups_strategy_1 = {\n",
    "    \"num_propens_groups\": 3,\n",
    "    \"propens_group_labels\": [\"High\", \"Medium\", \"Low\"],\n",
    "}\n",
    "audience_groups_strategy_2 = {\n",
    "    \"num_propens_groups\": 3,\n",
    "    \"propens_group_labels\": [\"High\", \"High-Medium\", \"High-Medium-Low\"],\n",
    "}\n",
    "\n",
    "# 6. wanted inputs for estimating sample sizes\n",
    "wanted_inputs = {\n",
    "    \"uplift_percentage\": 10,\n",
    "    \"power_percentage\": 55,\n",
    "    \"confidence_level_percentage\": 55,\n",
    "}\n",
    "\n",
    "# 7. type of audience strategy to use when creating groups\n",
    "audience_strategy = 1"
   ]
  },
  {
   "cell_type": "markdown",
   "id": "dd01cd2b-1273-43dd-b9c6-1d0b07486ccc",
   "metadata": {},
   "source": [
    "::: {.content-hidden}\n",
    "Get path to data sub-folders\n",
    ":::"
   ]
  },
  {
   "cell_type": "code",
   "execution_count": 6,
   "id": "40281f07-40b0-45e5-bf5a-05ac15cc3224",
   "metadata": {
    "tags": []
   },
   "outputs": [],
   "source": [
    "data_dir = os.path.join(PROJ_ROOT_DIR, \"data\")\n",
    "raw_data_dir = os.path.join(data_dir, \"raw\")\n",
    "processed_data_dir = os.path.join(data_dir, \"processed\")"
   ]
  },
  {
   "cell_type": "markdown",
   "id": "27471c8a-6dcb-44ef-a1b6-48ab319537b5",
   "metadata": {},
   "source": [
    "Create a mapping between audience group number (0, 1, 2) and group name"
   ]
  },
  {
   "cell_type": "code",
   "execution_count": 7,
   "id": "9287ab7f-1567-4614-b1b5-61c6c130f065",
   "metadata": {
    "tags": []
   },
   "outputs": [
    {
     "name": "stdout",
     "output_type": "stream",
     "text": [
      "{0: 'High', 1: 'Medium', 2: 'Low'}\n",
      "{0: 'High', 1: 'High-Medium', 2: 'High-Medium-Low'}\n"
     ]
    }
   ],
   "source": [
    "#| echo: true\n",
    "mapper_dict_audience_strategy_1 = dict(\n",
    "    zip(\n",
    "        range(audience_groups_strategy_1[\"num_propens_groups\"]),\n",
    "        audience_groups_strategy_1[\"propens_group_labels\"],\n",
    "    )\n",
    ")\n",
    "mapper_dict_audience_strategy_2 = dict(\n",
    "    zip(\n",
    "        range(audience_groups_strategy_2[\"num_propens_groups\"]),\n",
    "        audience_groups_strategy_2[\"propens_group_labels\"],\n",
    "    )\n",
    ")\n",
    "print(mapper_dict_audience_strategy_1)\n",
    "print(mapper_dict_audience_strategy_2)"
   ]
  },
  {
   "cell_type": "markdown",
   "id": "1d0c9c02-eacb-46ec-aa6e-f0a6bb9f79b2",
   "metadata": {},
   "source": [
    "Get desired effect size queries and number of audience groups"
   ]
  },
  {
   "cell_type": "code",
   "execution_count": 8,
   "id": "57160113-e26b-40c1-8254-289a9e73df9c",
   "metadata": {
    "tags": []
   },
   "outputs": [],
   "source": [
    "#| echo: true\n",
    "if audience_strategy == 1:\n",
    "    query_inputs = (\n",
    "        f\"(uplift == {wanted_inputs['uplift_percentage']}) & \"\n",
    "        f\"(power == {wanted_inputs['power_percentage']}) & \"\n",
    "        f\"(ci_level == {wanted_inputs['confidence_level_percentage']})\"\n",
    "    )\n",
    "else:\n",
    "    query_inputs = (\n",
    "        f\"(group_size_proportion < 34) & \"\n",
    "        f\"(uplift == {wanted_inputs['uplift_percentage']}) & \"\n",
    "        f\"(power == {wanted_inputs['power_percentage']}) & \"\n",
    "        f\"(ci_level == {wanted_inputs['confidence_level_percentage']})\"\n",
    "    )\n",
    "\n",
    "num_bins = (\n",
    "    audience_groups_strategy_1[\"num_propens_groups\"]\n",
    "    if audience_strategy == 1\n",
    "    else audience_groups_strategy_2[\"num_propens_groups\"]\n",
    ")"
   ]
  },
  {
   "cell_type": "markdown",
   "id": "8c240a93-232f-4b24-bc57-c897f4f2344c",
   "metadata": {},
   "source": [
    "::: {.content-hidden}\n",
    "Define MLFlow storage paths\n",
    ":::"
   ]
  },
  {
   "cell_type": "code",
   "execution_count": 9,
   "id": "a451e801-5fd8-4d71-bbb3-c37ba907410e",
   "metadata": {
    "tags": []
   },
   "outputs": [],
   "source": [
    "mlruns_db_fpath = f\"{raw_data_dir}/mlruns.db\"\n",
    "mlflow.set_tracking_uri(f\"sqlite:///{mlruns_db_fpath}\")"
   ]
  },
  {
   "cell_type": "markdown",
   "id": "6b0f9d09-f4a0-4295-9798-37ee44053046",
   "metadata": {},
   "source": [
    "::: {.content-hidden}\n",
    "Set environment variable to silence MLFlow `git` warning messsage\n",
    ":::"
   ]
  },
  {
   "cell_type": "code",
   "execution_count": 10,
   "id": "e5145b91-013b-4c37-95a7-2627c4cc132c",
   "metadata": {
    "tags": []
   },
   "outputs": [],
   "source": [
    "os.environ[\"GIT_PYTHON_REFRESH\"] = \"quiet\""
   ]
  },
  {
   "cell_type": "markdown",
   "id": "21c02a2b-2e02-4a23-a168-43700f52c8dc",
   "metadata": {},
   "source": [
    "::: {.content-hidden}\n",
    "Define a dictionary to specify datatypes of the transformed *inference* data\n",
    ":::"
   ]
  },
  {
   "cell_type": "code",
   "execution_count": 11,
   "id": "6ad01423-d2e5-4047-9dfa-f1cb620cbcc7",
   "metadata": {
    "tags": []
   },
   "outputs": [],
   "source": [
    "dtypes_dict = {\n",
    "    \"fullvisitorid\": pd.StringDtype(),\n",
    "    \"visitId\": pd.StringDtype(),\n",
    "    \"visitNumber\": pd.Int8Dtype(),\n",
    "    \"quarter\": pd.Int8Dtype(),\n",
    "    \"month\": pd.Int8Dtype(),\n",
    "    \"day_of_month\": pd.Int8Dtype(),\n",
    "    \"day_of_week\": pd.Int8Dtype(),\n",
    "    \"hour\": pd.Int8Dtype(),\n",
    "    \"minute\": pd.Int8Dtype(),\n",
    "    \"second\": pd.Int8Dtype(),\n",
    "    \"source\": pd.CategoricalDtype(),\n",
    "    \"medium\": pd.CategoricalDtype(),\n",
    "    \"channelGrouping\": pd.CategoricalDtype(),\n",
    "    \"hits\": pd.Int16Dtype(),\n",
    "    \"bounces\": pd.CategoricalDtype(),\n",
    "    \"last_action\": pd.CategoricalDtype(),\n",
    "    \"promos_displayed\": pd.Int16Dtype(),\n",
    "    \"promos_clicked\": pd.Int16Dtype(),\n",
    "    \"product_views\": pd.Int16Dtype(),\n",
    "    \"product_clicks\": pd.Int16Dtype(),\n",
    "    \"pageviews\": pd.Int16Dtype(),\n",
    "    \"time_on_site\": pd.Int16Dtype(),\n",
    "    \"browser\": pd.CategoricalDtype(),\n",
    "    \"os\": pd.CategoricalDtype(),\n",
    "    \"added_to_cart\": pd.Int16Dtype(),\n",
    "    \"deviceCategory\": pd.CategoricalDtype(),\n",
    "    \"made_purchase_on_future_visit\": pd.Int8Dtype(),\n",
    "}"
   ]
  },
  {
   "cell_type": "markdown",
   "id": "73a5b761-84cd-4379-bcac-160ebc264c23",
   "metadata": {},
   "source": [
    "::: {.content-hidden}\n",
    "Create a mapping between action type integer and label, in order to get meaningful names from the `action_type` column\n",
    ":::"
   ]
  },
  {
   "cell_type": "code",
   "execution_count": 12,
   "id": "41d566c8-1d9b-45bf-9c46-be7ace76cfe3",
   "metadata": {
    "tags": []
   },
   "outputs": [],
   "source": [
    "action_mapper = {\n",
    "    1: \"Click through of product lists\",\n",
    "    2: \"Product detail views\",\n",
    "    3: \"Add product(s) to cart\",\n",
    "    4: \"Remove product(s) from cart\",\n",
    "    5: \"Check out\",\n",
    "    6: \"Completed purchase\",\n",
    "    7: \"Refund of purchase\",\n",
    "    8: \"Checkout options\",\n",
    "    0: \"Unknown\",\n",
    "}"
   ]
  },
  {
   "cell_type": "markdown",
   "id": "2805e750-09da-4ccb-964b-ef830d15c3f6",
   "metadata": {},
   "source": [
    "::: {.content-hidden}\n",
    "## Authenticate to `BigQuery`\n",
    ":::"
   ]
  },
  {
   "cell_type": "code",
   "execution_count": 13,
   "id": "7fef36e6-0a50-4b50-bc34-9c84ded93937",
   "metadata": {
    "tags": []
   },
   "outputs": [],
   "source": [
    "gcp_auth_dict = auth_to_bigquery(raw_data_dir)"
   ]
  },
  {
   "cell_type": "markdown",
   "id": "de4b431a-d238-431d-b10f-7f64ce35d520",
   "metadata": {},
   "source": [
    "## Get Inference Data"
   ]
  },
  {
   "cell_type": "code",
   "execution_count": 14,
   "id": "8a796359-ee66-4ed1-81af-d1df0a88bf49",
   "metadata": {
    "tags": []
   },
   "outputs": [
    {
     "name": "stdout",
     "output_type": "stream",
     "text": [
      "Query execution start time = 2023-05-28 12:09:53.112...done at 2023-05-28 12:10:00.562 (7.450 seconds).\n",
      "Query returned 21,768 rows\n",
      "Got 21,752 rows and 27 columns after dropping duplicates\n",
      "Transformed data has 21,752 rows & 27 columns\n"
     ]
    }
   ],
   "source": [
    "#| echo: true\n",
    "query_infer = sqlh.get_sql_query_infer(infer_start_date, infer_end_date)\n",
    "X_infer, _ = th.extract_data(query_infer, gcp_auth_dict).pipe(\n",
    "    th.transform_data,\n",
    "    datatypes_dict={k:v for k,v in dtypes_dict.items() if k != label},\n",
    "    duplicate_cols=[\"fullvisitorid\"],\n",
    "    column_mapper_dict={'last_action': action_mapper},\n",
    ")\n",
    "X_infer = X_infer.pipe(th.shuffle_data)"
   ]
  },
  {
   "cell_type": "markdown",
   "id": "a0d8231d-6c46-415c-b364-baffc160004e",
   "metadata": {},
   "source": [
    "Get the size of each audience cohort in the inference data"
   ]
  },
  {
   "cell_type": "code",
   "execution_count": 15,
   "id": "56f443e2-0bea-491c-9c42-2e15d055bdf3",
   "metadata": {
    "tags": []
   },
   "outputs": [],
   "source": [
    "#| echo: true\n",
    "bin_size_infer = len(X_infer) / num_bins\n",
    "bin_size_infer_control = int(bin_size_infer / 2)"
   ]
  },
  {
   "cell_type": "markdown",
   "id": "abaae8f6-0ba5-4998-bd82-7687b5f2adb9",
   "metadata": {},
   "source": [
    "## Get Model"
   ]
  },
  {
   "cell_type": "markdown",
   "id": "7470ba2b-43fc-4cc5-b3a9-c4657934324e",
   "metadata": {},
   "source": [
    "### Fetch Latest Version of Best Deployment Candidate Model from Model Registry"
   ]
  },
  {
   "cell_type": "markdown",
   "id": "27536bf0-4fc3-4786-a193-eca06dc0f69f",
   "metadata": {},
   "source": [
    "Get name of best deployment candidate model from model registry"
   ]
  },
  {
   "cell_type": "code",
   "execution_count": 16,
   "id": "9ee1ea27-74f3-4687-b34b-e5805bd34a31",
   "metadata": {
    "tags": []
   },
   "outputs": [
    {
     "data": {
      "text/html": [
       "<div>\n",
       "<style scoped>\n",
       "    .dataframe tbody tr th:only-of-type {\n",
       "        vertical-align: middle;\n",
       "    }\n",
       "\n",
       "    .dataframe tbody tr th {\n",
       "        vertical-align: top;\n",
       "    }\n",
       "\n",
       "    .dataframe thead th {\n",
       "        text-align: right;\n",
       "    }\n",
       "</style>\n",
       "<table border=\"1\" class=\"dataframe\">\n",
       "  <thead>\n",
       "    <tr style=\"text-align: right;\">\n",
       "      <th></th>\n",
       "      <th>name</th>\n",
       "      <th>description</th>\n",
       "      <th>run_id</th>\n",
       "      <th>tags</th>\n",
       "      <th>version</th>\n",
       "      <th>score</th>\n",
       "    </tr>\n",
       "  </thead>\n",
       "  <tbody>\n",
       "    <tr>\n",
       "      <th>0</th>\n",
       "      <td>BetaDistClassifier_20160901_20170228_133892_feats__20230526_214629</td>\n",
       "      <td>Best Model based on fbeta2 score of 0.4953794479</td>\n",
       "      <td>6c229408d32348f7bf84c5f2c78fdb87</td>\n",
       "      <td>{'deployment-candidate': 'yes'}</td>\n",
       "      <td>2</td>\n",
       "      <td>0.495379</td>\n",
       "    </tr>\n",
       "  </tbody>\n",
       "</table>\n",
       "</div>"
      ],
      "text/plain": [
       "                                                                 name   \n",
       "0  BetaDistClassifier_20160901_20170228_133892_feats__20230526_214629  \\\n",
       "\n",
       "                                        description   \n",
       "0  Best Model based on fbeta2 score of 0.4953794479  \\\n",
       "\n",
       "                             run_id                             tags version   \n",
       "0  6c229408d32348f7bf84c5f2c78fdb87  {'deployment-candidate': 'yes'}       2  \\\n",
       "\n",
       "      score  \n",
       "0  0.495379  "
      ]
     },
     "metadata": {},
     "output_type": "display_data"
    }
   ],
   "source": [
    "#| echo: true\n",
    "df_deployment_candidate_mlflow_models = modh.get_all_deployment_candidate_models()\n",
    "best_run_model_name = modh.get_best_deployment_candidate_model(\n",
    "    df_deployment_candidate_mlflow_models\n",
    ")\n",
    "with pd.option_context(\"display.max_colwidth\", None):\n",
    "    display(df_deployment_candidate_mlflow_models)"
   ]
  },
  {
   "cell_type": "markdown",
   "id": "a34aedcb-407c-4095-90c8-9b42eb299473",
   "metadata": {},
   "source": [
    "::: {.content-hidden}\n",
    "Load best deployment candidate model object\n",
    ":::"
   ]
  },
  {
   "cell_type": "code",
   "execution_count": 17,
   "id": "b14fe2ab-9fc3-40e5-8a82-89dcab7fb6f8",
   "metadata": {
    "tags": []
   },
   "outputs": [
    {
     "data": {
      "text/html": [
       "<style>#sk-container-id-1 {color: black;background-color: white;}#sk-container-id-1 pre{padding: 0;}#sk-container-id-1 div.sk-toggleable {background-color: white;}#sk-container-id-1 label.sk-toggleable__label {cursor: pointer;display: block;width: 100%;margin-bottom: 0;padding: 0.3em;box-sizing: border-box;text-align: center;}#sk-container-id-1 label.sk-toggleable__label-arrow:before {content: \"▸\";float: left;margin-right: 0.25em;color: #696969;}#sk-container-id-1 label.sk-toggleable__label-arrow:hover:before {color: black;}#sk-container-id-1 div.sk-estimator:hover label.sk-toggleable__label-arrow:before {color: black;}#sk-container-id-1 div.sk-toggleable__content {max-height: 0;max-width: 0;overflow: hidden;text-align: left;background-color: #f0f8ff;}#sk-container-id-1 div.sk-toggleable__content pre {margin: 0.2em;color: black;border-radius: 0.25em;background-color: #f0f8ff;}#sk-container-id-1 input.sk-toggleable__control:checked~div.sk-toggleable__content {max-height: 200px;max-width: 100%;overflow: auto;}#sk-container-id-1 input.sk-toggleable__control:checked~label.sk-toggleable__label-arrow:before {content: \"▾\";}#sk-container-id-1 div.sk-estimator input.sk-toggleable__control:checked~label.sk-toggleable__label {background-color: #d4ebff;}#sk-container-id-1 div.sk-label input.sk-toggleable__control:checked~label.sk-toggleable__label {background-color: #d4ebff;}#sk-container-id-1 input.sk-hidden--visually {border: 0;clip: rect(1px 1px 1px 1px);clip: rect(1px, 1px, 1px, 1px);height: 1px;margin: -1px;overflow: hidden;padding: 0;position: absolute;width: 1px;}#sk-container-id-1 div.sk-estimator {font-family: monospace;background-color: #f0f8ff;border: 1px dotted black;border-radius: 0.25em;box-sizing: border-box;margin-bottom: 0.5em;}#sk-container-id-1 div.sk-estimator:hover {background-color: #d4ebff;}#sk-container-id-1 div.sk-parallel-item::after {content: \"\";width: 100%;border-bottom: 1px solid gray;flex-grow: 1;}#sk-container-id-1 div.sk-label:hover label.sk-toggleable__label {background-color: #d4ebff;}#sk-container-id-1 div.sk-serial::before {content: \"\";position: absolute;border-left: 1px solid gray;box-sizing: border-box;top: 0;bottom: 0;left: 50%;z-index: 0;}#sk-container-id-1 div.sk-serial {display: flex;flex-direction: column;align-items: center;background-color: white;padding-right: 0.2em;padding-left: 0.2em;position: relative;}#sk-container-id-1 div.sk-item {position: relative;z-index: 1;}#sk-container-id-1 div.sk-parallel {display: flex;align-items: stretch;justify-content: center;background-color: white;position: relative;}#sk-container-id-1 div.sk-item::before, #sk-container-id-1 div.sk-parallel-item::before {content: \"\";position: absolute;border-left: 1px solid gray;box-sizing: border-box;top: 0;bottom: 0;left: 50%;z-index: -1;}#sk-container-id-1 div.sk-parallel-item {display: flex;flex-direction: column;z-index: 1;position: relative;background-color: white;}#sk-container-id-1 div.sk-parallel-item:first-child::after {align-self: flex-end;width: 50%;}#sk-container-id-1 div.sk-parallel-item:last-child::after {align-self: flex-start;width: 50%;}#sk-container-id-1 div.sk-parallel-item:only-child::after {width: 0;}#sk-container-id-1 div.sk-dashed-wrapped {border: 1px dashed gray;margin: 0 0.4em 0.5em 0.4em;box-sizing: border-box;padding-bottom: 0.4em;background-color: white;}#sk-container-id-1 div.sk-label label {font-family: monospace;font-weight: bold;display: inline-block;line-height: 1.2em;}#sk-container-id-1 div.sk-label-container {text-align: center;}#sk-container-id-1 div.sk-container {/* jupyter's `normalize.less` sets `[hidden] { display: none; }` but bootstrap.min.css set `[hidden] { display: none !important; }` so we also need the `!important` here to be able to override the default hidden behavior on the sphinx rendered scikit-learn.org. See: https://github.com/scikit-learn/scikit-learn/issues/21755 */display: inline-block !important;position: relative;}#sk-container-id-1 div.sk-text-repr-fallback {display: none;}</style><div id=\"sk-container-id-1\" class=\"sk-top-container\"><div class=\"sk-text-repr-fallback\"><pre>Pipeline(steps=[(&#x27;preprocessor&#x27;,\n",
       "                 ColumnTransformer(transformers=[(&#x27;num&#x27;,\n",
       "                                                  Pipeline(steps=[(&#x27;aboveavg&#x27;,\n",
       "                                                                   AboveAveragePagePromoEngager(cols=[&#x27;hits&#x27;,\n",
       "                                                                                                      &#x27;promos_displayed&#x27;,\n",
       "                                                                                                      &#x27;promos_clicked&#x27;,\n",
       "                                                                                                      &#x27;product_views&#x27;,\n",
       "                                                                                                      &#x27;product_clicks&#x27;,\n",
       "                                                                                                      &#x27;pageviews&#x27;,\n",
       "                                                                                                      &#x27;time_on_site&#x27;])),\n",
       "                                                                  (&#x27;scaler&#x27;,\n",
       "                                                                   MinMaxScaler())]),\n",
       "                                                  [&#x27;hits&#x27;, &#x27;promos_displayed&#x27;,\n",
       "                                                   &#x27;promos_clicked&#x27;,\n",
       "                                                   &#x27;product_views&#x27;,\n",
       "                                                   &#x27;product_clicks&#x27;,\n",
       "                                                   &#x27;page...\n",
       "                                                                   OneHotEncoder(drop=&#x27;first&#x27;,\n",
       "                                                                                 dtype=&lt;class &#x27;int&#x27;&gt;,\n",
       "                                                                                 handle_unknown=&#x27;ignore&#x27;))]),\n",
       "                                                  [&#x27;bounces&#x27;, &#x27;last_action&#x27;,\n",
       "                                                   &#x27;source&#x27;, &#x27;medium&#x27;,\n",
       "                                                   &#x27;channelGrouping&#x27;, &#x27;browser&#x27;,\n",
       "                                                   &#x27;os&#x27;, &#x27;deviceCategory&#x27;])])),\n",
       "                (&#x27;select&#x27;, DropCorrelatedFeatures(threshold=0.7)),\n",
       "                (&#x27;resampler&#x27;,\n",
       "                 RandomOverSampler(random_state=88, sampling_strategy=0.1)),\n",
       "                [&#x27;clf&#x27;, BetaDistClassifier(a=0.45, b=2.35, random_state=88)]])</pre><b>In a Jupyter environment, please rerun this cell to show the HTML representation or trust the notebook. <br />On GitHub, the HTML representation is unable to render, please try loading this page with nbviewer.org.</b></div><div class=\"sk-container\" hidden><div class=\"sk-item sk-dashed-wrapped\"><div class=\"sk-label-container\"><div class=\"sk-label sk-toggleable\"><input class=\"sk-toggleable__control sk-hidden--visually\" id=\"sk-estimator-id-1\" type=\"checkbox\" ><label for=\"sk-estimator-id-1\" class=\"sk-toggleable__label sk-toggleable__label-arrow\">Pipeline</label><div class=\"sk-toggleable__content\"><pre>Pipeline(steps=[(&#x27;preprocessor&#x27;,\n",
       "                 ColumnTransformer(transformers=[(&#x27;num&#x27;,\n",
       "                                                  Pipeline(steps=[(&#x27;aboveavg&#x27;,\n",
       "                                                                   AboveAveragePagePromoEngager(cols=[&#x27;hits&#x27;,\n",
       "                                                                                                      &#x27;promos_displayed&#x27;,\n",
       "                                                                                                      &#x27;promos_clicked&#x27;,\n",
       "                                                                                                      &#x27;product_views&#x27;,\n",
       "                                                                                                      &#x27;product_clicks&#x27;,\n",
       "                                                                                                      &#x27;pageviews&#x27;,\n",
       "                                                                                                      &#x27;time_on_site&#x27;])),\n",
       "                                                                  (&#x27;scaler&#x27;,\n",
       "                                                                   MinMaxScaler())]),\n",
       "                                                  [&#x27;hits&#x27;, &#x27;promos_displayed&#x27;,\n",
       "                                                   &#x27;promos_clicked&#x27;,\n",
       "                                                   &#x27;product_views&#x27;,\n",
       "                                                   &#x27;product_clicks&#x27;,\n",
       "                                                   &#x27;page...\n",
       "                                                                   OneHotEncoder(drop=&#x27;first&#x27;,\n",
       "                                                                                 dtype=&lt;class &#x27;int&#x27;&gt;,\n",
       "                                                                                 handle_unknown=&#x27;ignore&#x27;))]),\n",
       "                                                  [&#x27;bounces&#x27;, &#x27;last_action&#x27;,\n",
       "                                                   &#x27;source&#x27;, &#x27;medium&#x27;,\n",
       "                                                   &#x27;channelGrouping&#x27;, &#x27;browser&#x27;,\n",
       "                                                   &#x27;os&#x27;, &#x27;deviceCategory&#x27;])])),\n",
       "                (&#x27;select&#x27;, DropCorrelatedFeatures(threshold=0.7)),\n",
       "                (&#x27;resampler&#x27;,\n",
       "                 RandomOverSampler(random_state=88, sampling_strategy=0.1)),\n",
       "                [&#x27;clf&#x27;, BetaDistClassifier(a=0.45, b=2.35, random_state=88)]])</pre></div></div></div><div class=\"sk-serial\"><div class=\"sk-item sk-dashed-wrapped\"><div class=\"sk-label-container\"><div class=\"sk-label sk-toggleable\"><input class=\"sk-toggleable__control sk-hidden--visually\" id=\"sk-estimator-id-2\" type=\"checkbox\" ><label for=\"sk-estimator-id-2\" class=\"sk-toggleable__label sk-toggleable__label-arrow\">preprocessor: ColumnTransformer</label><div class=\"sk-toggleable__content\"><pre>ColumnTransformer(transformers=[(&#x27;num&#x27;,\n",
       "                                 Pipeline(steps=[(&#x27;aboveavg&#x27;,\n",
       "                                                  AboveAveragePagePromoEngager(cols=[&#x27;hits&#x27;,\n",
       "                                                                                     &#x27;promos_displayed&#x27;,\n",
       "                                                                                     &#x27;promos_clicked&#x27;,\n",
       "                                                                                     &#x27;product_views&#x27;,\n",
       "                                                                                     &#x27;product_clicks&#x27;,\n",
       "                                                                                     &#x27;pageviews&#x27;,\n",
       "                                                                                     &#x27;time_on_site&#x27;])),\n",
       "                                                 (&#x27;scaler&#x27;, MinMaxScaler())]),\n",
       "                                 [&#x27;hits&#x27;, &#x27;promos_displayed&#x27;, &#x27;promos_clicked&#x27;,\n",
       "                                  &#x27;product_views&#x27;, &#x27;product_clicks&#x27;,\n",
       "                                  &#x27;pageviews&#x27;, &#x27;time_on_site&#x27;]),\n",
       "                                (&#x27;cat&#x27;,\n",
       "                                 P...\n",
       "                                                                                                    n_categories=1,\n",
       "                                                                                                    replace_with=&#x27;other&#x27;,\n",
       "                                                                                                    tol=0.1,\n",
       "                                                                                                    variables=[&#x27;source&#x27;,\n",
       "                                                                                                               &#x27;browser&#x27;]),\n",
       "                                                                                   [&#x27;bounces&#x27;,\n",
       "                                                                                    &#x27;last_action&#x27;,\n",
       "                                                                                    &#x27;source&#x27;,\n",
       "                                                                                    &#x27;medium&#x27;,\n",
       "                                                                                    &#x27;channelGrouping&#x27;,\n",
       "                                                                                    &#x27;browser&#x27;,\n",
       "                                                                                    &#x27;os&#x27;,\n",
       "                                                                                    &#x27;deviceCategory&#x27;])])),\n",
       "                                                 (&#x27;dummy&#x27;,\n",
       "                                                  OneHotEncoder(drop=&#x27;first&#x27;,\n",
       "                                                                dtype=&lt;class &#x27;int&#x27;&gt;,\n",
       "                                                                handle_unknown=&#x27;ignore&#x27;))]),\n",
       "                                 [&#x27;bounces&#x27;, &#x27;last_action&#x27;, &#x27;source&#x27;, &#x27;medium&#x27;,\n",
       "                                  &#x27;channelGrouping&#x27;, &#x27;browser&#x27;, &#x27;os&#x27;,\n",
       "                                  &#x27;deviceCategory&#x27;])])</pre></div></div></div><div class=\"sk-parallel\"><div class=\"sk-parallel-item\"><div class=\"sk-item\"><div class=\"sk-label-container\"><div class=\"sk-label sk-toggleable\"><input class=\"sk-toggleable__control sk-hidden--visually\" id=\"sk-estimator-id-3\" type=\"checkbox\" ><label for=\"sk-estimator-id-3\" class=\"sk-toggleable__label sk-toggleable__label-arrow\">num</label><div class=\"sk-toggleable__content\"><pre>[&#x27;hits&#x27;, &#x27;promos_displayed&#x27;, &#x27;promos_clicked&#x27;, &#x27;product_views&#x27;, &#x27;product_clicks&#x27;, &#x27;pageviews&#x27;, &#x27;time_on_site&#x27;]</pre></div></div></div><div class=\"sk-serial\"><div class=\"sk-item\"><div class=\"sk-serial\"><div class=\"sk-item\"><div class=\"sk-estimator sk-toggleable\"><input class=\"sk-toggleable__control sk-hidden--visually\" id=\"sk-estimator-id-4\" type=\"checkbox\" ><label for=\"sk-estimator-id-4\" class=\"sk-toggleable__label sk-toggleable__label-arrow\">AboveAveragePagePromoEngager</label><div class=\"sk-toggleable__content\"><pre>AboveAveragePagePromoEngager(cols=[&#x27;hits&#x27;, &#x27;promos_displayed&#x27;, &#x27;promos_clicked&#x27;,\n",
       "                                   &#x27;product_views&#x27;, &#x27;product_clicks&#x27;,\n",
       "                                   &#x27;pageviews&#x27;, &#x27;time_on_site&#x27;])</pre></div></div></div><div class=\"sk-item\"><div class=\"sk-estimator sk-toggleable\"><input class=\"sk-toggleable__control sk-hidden--visually\" id=\"sk-estimator-id-5\" type=\"checkbox\" ><label for=\"sk-estimator-id-5\" class=\"sk-toggleable__label sk-toggleable__label-arrow\">MinMaxScaler</label><div class=\"sk-toggleable__content\"><pre>MinMaxScaler()</pre></div></div></div></div></div></div></div></div><div class=\"sk-parallel-item\"><div class=\"sk-item\"><div class=\"sk-label-container\"><div class=\"sk-label sk-toggleable\"><input class=\"sk-toggleable__control sk-hidden--visually\" id=\"sk-estimator-id-6\" type=\"checkbox\" ><label for=\"sk-estimator-id-6\" class=\"sk-toggleable__label sk-toggleable__label-arrow\">cat</label><div class=\"sk-toggleable__content\"><pre>[&#x27;bounces&#x27;, &#x27;last_action&#x27;, &#x27;source&#x27;, &#x27;medium&#x27;, &#x27;channelGrouping&#x27;, &#x27;browser&#x27;, &#x27;os&#x27;, &#x27;deviceCategory&#x27;]</pre></div></div></div><div class=\"sk-serial\"><div class=\"sk-item\"><div class=\"sk-serial\"><div class=\"sk-item sk-dashed-wrapped\"><div class=\"sk-label-container\"><div class=\"sk-label sk-toggleable\"><input class=\"sk-toggleable__control sk-hidden--visually\" id=\"sk-estimator-id-7\" type=\"checkbox\" ><label for=\"sk-estimator-id-7\" class=\"sk-toggleable__label sk-toggleable__label-arrow\">rarecats: ColumnTransformer</label><div class=\"sk-toggleable__content\"><pre>ColumnTransformer(remainder=&#x27;passthrough&#x27;,\n",
       "                  transformers=[(&#x27;fe&#x27;,\n",
       "                                 RareLabelEncoder(ignore_format=True,\n",
       "                                                  n_categories=1,\n",
       "                                                  replace_with=&#x27;other&#x27;, tol=0.1,\n",
       "                                                  variables=[&#x27;source&#x27;,\n",
       "                                                             &#x27;browser&#x27;]),\n",
       "                                 [&#x27;bounces&#x27;, &#x27;last_action&#x27;, &#x27;source&#x27;, &#x27;medium&#x27;,\n",
       "                                  &#x27;channelGrouping&#x27;, &#x27;browser&#x27;, &#x27;os&#x27;,\n",
       "                                  &#x27;deviceCategory&#x27;])])</pre></div></div></div><div class=\"sk-parallel\"><div class=\"sk-parallel-item\"><div class=\"sk-item\"><div class=\"sk-label-container\"><div class=\"sk-label sk-toggleable\"><input class=\"sk-toggleable__control sk-hidden--visually\" id=\"sk-estimator-id-8\" type=\"checkbox\" ><label for=\"sk-estimator-id-8\" class=\"sk-toggleable__label sk-toggleable__label-arrow\">fe</label><div class=\"sk-toggleable__content\"><pre>[&#x27;bounces&#x27;, &#x27;last_action&#x27;, &#x27;source&#x27;, &#x27;medium&#x27;, &#x27;channelGrouping&#x27;, &#x27;browser&#x27;, &#x27;os&#x27;, &#x27;deviceCategory&#x27;]</pre></div></div></div><div class=\"sk-serial\"><div class=\"sk-item\"><div class=\"sk-estimator sk-toggleable\"><input class=\"sk-toggleable__control sk-hidden--visually\" id=\"sk-estimator-id-9\" type=\"checkbox\" ><label for=\"sk-estimator-id-9\" class=\"sk-toggleable__label sk-toggleable__label-arrow\">RareLabelEncoder</label><div class=\"sk-toggleable__content\"><pre>RareLabelEncoder(ignore_format=True, n_categories=1, replace_with=&#x27;other&#x27;,\n",
       "                 tol=0.1, variables=[&#x27;source&#x27;, &#x27;browser&#x27;])</pre></div></div></div></div></div></div><div class=\"sk-parallel-item\"><div class=\"sk-item\"><div class=\"sk-label-container\"><div class=\"sk-label sk-toggleable\"><input class=\"sk-toggleable__control sk-hidden--visually\" id=\"sk-estimator-id-10\" type=\"checkbox\" ><label for=\"sk-estimator-id-10\" class=\"sk-toggleable__label sk-toggleable__label-arrow\">remainder</label><div class=\"sk-toggleable__content\"><pre></pre></div></div></div><div class=\"sk-serial\"><div class=\"sk-item\"><div class=\"sk-estimator sk-toggleable\"><input class=\"sk-toggleable__control sk-hidden--visually\" id=\"sk-estimator-id-11\" type=\"checkbox\" ><label for=\"sk-estimator-id-11\" class=\"sk-toggleable__label sk-toggleable__label-arrow\">passthrough</label><div class=\"sk-toggleable__content\"><pre>passthrough</pre></div></div></div></div></div></div></div></div><div class=\"sk-item\"><div class=\"sk-estimator sk-toggleable\"><input class=\"sk-toggleable__control sk-hidden--visually\" id=\"sk-estimator-id-12\" type=\"checkbox\" ><label for=\"sk-estimator-id-12\" class=\"sk-toggleable__label sk-toggleable__label-arrow\">OneHotEncoder</label><div class=\"sk-toggleable__content\"><pre>OneHotEncoder(drop=&#x27;first&#x27;, dtype=&lt;class &#x27;int&#x27;&gt;, handle_unknown=&#x27;ignore&#x27;)</pre></div></div></div></div></div></div></div></div></div></div><div class=\"sk-item\"><div class=\"sk-estimator sk-toggleable\"><input class=\"sk-toggleable__control sk-hidden--visually\" id=\"sk-estimator-id-13\" type=\"checkbox\" ><label for=\"sk-estimator-id-13\" class=\"sk-toggleable__label sk-toggleable__label-arrow\">DropCorrelatedFeatures</label><div class=\"sk-toggleable__content\"><pre>DropCorrelatedFeatures(threshold=0.7)</pre></div></div></div><div class=\"sk-item\"><div class=\"sk-estimator sk-toggleable\"><input class=\"sk-toggleable__control sk-hidden--visually\" id=\"sk-estimator-id-14\" type=\"checkbox\" ><label for=\"sk-estimator-id-14\" class=\"sk-toggleable__label sk-toggleable__label-arrow\">RandomOverSampler</label><div class=\"sk-toggleable__content\"><pre>RandomOverSampler(random_state=88, sampling_strategy=0.1)</pre></div></div></div><div class=\"sk-item\"><div class=\"sk-estimator sk-toggleable\"><input class=\"sk-toggleable__control sk-hidden--visually\" id=\"sk-estimator-id-15\" type=\"checkbox\" ><label for=\"sk-estimator-id-15\" class=\"sk-toggleable__label sk-toggleable__label-arrow\">BetaDistClassifier</label><div class=\"sk-toggleable__content\"><pre>BetaDistClassifier(a=0.45, b=2.35, random_state=88)</pre></div></div></div></div></div></div></div>"
      ],
      "text/plain": [
       "Pipeline(steps=[('preprocessor',\n",
       "                 ColumnTransformer(transformers=[('num',\n",
       "                                                  Pipeline(steps=[('aboveavg',\n",
       "                                                                   AboveAveragePagePromoEngager(cols=['hits',\n",
       "                                                                                                      'promos_displayed',\n",
       "                                                                                                      'promos_clicked',\n",
       "                                                                                                      'product_views',\n",
       "                                                                                                      'product_clicks',\n",
       "                                                                                                      'pageviews',\n",
       "                                                                                                      'time_on_site'])),\n",
       "                                                                  ('scaler',\n",
       "                                                                   MinMaxScaler())]),\n",
       "                                                  ['hits', 'promos_displayed',\n",
       "                                                   'promos_clicked',\n",
       "                                                   'product_views',\n",
       "                                                   'product_clicks',\n",
       "                                                   'page...\n",
       "                                                                   OneHotEncoder(drop='first',\n",
       "                                                                                 dtype=<class 'int'>,\n",
       "                                                                                 handle_unknown='ignore'))]),\n",
       "                                                  ['bounces', 'last_action',\n",
       "                                                   'source', 'medium',\n",
       "                                                   'channelGrouping', 'browser',\n",
       "                                                   'os', 'deviceCategory'])])),\n",
       "                ('select', DropCorrelatedFeatures(threshold=0.7)),\n",
       "                ('resampler',\n",
       "                 RandomOverSampler(random_state=88, sampling_strategy=0.1)),\n",
       "                ['clf', BetaDistClassifier(a=0.45, b=2.35, random_state=88)]])"
      ]
     },
     "execution_count": 17,
     "metadata": {},
     "output_type": "execute_result"
    }
   ],
   "source": [
    "model = mlflow.sklearn.load_model(model_uri=f\"models:/{best_run_model_name}/latest\")\n",
    "model"
   ]
  },
  {
   "cell_type": "markdown",
   "id": "c216d552-1a28-4967-950c-d003b3984931",
   "metadata": {},
   "source": [
    "### Get Data Used in Development of Best Deployment Candidate Model"
   ]
  },
  {
   "cell_type": "markdown",
   "id": "7c2e1166-9c16-446e-873a-ad117453c250",
   "metadata": {},
   "source": [
    "Get all available data used during model development of the best deployment candidate model"
   ]
  },
  {
   "cell_type": "code",
   "execution_count": 18,
   "id": "a562311d-41dd-44f9-a87a-c2f6f3a9b00d",
   "metadata": {},
   "outputs": [],
   "source": [
    "df_all = modh.get_data_for_run_id(df_deployment_candidate_mlflow_models, 'processed_data')"
   ]
  },
  {
   "cell_type": "markdown",
   "id": "013cb7bf-be2d-4c8a-a94f-6bd24f8304ff",
   "metadata": {},
   "source": [
    "::: {.content-hidden}\n",
    "Perform sanity checks on features in inference data\n",
    ":::"
   ]
  },
  {
   "cell_type": "code",
   "execution_count": 19,
   "id": "e129db0b-4eee-4228-a99a-22fa2ef2e7e1",
   "metadata": {
    "tags": []
   },
   "outputs": [],
   "source": [
    "modh.check_data_per_best_expt_run(\n",
    "    df_deployment_candidate_mlflow_models,\n",
    "    df_all.drop(columns=[\"score\", \"predicted_label\", \"predicted_score_label\", \"split_type\"]),\n",
    "    X_infer,\n",
    "    label,\n",
    ")"
   ]
  },
  {
   "cell_type": "markdown",
   "id": "dc4ea14e-cb7c-4bdb-8fa5-945789eea6b5",
   "metadata": {},
   "source": [
    "### Check Data Drift"
   ]
  },
  {
   "cell_type": "markdown",
   "id": "19ebe3d5-a09e-4381-b575-08716d712bb5",
   "metadata": {},
   "source": [
    "Get test split from the data used during development of the best deployment candidate model"
   ]
  },
  {
   "cell_type": "code",
   "execution_count": 21,
   "id": "8a3ce2d8-205f-4e9e-8eb0-83d30da9c382",
   "metadata": {
    "tags": []
   },
   "outputs": [],
   "source": [
    "#| echo: true\n",
    "X_test_best_run = (\n",
    "    df_all\n",
    "    .query(\"split_type == 'test'\")\n",
    "    .drop(columns=['split_type', label])\n",
    ")"
   ]
  },
  {
   "cell_type": "code",
   "execution_count": 33,
   "id": "adb9040d-b2e6-44d5-bf9d-c4a622b7130d",
   "metadata": {
    "tags": []
   },
   "outputs": [
    {
     "data": {
      "text/html": [
       "<div>\n",
       "<style scoped>\n",
       "    .dataframe tbody tr th:only-of-type {\n",
       "        vertical-align: middle;\n",
       "    }\n",
       "\n",
       "    .dataframe tbody tr th {\n",
       "        vertical-align: top;\n",
       "    }\n",
       "\n",
       "    .dataframe thead th {\n",
       "        text-align: right;\n",
       "    }\n",
       "</style>\n",
       "<table border=\"1\" class=\"dataframe\">\n",
       "  <thead>\n",
       "    <tr style=\"text-align: right;\">\n",
       "      <th></th>\n",
       "      <th>fullvisitorid</th>\n",
       "      <th>visitId</th>\n",
       "      <th>visitNumber</th>\n",
       "      <th>visitStartTime</th>\n",
       "      <th>quarter</th>\n",
       "      <th>month</th>\n",
       "      <th>day_of_month</th>\n",
       "      <th>day_of_week</th>\n",
       "      <th>hour</th>\n",
       "      <th>minute</th>\n",
       "      <th>second</th>\n",
       "      <th>source</th>\n",
       "      <th>medium</th>\n",
       "      <th>channelGrouping</th>\n",
       "      <th>hits</th>\n",
       "      <th>bounces</th>\n",
       "      <th>last_action</th>\n",
       "      <th>promos_displayed</th>\n",
       "      <th>promos_clicked</th>\n",
       "      <th>product_views</th>\n",
       "      <th>product_clicks</th>\n",
       "      <th>pageviews</th>\n",
       "      <th>time_on_site</th>\n",
       "      <th>browser</th>\n",
       "      <th>os</th>\n",
       "      <th>deviceCategory</th>\n",
       "      <th>added_to_cart</th>\n",
       "      <th>score</th>\n",
       "      <th>predicted_score_label</th>\n",
       "      <th>predicted_label</th>\n",
       "    </tr>\n",
       "  </thead>\n",
       "  <tbody>\n",
       "    <tr>\n",
       "      <th>113728</th>\n",
       "      <td>0092786413416632932</td>\n",
       "      <td>1487747471</td>\n",
       "      <td>1</td>\n",
       "      <td>2017-02-21 23:11:11</td>\n",
       "      <td>1</td>\n",
       "      <td>2</td>\n",
       "      <td>21</td>\n",
       "      <td>3</td>\n",
       "      <td>23</td>\n",
       "      <td>11</td>\n",
       "      <td>11</td>\n",
       "      <td>google</td>\n",
       "      <td>organic</td>\n",
       "      <td>Organic Search</td>\n",
       "      <td>4</td>\n",
       "      <td>0</td>\n",
       "      <td>Unknown</td>\n",
       "      <td>9</td>\n",
       "      <td>0</td>\n",
       "      <td>2</td>\n",
       "      <td>0</td>\n",
       "      <td>4</td>\n",
       "      <td>29</td>\n",
       "      <td>Chrome</td>\n",
       "      <td>Macintosh</td>\n",
       "      <td>desktop</td>\n",
       "      <td>0</td>\n",
       "      <td>0.234413</td>\n",
       "      <td>True</td>\n",
       "      <td>0</td>\n",
       "    </tr>\n",
       "    <tr>\n",
       "      <th>113729</th>\n",
       "      <td>9246024261954442050</td>\n",
       "      <td>1487316329</td>\n",
       "      <td>1</td>\n",
       "      <td>2017-02-16 23:25:29</td>\n",
       "      <td>1</td>\n",
       "      <td>2</td>\n",
       "      <td>16</td>\n",
       "      <td>5</td>\n",
       "      <td>23</td>\n",
       "      <td>25</td>\n",
       "      <td>29</td>\n",
       "      <td>siliconvalley.about.com</td>\n",
       "      <td>referral</td>\n",
       "      <td>Referral</td>\n",
       "      <td>4</td>\n",
       "      <td>0</td>\n",
       "      <td>Unknown</td>\n",
       "      <td>9</td>\n",
       "      <td>0</td>\n",
       "      <td>3</td>\n",
       "      <td>0</td>\n",
       "      <td>4</td>\n",
       "      <td>29</td>\n",
       "      <td>Chrome</td>\n",
       "      <td>Android</td>\n",
       "      <td>mobile</td>\n",
       "      <td>0</td>\n",
       "      <td>0.041587</td>\n",
       "      <td>True</td>\n",
       "      <td>0</td>\n",
       "    </tr>\n",
       "  </tbody>\n",
       "</table>\n",
       "</div>"
      ],
      "text/plain": [
       "              fullvisitorid     visitId  visitNumber      visitStartTime   \n",
       "113728  0092786413416632932  1487747471            1 2017-02-21 23:11:11  \\\n",
       "113729  9246024261954442050  1487316329            1 2017-02-16 23:25:29   \n",
       "\n",
       "        quarter  month  day_of_month  day_of_week  hour  minute  second   \n",
       "113728        1      2            21            3    23      11      11  \\\n",
       "113729        1      2            16            5    23      25      29   \n",
       "\n",
       "                         source    medium channelGrouping  hits  bounces   \n",
       "113728                   google   organic  Organic Search     4        0  \\\n",
       "113729  siliconvalley.about.com  referral        Referral     4        0   \n",
       "\n",
       "       last_action  promos_displayed  promos_clicked  product_views   \n",
       "113728     Unknown                 9               0              2  \\\n",
       "113729     Unknown                 9               0              3   \n",
       "\n",
       "        product_clicks  pageviews  time_on_site browser         os   \n",
       "113728               0          4            29  Chrome  Macintosh  \\\n",
       "113729               0          4            29  Chrome    Android   \n",
       "\n",
       "       deviceCategory  added_to_cart     score  predicted_score_label   \n",
       "113728        desktop              0  0.234413                   True  \\\n",
       "113729         mobile              0  0.041587                   True   \n",
       "\n",
       "        predicted_label  \n",
       "113728                0  \n",
       "113729                0  "
      ]
     },
     "metadata": {},
     "output_type": "display_data"
    },
    {
     "data": {
      "text/html": [
       "<div>\n",
       "<style scoped>\n",
       "    .dataframe tbody tr th:only-of-type {\n",
       "        vertical-align: middle;\n",
       "    }\n",
       "\n",
       "    .dataframe tbody tr th {\n",
       "        vertical-align: top;\n",
       "    }\n",
       "\n",
       "    .dataframe thead th {\n",
       "        text-align: right;\n",
       "    }\n",
       "</style>\n",
       "<table border=\"1\" class=\"dataframe\">\n",
       "  <thead>\n",
       "    <tr style=\"text-align: right;\">\n",
       "      <th></th>\n",
       "      <th>fullvisitorid</th>\n",
       "      <th>visitId</th>\n",
       "      <th>visitNumber</th>\n",
       "      <th>visitStartTime</th>\n",
       "      <th>quarter</th>\n",
       "      <th>month</th>\n",
       "      <th>day_of_month</th>\n",
       "      <th>day_of_week</th>\n",
       "      <th>hour</th>\n",
       "      <th>minute</th>\n",
       "      <th>second</th>\n",
       "      <th>source</th>\n",
       "      <th>medium</th>\n",
       "      <th>channelGrouping</th>\n",
       "      <th>hits</th>\n",
       "      <th>bounces</th>\n",
       "      <th>last_action</th>\n",
       "      <th>promos_displayed</th>\n",
       "      <th>promos_clicked</th>\n",
       "      <th>product_views</th>\n",
       "      <th>product_clicks</th>\n",
       "      <th>pageviews</th>\n",
       "      <th>time_on_site</th>\n",
       "      <th>browser</th>\n",
       "      <th>os</th>\n",
       "      <th>deviceCategory</th>\n",
       "      <th>added_to_cart</th>\n",
       "      <th>score</th>\n",
       "      <th>predicted_score_label</th>\n",
       "      <th>predicted_label</th>\n",
       "    </tr>\n",
       "  </thead>\n",
       "  <tbody>\n",
       "    <tr>\n",
       "      <th>133890</th>\n",
       "      <td>4670578101675392339</td>\n",
       "      <td>1487109517</td>\n",
       "      <td>1</td>\n",
       "      <td>2017-02-14 13:58:37</td>\n",
       "      <td>1</td>\n",
       "      <td>2</td>\n",
       "      <td>14</td>\n",
       "      <td>3</td>\n",
       "      <td>13</td>\n",
       "      <td>58</td>\n",
       "      <td>37</td>\n",
       "      <td>facebook.com</td>\n",
       "      <td>referral</td>\n",
       "      <td>Social</td>\n",
       "      <td>4</td>\n",
       "      <td>0</td>\n",
       "      <td>Unknown</td>\n",
       "      <td>0</td>\n",
       "      <td>0</td>\n",
       "      <td>9</td>\n",
       "      <td>0</td>\n",
       "      <td>4</td>\n",
       "      <td>39</td>\n",
       "      <td>Chrome</td>\n",
       "      <td>Macintosh</td>\n",
       "      <td>desktop</td>\n",
       "      <td>0</td>\n",
       "      <td>0.285869</td>\n",
       "      <td>True</td>\n",
       "      <td>0</td>\n",
       "    </tr>\n",
       "    <tr>\n",
       "      <th>133891</th>\n",
       "      <td>5309434940178594263</td>\n",
       "      <td>1487076882</td>\n",
       "      <td>1</td>\n",
       "      <td>2017-02-14 04:54:42</td>\n",
       "      <td>1</td>\n",
       "      <td>2</td>\n",
       "      <td>14</td>\n",
       "      <td>3</td>\n",
       "      <td>4</td>\n",
       "      <td>54</td>\n",
       "      <td>42</td>\n",
       "      <td>youtube.com</td>\n",
       "      <td>referral</td>\n",
       "      <td>Social</td>\n",
       "      <td>4</td>\n",
       "      <td>0</td>\n",
       "      <td>Unknown</td>\n",
       "      <td>0</td>\n",
       "      <td>0</td>\n",
       "      <td>48</td>\n",
       "      <td>0</td>\n",
       "      <td>4</td>\n",
       "      <td>150</td>\n",
       "      <td>Chrome</td>\n",
       "      <td>Chrome OS</td>\n",
       "      <td>desktop</td>\n",
       "      <td>0</td>\n",
       "      <td>0.046238</td>\n",
       "      <td>True</td>\n",
       "      <td>0</td>\n",
       "    </tr>\n",
       "  </tbody>\n",
       "</table>\n",
       "</div>"
      ],
      "text/plain": [
       "              fullvisitorid     visitId  visitNumber      visitStartTime   \n",
       "133890  4670578101675392339  1487109517            1 2017-02-14 13:58:37  \\\n",
       "133891  5309434940178594263  1487076882            1 2017-02-14 04:54:42   \n",
       "\n",
       "        quarter  month  day_of_month  day_of_week  hour  minute  second   \n",
       "133890        1      2            14            3    13      58      37  \\\n",
       "133891        1      2            14            3     4      54      42   \n",
       "\n",
       "              source    medium channelGrouping  hits  bounces last_action   \n",
       "133890  facebook.com  referral          Social     4        0     Unknown  \\\n",
       "133891   youtube.com  referral          Social     4        0     Unknown   \n",
       "\n",
       "        promos_displayed  promos_clicked  product_views  product_clicks   \n",
       "133890                 0               0              9               0  \\\n",
       "133891                 0               0             48               0   \n",
       "\n",
       "        pageviews  time_on_site browser         os deviceCategory   \n",
       "133890          4            39  Chrome  Macintosh        desktop  \\\n",
       "133891          4           150  Chrome  Chrome OS        desktop   \n",
       "\n",
       "        added_to_cart     score  predicted_score_label  predicted_label  \n",
       "133890              0  0.285869                   True                0  \n",
       "133891              0  0.046238                   True                0  "
      ]
     },
     "metadata": {},
     "output_type": "display_data"
    }
   ],
   "source": [
    "#| output: false\n",
    "with pd.option_context(\"display.max_columns\", None):\n",
    "    display(X_test_best_run.head(2))\n",
    "    display(X_test_best_run.tail(2))"
   ]
  },
  {
   "cell_type": "code",
   "execution_count": 335,
   "id": "07b8a213-97de-41d0-9ab2-1dfdda44efd5",
   "metadata": {},
   "outputs": [],
   "source": [
    "import json\n",
    "from typing import Dict, List, Union\n",
    "from scipy import spatial, stats\n",
    "from evidently.test_suite import TestSuite\n",
    "import evidently.tests as eaits\n",
    "\n",
    "def detect_features_drift(\n",
    "    curr_data: pd.DataFrame,\n",
    "    refer_data: pd.DataFrame,\n",
    "    numericals: List[str],\n",
    "    categoricals: List[str],\n",
    "    kst_threshold: float = 0.05,\n",
    "    kst_params: Dict[str, Union[str, int]] = dict(\n",
    "        method='exact', N=20, alternative='two-sided'\n",
    "    ),\n",
    "    wsd_threshold: float=0.5,\n",
    "    jsd_threshold: float=0.5,\n",
    ") -> pd.DataFrame:\n",
    "    \"\"\"Perform checks for drift in features.\"\"\"\n",
    "    len_smaller_dataset = min(len(refer_data), len(curr_data))\n",
    "    categorical_stats_summary = []\n",
    "    for c in categoricals:\n",
    "        # get drift stats\n",
    "        if len(curr_data) <= 1_000:\n",
    "            csd = None\n",
    "        else:\n",
    "            jsd = spatial.distance.jensenshannon(\n",
    "                curr_data[c].astype('int16').head(len_smaller_dataset).to_numpy(),\n",
    "                refer_data[c].astype('int16').head(len_smaller_dataset).to_numpy()\n",
    "            )\n",
    "        # get summary stats\n",
    "        summary_stats = {\n",
    "            \"feature_type\": 'categorical',\n",
    "            \"feature\": c,\n",
    "            \"nunique_ref\": refer_data[c].nunique(),\n",
    "            \"nunique_curr\": curr_data[c].nunique(),\n",
    "            \"metric_value\": csd if len(curr_data) <= 1_000 else jsd,\n",
    "            \"metric_threshold\": None if len(curr_data) <= 1_000 else jsd_threshold,\n",
    "        }\n",
    "        df_cat_stats = pd.DataFrame.from_dict(summary_stats, orient='index').transpose()\n",
    "        # check if drift is present\n",
    "        if len(curr_data) <= 1_000:\n",
    "            df_cat_stats = pd.DataFrame()\n",
    "        else:\n",
    "            df_cat_stats = (\n",
    "                df_cat_stats.assign(drift_detected=lambda df: df['metric_value'] > df['metric_threshold'])\n",
    "                .assign(test_type='Jensen-Shannon')\n",
    "            )\n",
    "        categorical_stats_summary.append(df_cat_stats)\n",
    "\n",
    "    numerical_stats_summary = []\n",
    "    for c in numericals:\n",
    "        # get descriptive stats\n",
    "        feat_desc_stats = (\n",
    "            refer_data[c].describe().rename('ref').to_frame().merge(\n",
    "                curr_data[c].describe().rename('curr').to_frame(),\n",
    "                left_index=True,\n",
    "                right_index=True,\n",
    "                how='left',\n",
    "            )\n",
    "            .assign(abs_diff=lambda df: df['ref']-df['curr'])\n",
    "            .assign(pct_diff=lambda df: 100*((df['ref']-df['curr'])/df['ref']))\n",
    "            .assign(feature=c)\n",
    "        )\n",
    "        # get drift stats\n",
    "        if len(curr_data) <= 1_000:\n",
    "            kst = stats.kstest(refer_data[c].to_numpy(), curr_data[c].to_numpy(), **kst_params)\n",
    "        else:\n",
    "            wsd = stats.wasserstein_distance(refer_data[c].to_numpy(), curr_data[c].to_numpy())\n",
    "        # get summary stats\n",
    "        summary_stats = {\n",
    "            \"feature_type\": 'numerical',\n",
    "            \"feature\": c,\n",
    "            \"nunique_ref\": refer_data[c].nunique(),\n",
    "            \"nunique_curr\": curr_data[c].nunique(),\n",
    "            \"pct_diff_mean\": feat_desc_stats['pct_diff']['mean'],\n",
    "            \"pct_diff_std\": feat_desc_stats['pct_diff']['std'],\n",
    "            \"abs_diff_mean\": feat_desc_stats['abs_diff']['mean'],\n",
    "            \"abs_diff_std\": feat_desc_stats['abs_diff']['std'],\n",
    "            \"metric_value\": kst.pvalue if len(curr_data) <= 1_000 else wsd,\n",
    "            \"metric_threshold\": kst_threshold if len(curr_data) <= 1_000 else wsd_threshold,\n",
    "        }\n",
    "        df_num_stats = pd.DataFrame.from_dict(summary_stats, orient='index').transpose()\n",
    "        # check if drift is present\n",
    "        if len(curr_data) <= 1_000:\n",
    "            df_num_stats = (\n",
    "                df_num_stats.assign(\n",
    "                    reject_null=lambda df: df['metric_value'] < df['metric_threshold']\n",
    "                ).assign(drift_detected=lambda df: df['reject_null'])\n",
    "                .assign(test_type='Kolmogorov–Smirnov')\n",
    "            )\n",
    "            for k,v in kst_params.items():\n",
    "                df_num_stats[k] = v\n",
    "        else:\n",
    "            df_num_stats = (\n",
    "                df_num_stats.assign(\n",
    "                    drift_detected=lambda df: df['metric_value'] > df['metric_threshold']\n",
    "                ).assign(test_type='Wasserstein')\n",
    "            )\n",
    "        numerical_stats_summary.append(df_num_stats)\n",
    "\n",
    "    df_num_stats = pd.concat(numerical_stats_summary or [pd.DataFrame()], ignore_index=True)\n",
    "    df_cat_stats = pd.concat(categorical_stats_summary or [pd.DataFrame()], ignore_index=True)\n",
    "    return [df_num_stats, df_cat_stats]"
   ]
  },
  {
   "cell_type": "markdown",
   "id": "8f1213f1-4d92-42ba-81b8-9ee7f1049693",
   "metadata": {},
   "source": [
    "Check numerical features for drift between\n",
    "\n",
    "1. ML development data (test split)\n",
    "2. unseen data (inference)\n",
    "\n",
    "using the Wasserstein test"
   ]
  },
  {
   "cell_type": "code",
   "execution_count": 336,
   "id": "34df689f-a2f6-4e06-a560-c913a5262436",
   "metadata": {},
   "outputs": [
    {
     "data": {
      "text/html": [
       "<div>\n",
       "<style scoped>\n",
       "    .dataframe tbody tr th:only-of-type {\n",
       "        vertical-align: middle;\n",
       "    }\n",
       "\n",
       "    .dataframe tbody tr th {\n",
       "        vertical-align: top;\n",
       "    }\n",
       "\n",
       "    .dataframe thead th {\n",
       "        text-align: right;\n",
       "    }\n",
       "</style>\n",
       "<table border=\"1\" class=\"dataframe\">\n",
       "  <thead>\n",
       "    <tr style=\"text-align: right;\">\n",
       "      <th></th>\n",
       "      <th>feature_type</th>\n",
       "      <th>feature</th>\n",
       "      <th>nunique_ref</th>\n",
       "      <th>nunique_curr</th>\n",
       "      <th>pct_diff_mean</th>\n",
       "      <th>pct_diff_std</th>\n",
       "      <th>abs_diff_mean</th>\n",
       "      <th>abs_diff_std</th>\n",
       "      <th>metric_value</th>\n",
       "      <th>metric_threshold</th>\n",
       "      <th>drift_detected</th>\n",
       "      <th>test_type</th>\n",
       "    </tr>\n",
       "  </thead>\n",
       "  <tbody>\n",
       "    <tr>\n",
       "      <th>0</th>\n",
       "      <td>numerical</td>\n",
       "      <td>hits</td>\n",
       "      <td>104</td>\n",
       "      <td>112</td>\n",
       "      <td>-2.796628</td>\n",
       "      <td>-16.205373</td>\n",
       "      <td>-0.172968</td>\n",
       "      <td>-1.569269</td>\n",
       "      <td>0.222792</td>\n",
       "      <td>1</td>\n",
       "      <td>False</td>\n",
       "      <td>Wasserstein</td>\n",
       "    </tr>\n",
       "    <tr>\n",
       "      <th>1</th>\n",
       "      <td>numerical</td>\n",
       "      <td>pageviews</td>\n",
       "      <td>78</td>\n",
       "      <td>94</td>\n",
       "      <td>-2.224936</td>\n",
       "      <td>-19.113836</td>\n",
       "      <td>-0.117477</td>\n",
       "      <td>-1.415658</td>\n",
       "      <td>0.163044</td>\n",
       "      <td>1</td>\n",
       "      <td>False</td>\n",
       "      <td>Wasserstein</td>\n",
       "    </tr>\n",
       "    <tr>\n",
       "      <th>2</th>\n",
       "      <td>numerical</td>\n",
       "      <td>promos_displayed</td>\n",
       "      <td>21</td>\n",
       "      <td>18</td>\n",
       "      <td>-9.691698</td>\n",
       "      <td>2.996109</td>\n",
       "      <td>-0.757057</td>\n",
       "      <td>0.316746</td>\n",
       "      <td>0.788434</td>\n",
       "      <td>1</td>\n",
       "      <td>False</td>\n",
       "      <td>Wasserstein</td>\n",
       "    </tr>\n",
       "    <tr>\n",
       "      <th>3</th>\n",
       "      <td>numerical</td>\n",
       "      <td>product_views</td>\n",
       "      <td>273</td>\n",
       "      <td>286</td>\n",
       "      <td>1.213478</td>\n",
       "      <td>-5.642963</td>\n",
       "      <td>0.28491</td>\n",
       "      <td>-2.017004</td>\n",
       "      <td>0.722241</td>\n",
       "      <td>1</td>\n",
       "      <td>False</td>\n",
       "      <td>Wasserstein</td>\n",
       "    </tr>\n",
       "    <tr>\n",
       "      <th>4</th>\n",
       "      <td>numerical</td>\n",
       "      <td>product_clicks</td>\n",
       "      <td>30</td>\n",
       "      <td>35</td>\n",
       "      <td>-6.7913</td>\n",
       "      <td>-13.547475</td>\n",
       "      <td>-0.043027</td>\n",
       "      <td>-0.246633</td>\n",
       "      <td>0.043027</td>\n",
       "      <td>1</td>\n",
       "      <td>False</td>\n",
       "      <td>Wasserstein</td>\n",
       "    </tr>\n",
       "    <tr>\n",
       "      <th>5</th>\n",
       "      <td>numerical</td>\n",
       "      <td>time_on_site</td>\n",
       "      <td>1583</td>\n",
       "      <td>1701</td>\n",
       "      <td>-7.353722</td>\n",
       "      <td>-6.516268</td>\n",
       "      <td>-13.146065</td>\n",
       "      <td>-25.677424</td>\n",
       "      <td>13.510787</td>\n",
       "      <td>1</td>\n",
       "      <td>True</td>\n",
       "      <td>Wasserstein</td>\n",
       "    </tr>\n",
       "  </tbody>\n",
       "</table>\n",
       "</div>"
      ],
      "text/plain": [
       "  feature_type           feature nunique_ref nunique_curr pct_diff_mean   \n",
       "0    numerical              hits         104          112     -2.796628  \\\n",
       "1    numerical         pageviews          78           94     -2.224936   \n",
       "2    numerical  promos_displayed          21           18     -9.691698   \n",
       "3    numerical     product_views         273          286      1.213478   \n",
       "4    numerical    product_clicks          30           35       -6.7913   \n",
       "5    numerical      time_on_site        1583         1701     -7.353722   \n",
       "\n",
       "  pct_diff_std abs_diff_mean abs_diff_std metric_value metric_threshold   \n",
       "0   -16.205373     -0.172968    -1.569269     0.222792                1  \\\n",
       "1   -19.113836     -0.117477    -1.415658     0.163044                1   \n",
       "2     2.996109     -0.757057     0.316746     0.788434                1   \n",
       "3    -5.642963       0.28491    -2.017004     0.722241                1   \n",
       "4   -13.547475     -0.043027    -0.246633     0.043027                1   \n",
       "5    -6.516268    -13.146065   -25.677424    13.510787                1   \n",
       "\n",
       "   drift_detected    test_type  \n",
       "0           False  Wasserstein  \n",
       "1           False  Wasserstein  \n",
       "2           False  Wasserstein  \n",
       "3           False  Wasserstein  \n",
       "4           False  Wasserstein  \n",
       "5            True  Wasserstein  "
      ]
     },
     "metadata": {},
     "output_type": "display_data"
    },
    {
     "data": {
      "text/html": [
       "<div>\n",
       "<style scoped>\n",
       "    .dataframe tbody tr th:only-of-type {\n",
       "        vertical-align: middle;\n",
       "    }\n",
       "\n",
       "    .dataframe tbody tr th {\n",
       "        vertical-align: top;\n",
       "    }\n",
       "\n",
       "    .dataframe thead th {\n",
       "        text-align: right;\n",
       "    }\n",
       "</style>\n",
       "<table border=\"1\" class=\"dataframe\">\n",
       "  <thead>\n",
       "    <tr style=\"text-align: right;\">\n",
       "      <th></th>\n",
       "    </tr>\n",
       "  </thead>\n",
       "  <tbody>\n",
       "  </tbody>\n",
       "</table>\n",
       "</div>"
      ],
      "text/plain": [
       "Empty DataFrame\n",
       "Columns: []\n",
       "Index: []"
      ]
     },
     "metadata": {},
     "output_type": "display_data"
    }
   ],
   "source": [
    "df_num_drift, _ = detect_features_drift(\n",
    "    X_infer_eai.astype(dtypes_eai),\n",
    "    X_test_best_run_eai.astype(dtypes_eai),\n",
    "    numericals=numericals,\n",
    "    categoricals=[],\n",
    "    kst_threshold=0.05,\n",
    "    kst_params=dict(\n",
    "        method='exact',\n",
    "        N=max(len(X_test_best_run_eai), len(X_infer_eai)),\n",
    "        alternative='two-sided',\n",
    "    ),\n",
    "    wsd_threshold=1,\n",
    ")\n",
    "display(df_num_drift)"
   ]
  },
  {
   "cell_type": "markdown",
   "id": "b87650e4-ee5f-4d80-875c-6b78dba42423",
   "metadata": {},
   "source": [
    "::: {.callout-tip title=\"Observations\"}\n",
    "\n",
    "1. ... .\n",
    ":::"
   ]
  },
  {
   "cell_type": "markdown",
   "id": "3835311a-cb7f-419d-8e7f-cfc96e0e4cc2",
   "metadata": {},
   "source": [
    "Perform sanity checks on all features between\n",
    "\n",
    "1. ML development data (test split)\n",
    "2. unseen data (inference)"
   ]
  },
  {
   "cell_type": "code",
   "execution_count": 304,
   "id": "0ca6d098-9919-4b0f-9c04-90d00d0f991e",
   "metadata": {},
   "outputs": [
    {
     "name": "stdout",
     "output_type": "stream",
     "text": [
      "CPU times: user 12.2 s, sys: 6.94 ms, total: 12.2 s\n",
      "Wall time: 12.2 s\n"
     ]
    },
    {
     "data": {
      "text/html": [
       "<div>\n",
       "<style scoped>\n",
       "    .dataframe tbody tr th:only-of-type {\n",
       "        vertical-align: middle;\n",
       "    }\n",
       "\n",
       "    .dataframe tbody tr th {\n",
       "        vertical-align: top;\n",
       "    }\n",
       "\n",
       "    .dataframe thead th {\n",
       "        text-align: right;\n",
       "    }\n",
       "</style>\n",
       "<table border=\"1\" class=\"dataframe\">\n",
       "  <thead>\n",
       "    <tr style=\"text-align: right;\">\n",
       "      <th></th>\n",
       "      <th>all_passed</th>\n",
       "      <th>total_tests</th>\n",
       "      <th>success_tests</th>\n",
       "      <th>failed_tests</th>\n",
       "      <th>success</th>\n",
       "      <th>len_curr_data</th>\n",
       "      <th>len_ref_data</th>\n",
       "      <th>features_checked</th>\n",
       "      <th>num_features_checked</th>\n",
       "    </tr>\n",
       "  </thead>\n",
       "  <tbody>\n",
       "    <tr>\n",
       "      <th>0</th>\n",
       "      <td>True</td>\n",
       "      <td>11</td>\n",
       "      <td>11</td>\n",
       "      <td>0</td>\n",
       "      <td>11</td>\n",
       "      <td>21752</td>\n",
       "      <td>20164</td>\n",
       "      <td>[\"bounces\", \"source\", \"medium\", \"channelGroupi...</td>\n",
       "      <td>14</td>\n",
       "    </tr>\n",
       "  </tbody>\n",
       "</table>\n",
       "</div>"
      ],
      "text/plain": [
       "  all_passed total_tests success_tests failed_tests  success  len_curr_data   \n",
       "0       True          11            11            0       11          21752  \\\n",
       "\n",
       "   len_ref_data                                   features_checked   \n",
       "0         20164  [\"bounces\", \"source\", \"medium\", \"channelGroupi...  \\\n",
       "\n",
       "   num_features_checked  \n",
       "0                    14  "
      ]
     },
     "execution_count": 304,
     "metadata": {},
     "output_type": "execute_result"
    }
   ],
   "source": [
    "%%time\n",
    "dtypes_eai = {\n",
    "    \"bounces\": str,\n",
    "    'source': str,\n",
    "    'medium': str,\n",
    "    'channelGrouping': str,\n",
    "    'last_action': str,\n",
    "    'browser': str,\n",
    "    'os': str,\n",
    "    'deviceCategory': str,\n",
    "}\n",
    "ts_cols_eai = categoricals + numericals\n",
    "tests = TestSuite(tests=[\n",
    "    eaits.TestNumberOfColumnsWithMissingValues(),\n",
    "    eaits.TestNumberOfRowsWithMissingValues(),\n",
    "    eaits.TestNumberOfConstantColumns(),\n",
    "    eaits.TestNumberOfDuplicatedRows(),\n",
    "    eaits.TestNumberOfDuplicatedColumns(),\n",
    "    eaits.TestColumnsType(),\n",
    "    eaits.TestNumberOfEmptyColumns(),\n",
    "    eaits.TestNumberOfEmptyRows(),\n",
    "    eaits.TestNumberOfRowsWithMissingValues(),\n",
    "    eaits.TestNumberOfColumns(),\n",
    "])\n",
    "tests.run(\n",
    "    reference_data=X_test_best_run.astype(dtypes_eai)[ts_cols_eai],\n",
    "    current_data=X_infer.astype(dtypes_eai)[ts_cols_eai],\n",
    ")\n",
    "df_stability = (\n",
    "    pd.DataFrame.from_dict(tests.as_dict()['summary'], orient='index')\n",
    "    .transpose()\n",
    "    .assign(success=lambda df: pd.json_normalize(df['by_status']))\n",
    "    .assign(len_curr_data=len(X_infer))\n",
    "    .assign(len_ref_data=len(X_test_best_run))\n",
    "    .assign(features_checked=json.dumps(ts_cols_eai))\n",
    "    .assign(num_features_checked=len(ts_cols_eai))\n",
    "    .drop(columns=['by_status'])\n",
    ")\n",
    "df_stability"
   ]
  },
  {
   "cell_type": "markdown",
   "id": "deb7a21e-e9bb-427f-a2aa-351fac9f84d9",
   "metadata": {},
   "source": [
    "## Make Inference Predictions"
   ]
  },
  {
   "cell_type": "markdown",
   "id": "c7f31512-07db-4727-980d-a50dd21d663a",
   "metadata": {},
   "source": [
    "Make inference predictions with best deployment candidate model"
   ]
  },
  {
   "cell_type": "code",
   "execution_count": null,
   "id": "dda1e076-d0a9-4364-aaac-f488db51c66e",
   "metadata": {
    "tags": []
   },
   "outputs": [],
   "source": [
    "#| echo: true\n",
    "y_infer_pred, y_infer_pred_proba = modh.make_inference(model, X_infer, label)\n",
    "display(\n",
    "    y_infer_pred.value_counts(normalize=True).rename('proportion').to_frame().merge(\n",
    "        y_infer_pred.value_counts(normalize=False).rename('number').to_frame(),\n",
    "        left_index=True,\n",
    "        right_index=True,\n",
    "        how='left',\n",
    "    ).reset_index()\n",
    ")"
   ]
  },
  {
   "cell_type": "markdown",
   "id": "16d8683d-1db3-484c-b9f7-2690aaad1988",
   "metadata": {},
   "source": [
    "::: {.callout-note title=\"Notes\"}\n",
    "\n",
    "1. Per the business use-case, these are predictions of whether a visitor will make a purchase during a later (return) visit to the merchandise store. Such predictions are made using attributes (features) of the first visit by visitors to the store and they can only be evaluated at a later time (after the outcome of the same visitor's later visit is known).\n",
    ":::"
   ]
  },
  {
   "cell_type": "markdown",
   "id": "16b96cc8-ec2d-49d6-b1a5-20fe1229120e",
   "metadata": {
    "tags": []
   },
   "source": [
    "## Create Cohorts"
   ]
  },
  {
   "cell_type": "markdown",
   "id": "5bf7b243-6e9e-40da-b7fe-d6d61df59099",
   "metadata": {},
   "source": [
    "Perform the following to prepare the inference observations for extracting cohorts\n",
    "\n",
    "1. combine inference features and predicted hard and soft labels into single `DataFrame`\n",
    "2. sort predictions in ascending order of the predicted probability (propensity) (score)\n",
    "3. separate the predictions into bins, using the predicted probability, based on the required number of bins\n",
    "4. rename `bin_number` column (for use in downstream step)\n",
    "5. set datatypes for columns"
   ]
  },
  {
   "cell_type": "code",
   "execution_count": null,
   "id": "2b1f4694-2537-4139-b7ff-6953c4b6d60a",
   "metadata": {
    "tags": []
   },
   "outputs": [],
   "source": [
    "#| echo: true\n",
    "df_infer_pred = (\n",
    "    ch.combine_infer_data(X_infer, y_infer_pred, y_infer_pred_proba)\n",
    "    .pipe(ash.sort_scores, False)\n",
    "    .pipe(ash.get_audience_groups_by_propensity, num_bins)\n",
    "    .pipe(ch.rename_columns, {\"group_number\": \"maudience\"})\n",
    "    .pipe(\n",
    "        ash.set_datatypes,\n",
    "        {\n",
    "            \"row_number\": pd.Int16Dtype(),\n",
    "            \"fullvisitorid\": pd.StringDtype(),\n",
    "            \"score\": pd.Float32Dtype(),\n",
    "            \"predicted_score_label\": pd.BooleanDtype(),\n",
    "            \"maudience\": pd.Int8Dtype(),\n",
    "        },\n",
    "    )\n",
    ")\n",
    "with pd.option_context(\"display.max_columns\", 1000):\n",
    "    display(df_infer_pred.dtypes.rename(\"dtype\").to_frame().T)\n",
    "    display(df_infer_pred)"
   ]
  },
  {
   "cell_type": "markdown",
   "id": "e44496ee-1a4b-4a61-ab1e-72a76b89b2d5",
   "metadata": {},
   "source": [
    "::: {.callout-note title=\"Notes\"}\n",
    "\n",
    "1. This is the same data preparation that was used during the (previous) sample size estimation step step in order to prepare the test data split for estimating the required sample size.\n",
    ":::"
   ]
  },
  {
   "cell_type": "markdown",
   "id": "28df8111-6d4f-4382-bfe5-145c15bc57ea",
   "metadata": {},
   "source": [
    "Perform the following to get the test and control cohorts from the inference data\n",
    "\n",
    "1. load estimates for required sample sizes associated with best deployment candidate model\n",
    "2. get required sample sizes for the chosen audience strategy\n",
    "3. get required sample sizes that can be supported by size of inference data\n",
    "4. get required sample sizes that support all required audience groups (bins)\n",
    "5. get required sample sizes that capture required effect sizes\n",
    "6. get random test and control cohorts"
   ]
  },
  {
   "cell_type": "code",
   "execution_count": null,
   "id": "6268582b-5993-43e6-af42-af1dfcf34781",
   "metadata": {
    "tags": []
   },
   "outputs": [],
   "source": [
    "#| echo: true\n",
    "df_infer_audience_groups = (\n",
    "    ch.load_file_from_mlflow_artifact(\n",
    "        df_deployment_candidate_mlflow_models, \"audience_sample_sizes\"\n",
    "    )\n",
    "    .pipe(ch.get_sample_sizes_by_strategy, audience_strategy)\n",
    "    .pipe(ch.get_suitable_sample_sizes, bin_size_infer_control)\n",
    "    .pipe(ch.get_sample_sizes_with_all_audience_groups, num_bins)\n",
    "    .pipe(ch.get_required_inputs, query_inputs)\n",
    "    .pipe(\n",
    "        ch.create_cohorts,\n",
    "        df_infer_pred,\n",
    "        mapper_dict_audience_strategy_1\n",
    "        if audience_strategy == 1\n",
    "        else mapper_dict_audience_strategy_2,\n",
    "        audience_strategy,\n",
    "    )\n",
    "    .pipe(\n",
    "        ash.set_datatypes,\n",
    "        {\n",
    "            \"maudience\": pd.StringDtype(),\n",
    "            \"cohort\": pd.StringDtype(),\n",
    "            \"audience_strategy\": pd.Int8Dtype(),\n",
    "        },\n",
    "    )\n",
    ")\n",
    "with pd.option_context(\"display.max_columns\", 1000):\n",
    "    display(df_infer_audience_groups)"
   ]
  },
  {
   "cell_type": "markdown",
   "id": "ca3474b9-3feb-484d-aa6f-f1d7f2903f7f",
   "metadata": {},
   "source": [
    "::: {.callout-note title=\"Notes\"}\n",
    "\n",
    "1. The final sample size used to generate the cohorts is the least number of samples (first-time visitors) to be included in each of the control and test cohorts of each audience group. These sizes come from the output of the previous step (designing a media or marketing experiment - [1](https://blog.hubspot.com/blog/tabid/6307/bid/31634/a-b-testing-in-action-3-real-life-marketing-experiments.aspx), [2](https://www.datacamp.com/blog/data-demystified-what-is-a-b-testing)).\n",
    ":::"
   ]
  },
  {
   "cell_type": "markdown",
   "id": "69f22447-72c8-4a3f-8393-1c5a96bb9146",
   "metadata": {},
   "source": [
    "The treatment (or test) and control groups should be similar to each other for the property to be tested. This is a [fundamental requirement of test and control groups](https://www.mobileapps.com/blog/test-group#Similarities_Between_Test_and_Control_Groups). In this case, the probability (score column) is the property of interest. With this in mind, we now show selected descriptive statistics, for the score column, for both the test (treatment) and control cohorts within each desired audience group (low, medium and high propensity)"
   ]
  },
  {
   "cell_type": "code",
   "execution_count": null,
   "id": "f4847403-6a80-486e-8f1f-2338360c6b02",
   "metadata": {
    "tags": []
   },
   "outputs": [],
   "source": [
    "#| echo: true\n",
    "df_aud_stats = ch.get_cohort_stats(df_infer_audience_groups)\n",
    "df_aud_stats"
   ]
  },
  {
   "cell_type": "markdown",
   "id": "8d1fce3f-0b18-4826-ac55-2dd6a3cdd015",
   "metadata": {},
   "source": [
    "::: {.callout-tip title=\"Observations\"}\n",
    "\n",
    "1. It is reassuring that there is agreement in the statistics for the probabilities per Test-Control cohort within the same audience group.\n",
    ":::"
   ]
  },
  {
   "cell_type": "markdown",
   "id": "42ad948f-f28c-4143-aa98-50004fdfd327",
   "metadata": {},
   "source": [
    "Finally, the audience groups in the inference data are now briefly profiled, in order to identify characteristics that might help the marketing team build an appropriate strategy to be implemented during the campaign. For each audience group, the profile consists of the following\n",
    "\n",
    "1. proportion of visitors who displayed the following behavior\n",
    "   - whose last action during thier first visit was\n",
    "     - `last_action == 'Add product(s) to cart'`\n",
    "     - `last_action == 'Product detail_views'`\n",
    "     - `last_action == 'Click through of product lists'`\n",
    "   -  who\n",
    "      - used a `medium == 'referral'` to get to the store's website on their first visit\n",
    "      - added one item to their shopping cart (`added_to_cart > 0`) on their first visit\n",
    "   - whose\n",
    "     - first visit occurred on a weekend (`day_of_week.isin(@weekend_days)`)\n",
    "2. bounce rate during all first visits\n",
    "3. following descriptive statistics\n",
    "   - `hour`, `day_of_week`\n",
    "     - statistic: `mean`\n",
    "   - `source`, `medium`, `channelGrouping`, `last_action`, `browser`, `os`, `deviceCategory`\n",
    "     - statistic: `mode` (most common value)\n",
    "   - `promos_displayed`, `promos_clicked`, `product_views`, `product_clicks`, `pageviews`, `added_to_cart`\n",
    "     - statistics: `mean`, `max`"
   ]
  },
  {
   "cell_type": "code",
   "execution_count": null,
   "id": "24fc4b69-f6d2-469a-af76-9b247de91276",
   "metadata": {
    "tags": []
   },
   "outputs": [],
   "source": [
    "#| echo: true\n",
    "df_profile = pa.get_audience_profile(df_infer_audience_groups)\n",
    "with pd.option_context(\"display.max_columns\", 1000):\n",
    "    display(df_profile)"
   ]
  },
  {
   "cell_type": "markdown",
   "id": "387eaac5-6c55-4391-8ab5-4a1e3c7d2ea4",
   "metadata": {},
   "source": [
    "::: {.callout-note title=\"Notes\"}\n",
    "\n",
    "1. The audience profile consists of different types of statistics about the first visit, for each audience group.\n",
    "2. The `stat` column shows the attribute from the first visit in the inference data for which a statistic is calculated.\n",
    "3. The `stat_type` column indicates the type of statistic.\n",
    "4. The *High*, *Medium* and *Low* columns (or just the *High* column, if the single-group audience strategy is being used) show the statistic of each attribute *within* each audience group.\n",
    ":::"
   ]
  },
  {
   "cell_type": "markdown",
   "id": "a6aa65c5-22b9-49fc-9c7d-00db4684e952",
   "metadata": {},
   "source": [
    "## Export to Disk and ML Experiment Tracking"
   ]
  },
  {
   "cell_type": "markdown",
   "id": "83926185-8fb4-49ef-adf7-0711ac3a5cfd",
   "metadata": {},
   "source": [
    "Get the best MLFlow run ID"
   ]
  },
  {
   "cell_type": "code",
   "execution_count": null,
   "id": "df19f3fd-5c63-41b5-9ae6-56d86c31a7ab",
   "metadata": {
    "tags": []
   },
   "outputs": [],
   "source": [
    "#| echo: true\n",
    "best_run_id = df_deployment_candidate_mlflow_models.squeeze()[\"run_id\"]"
   ]
  },
  {
   "cell_type": "markdown",
   "id": "c88b0af5-55b3-448a-aff0-e3660dbb7646",
   "metadata": {},
   "source": [
    "### Audience Cohorts"
   ]
  },
  {
   "cell_type": "markdown",
   "id": "ffe56552-8566-42c8-ae63-954e685fd293",
   "metadata": {},
   "source": [
    "Show summary of `DataFrame` with audience cohorts"
   ]
  },
  {
   "cell_type": "code",
   "execution_count": null,
   "id": "d75c7295-dcb8-40c4-8e2d-992aa56421ac",
   "metadata": {
    "tags": []
   },
   "outputs": [],
   "source": [
    "#| echo: true\n",
    "ut.summarize_df(df_infer_audience_groups)"
   ]
  },
  {
   "cell_type": "markdown",
   "id": "b1be3ff8-3720-4d9e-ad32-0bfc4d14d4dd",
   "metadata": {},
   "source": [
    "::: {.callout-note title=\"Notes\"}\n",
    "\n",
    "1. The `cohort` column has missing values for visitors who were not assigned to either the test or control groups. This is expected.\n",
    ":::"
   ]
  },
  {
   "cell_type": "markdown",
   "id": "e63afd5c-df95-49dc-82fe-226140a6f181",
   "metadata": {},
   "source": [
    "Export to disk and log exported file as MLFlow artifact"
   ]
  },
  {
   "cell_type": "code",
   "execution_count": null,
   "id": "c6dc64cd-70e4-4a2b-b1fa-167d45fe415e",
   "metadata": {
    "tags": []
   },
   "outputs": [],
   "source": [
    "#| echo: true\n",
    "ut.export_and_track(\n",
    "    os.path.join(\n",
    "        processed_data_dir,\n",
    "        f\"audience_cohorts__run_\"\n",
    "        f\"{best_run_id}__\"\n",
    "        f\"infer_month_{month_name[1:][X_infer['month'].iloc[-1] - 1]}__\"\n",
    "        f\"{datetime.now().strftime('%Y%m%d_%H%M%S')}.parquet.gzip\",\n",
    "    ),\n",
    "    df_infer_audience_groups,\n",
    "    (\n",
    "        \"inference audience cohorts for \"\n",
    "        f\"{month_name[1:][X_infer['month'].iloc[-1] - 1]}\"\n",
    "    ),\n",
    "    best_run_id,\n",
    ")"
   ]
  },
  {
   "cell_type": "markdown",
   "id": "ddf15592-e5dd-4990-afc5-fee6b141d23f",
   "metadata": {},
   "source": [
    "### Audience Profiles"
   ]
  },
  {
   "cell_type": "markdown",
   "id": "8dfa3ae7-93d7-49d6-981a-2a3033853fd6",
   "metadata": {},
   "source": [
    "Show summary `DataFrame` with audience profiles"
   ]
  },
  {
   "cell_type": "code",
   "execution_count": null,
   "id": "2cf3cc92-671d-4d94-8f08-066f39988ca9",
   "metadata": {
    "tags": []
   },
   "outputs": [],
   "source": [
    "#| echo: true\n",
    "ut.summarize_df(df_profile)"
   ]
  },
  {
   "cell_type": "markdown",
   "id": "74d10c34-acbd-47af-b72b-a324914df614",
   "metadata": {},
   "source": [
    "::: {.callout-note title=\"Notes\"}\n",
    "\n",
    "1. The behavioral attributes in the profile are not specific to an individual column. So, the `column` in the profile `DataFrame` has missing values for these attributes.\n",
    ":::"
   ]
  },
  {
   "cell_type": "markdown",
   "id": "979e7626-a807-4435-a85c-af03d905dad5",
   "metadata": {},
   "source": [
    "Export to disk and log exported file as MLFlow artifact"
   ]
  },
  {
   "cell_type": "code",
   "execution_count": null,
   "id": "d60fba06-d404-430c-b912-c73ae67c57a7",
   "metadata": {
    "tags": []
   },
   "outputs": [],
   "source": [
    "#| echo: true\n",
    "ut.export_and_track(\n",
    "    os.path.join(\n",
    "        processed_data_dir,\n",
    "        f\"audience_profiles__run_\"\n",
    "        f\"{best_run_id}__\"\n",
    "        f\"infer_month_{month_name[1:][X_infer['month'].iloc[-1] - 1]}__\"\n",
    "        f\"{datetime.now().strftime('%Y%m%d_%H%M%S')}.parquet.gzip\",\n",
    "    ),\n",
    "    df_profile,\n",
    "    (\n",
    "        \"inference audience profiles for \"\n",
    "        f\"{month_name[1:][X_infer['month'].iloc[-1] - 1]}\"\n",
    "    ),\n",
    "    best_run_id,\n",
    ")"
   ]
  },
  {
   "cell_type": "markdown",
   "id": "ff35d092-6b70-45f8-8c30-0ced88feb86f",
   "metadata": {},
   "source": [
    "## Next Step"
   ]
  },
  {
   "cell_type": "markdown",
   "id": "d0a5ede2-6c9c-4079-89f1-82b6b9d7e106",
   "metadata": {},
   "source": [
    "The next step will assess the performance of the marketing campaign, after the campaign has completed."
   ]
  }
 ],
 "metadata": {
  "kernelspec": {
   "display_name": "transform",
   "language": "python",
   "name": "transform"
  },
  "language_info": {
   "codemirror_mode": {
    "name": "ipython",
    "version": 3
   },
   "file_extension": ".py",
   "mimetype": "text/x-python",
   "name": "python",
   "nbconvert_exporter": "python",
   "pygments_lexer": "ipython3",
   "version": "3.11.3"
  }
 },
 "nbformat": 4,
 "nbformat_minor": 5
}
