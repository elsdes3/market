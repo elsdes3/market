{
 "cells": [
  {
   "cell_type": "markdown",
   "id": "c54daeb9-3617-4e27-b399-1c2a35588843",
   "metadata": {},
   "source": [
    "# Explore Google Analytics Tracking Data"
   ]
  },
  {
   "cell_type": "code",
   "execution_count": 1,
   "id": "950392c4-7bf1-4358-ae7a-44e221dffc2d",
   "metadata": {
    "tags": []
   },
   "outputs": [],
   "source": [
    "%load_ext lab_black\n",
    "%load_ext autoreload\n",
    "%autoreload 2"
   ]
  },
  {
   "cell_type": "markdown",
   "id": "f24c4799-49b7-463e-9538-65ca705a256e",
   "metadata": {},
   "source": [
    "Import necessary Python modules"
   ]
  },
  {
   "cell_type": "code",
   "execution_count": 2,
   "id": "4fceeb47-75e7-4f5a-8c8a-991b229c6c66",
   "metadata": {
    "tags": []
   },
   "outputs": [],
   "source": [
    "import os\n",
    "import sys\n",
    "\n",
    "import pandas as pd"
   ]
  },
  {
   "cell_type": "markdown",
   "id": "9309e81d-e27f-4da8-93f8-e2d42535ea8b",
   "metadata": {},
   "source": [
    "Get relative path to project root directory"
   ]
  },
  {
   "cell_type": "code",
   "execution_count": 3,
   "id": "9e693ef7-20dc-4906-878d-3624b74ddf26",
   "metadata": {
    "tags": []
   },
   "outputs": [],
   "source": [
    "PROJ_ROOT_DIR = os.path.join(os.pardir)\n",
    "src_dir = os.path.join(PROJ_ROOT_DIR, \"src\")\n",
    "sys.path.append(src_dir)"
   ]
  },
  {
   "cell_type": "markdown",
   "id": "bd8ab66e-9c23-44a4-b888-ded9bed98fb2",
   "metadata": {},
   "source": [
    "Import custom Python modules"
   ]
  },
  {
   "cell_type": "code",
   "execution_count": 4,
   "id": "22a30753-fcb9-4a60-beda-75c896d4ea28",
   "metadata": {
    "tags": []
   },
   "outputs": [],
   "source": [
    "%aimport bigquery_auth_helpers\n",
    "from bigquery_auth_helpers import auth_to_bigquery\n",
    "\n",
    "%aimport transform_helpers\n",
    "import transform_helpers as th"
   ]
  },
  {
   "cell_type": "markdown",
   "id": "884b040c-e756-4e78-b943-a925f5237db2",
   "metadata": {},
   "source": [
    "## About"
   ]
  },
  {
   "cell_type": "markdown",
   "id": "581434f5-2e77-4b5c-9335-98543b98fa81",
   "metadata": {},
   "source": [
    "Explore Google Analytics (GA 360) tracking data."
   ]
  },
  {
   "cell_type": "markdown",
   "id": "d16cc8c3-2fbc-43b6-a1bb-c6ffd1cb7fed",
   "metadata": {},
   "source": [
    "## User Inputs"
   ]
  },
  {
   "cell_type": "code",
   "execution_count": 5,
   "id": "b5b3a865-3f4a-427d-8ed3-23eed99f0154",
   "metadata": {
    "tags": [
     "parameters"
    ]
   },
   "outputs": [],
   "source": [
    "split_start_date = \"20160901\"\n",
    "split_end_date = \"20160910\"\n",
    "train_split_start_date = \"20160901\"\n",
    "test_split_end_date = \"20160930\""
   ]
  },
  {
   "cell_type": "markdown",
   "id": "8566d683-3ee8-4f2e-b1b5-9a3f26996688",
   "metadata": {},
   "source": [
    "Get path to data sub-folders"
   ]
  },
  {
   "cell_type": "code",
   "execution_count": 6,
   "id": "75ad133d-1086-48ab-84ff-fc9fed211c81",
   "metadata": {
    "tags": []
   },
   "outputs": [],
   "source": [
    "data_dir = os.path.join(PROJ_ROOT_DIR, \"data\")\n",
    "raw_data_dir = os.path.join(data_dir, \"raw\")"
   ]
  },
  {
   "cell_type": "markdown",
   "id": "9e3ed832-7232-449f-9401-7122ce180b6e",
   "metadata": {},
   "source": [
    "## Authenticate to `BigQuery`"
   ]
  },
  {
   "cell_type": "code",
   "execution_count": 7,
   "id": "6381d7a0-3dc0-4c38-bd69-73ec8dade58b",
   "metadata": {
    "tags": []
   },
   "outputs": [],
   "source": [
    "gcp_auth_dict = auth_to_bigquery(raw_data_dir)"
   ]
  },
  {
   "cell_type": "markdown",
   "id": "7bad711f-e641-4a1e-8f84-c686ffbd0414",
   "metadata": {},
   "source": [
    "## Explore Google Analytics Tracking Data"
   ]
  },
  {
   "cell_type": "markdown",
   "id": "ad6e90fb-a9cd-4227-898d-c03d0d82652a",
   "metadata": {},
   "source": [
    "### Get Return Visits"
   ]
  },
  {
   "cell_type": "markdown",
   "id": "ad5e9d90-c570-479f-bb14-d81963ba7761",
   "metadata": {},
   "source": [
    "Get all occurrences of return visits during September 2016"
   ]
  },
  {
   "cell_type": "code",
   "execution_count": 8,
   "id": "e29d0662-89b3-4ace-957a-9a128e042623",
   "metadata": {
    "tags": []
   },
   "outputs": [
    {
     "name": "stdout",
     "output_type": "stream",
     "text": [
      "Query execution start time = 2023-05-09 18:01:05.113...done at 2023-05-09 18:01:08.594 (3.481 seconds).\n",
      "Query returned 28,013 rows\n",
      "CPU times: user 559 ms, sys: 59.3 ms, total: 618 ms\n",
      "Wall time: 3.49 s\n"
     ]
    },
    {
     "data": {
      "text/html": [
       "<div>\n",
       "<style scoped>\n",
       "    .dataframe tbody tr th:only-of-type {\n",
       "        vertical-align: middle;\n",
       "    }\n",
       "\n",
       "    .dataframe tbody tr th {\n",
       "        vertical-align: top;\n",
       "    }\n",
       "\n",
       "    .dataframe thead th {\n",
       "        text-align: right;\n",
       "    }\n",
       "</style>\n",
       "<table border=\"1\" class=\"dataframe\">\n",
       "  <thead>\n",
       "    <tr style=\"text-align: right;\">\n",
       "      <th></th>\n",
       "      <th>fullvisitorid</th>\n",
       "      <th>visitId</th>\n",
       "      <th>visitNumber</th>\n",
       "      <th>visitStartTime</th>\n",
       "      <th>made_purchase_on_future_visit</th>\n",
       "    </tr>\n",
       "  </thead>\n",
       "  <tbody>\n",
       "    <tr>\n",
       "      <th>0</th>\n",
       "      <td>0000093957001069502</td>\n",
       "      <td>1474985724</td>\n",
       "      <td>1</td>\n",
       "      <td>2016-09-27 07:15:24</td>\n",
       "      <td>False</td>\n",
       "    </tr>\n",
       "    <tr>\n",
       "      <th>1</th>\n",
       "      <td>0000245437374675368</td>\n",
       "      <td>1472862842</td>\n",
       "      <td>1</td>\n",
       "      <td>2016-09-02 17:34:02</td>\n",
       "      <td>False</td>\n",
       "    </tr>\n",
       "    <tr>\n",
       "      <th>2</th>\n",
       "      <td>0000639845445148063</td>\n",
       "      <td>1473694653</td>\n",
       "      <td>1</td>\n",
       "      <td>2016-09-12 08:37:33</td>\n",
       "      <td>False</td>\n",
       "    </tr>\n",
       "    <tr>\n",
       "      <th>3</th>\n",
       "      <td>000139156957304532</td>\n",
       "      <td>1473013369</td>\n",
       "      <td>1</td>\n",
       "      <td>2016-09-04 11:22:49</td>\n",
       "      <td>False</td>\n",
       "    </tr>\n",
       "    <tr>\n",
       "      <th>4</th>\n",
       "      <td>0001601342180848204</td>\n",
       "      <td>1474930306</td>\n",
       "      <td>1</td>\n",
       "      <td>2016-09-26 15:51:46</td>\n",
       "      <td>False</td>\n",
       "    </tr>\n",
       "  </tbody>\n",
       "</table>\n",
       "</div>"
      ],
      "text/plain": [
       "         fullvisitorid     visitId  visitNumber      visitStartTime   \n",
       "0  0000093957001069502  1474985724            1 2016-09-27 07:15:24  \\\n",
       "1  0000245437374675368  1472862842            1 2016-09-02 17:34:02   \n",
       "2  0000639845445148063  1473694653            1 2016-09-12 08:37:33   \n",
       "3   000139156957304532  1473013369            1 2016-09-04 11:22:49   \n",
       "4  0001601342180848204  1474930306            1 2016-09-26 15:51:46   \n",
       "\n",
       "   made_purchase_on_future_visit  \n",
       "0                          False  \n",
       "1                          False  \n",
       "2                          False  \n",
       "3                          False  \n",
       "4                          False  "
      ]
     },
     "execution_count": 8,
     "metadata": {},
     "output_type": "execute_result"
    }
   ],
   "source": [
    "%%time\n",
    "query_str = f\"\"\"\n",
    "            WITH\n",
    "            return_visits AS (\n",
    "                 SELECT fullvisitorid,\n",
    "                        visitId,\n",
    "                        visitNumber,\n",
    "                        DATETIME(TIMESTAMP(TIMESTAMP_SECONDS(visitStartTime)), 'US/Pacific') AS visitStartTime,\n",
    "                        IF(COUNTIF(totals.transactions > 0 AND totals.newVisits IS NULL) > 0, True, False) AS made_purchase_on_future_visit\n",
    "                 FROM `data-to-insights.ecommerce.web_analytics`\n",
    "                 WHERE date BETWEEN '{train_split_start_date}' AND '{test_split_end_date}'\n",
    "                 AND geoNetwork.country = 'United States'\n",
    "                 GROUP BY fullvisitorid,\n",
    "                          visitId,\n",
    "                          visitNumber,\n",
    "                          visitStartTime\n",
    "            )\n",
    "            SELECT *\n",
    "            FROM return_visits\n",
    "            ORDER BY fullvisitorid\n",
    "            \"\"\"\n",
    "df = th.extract_data(query_str, gcp_auth_dict)\n",
    "df.head()"
   ]
  },
  {
   "cell_type": "markdown",
   "id": "03f208a5-b353-438a-8778-f34d26d3858b",
   "metadata": {},
   "source": [
    "Get visitors who made multiple return visits"
   ]
  },
  {
   "cell_type": "code",
   "execution_count": 9,
   "id": "302a06db-ad95-4029-a3e3-ac3fa304ffa3",
   "metadata": {
    "tags": []
   },
   "outputs": [
    {
     "data": {
      "text/html": [
       "<div>\n",
       "<style scoped>\n",
       "    .dataframe tbody tr th:only-of-type {\n",
       "        vertical-align: middle;\n",
       "    }\n",
       "\n",
       "    .dataframe tbody tr th {\n",
       "        vertical-align: top;\n",
       "    }\n",
       "\n",
       "    .dataframe thead th {\n",
       "        text-align: right;\n",
       "    }\n",
       "</style>\n",
       "<table border=\"1\" class=\"dataframe\">\n",
       "  <thead>\n",
       "    <tr style=\"text-align: right;\">\n",
       "      <th></th>\n",
       "      <th>fullvisitorid</th>\n",
       "      <th>visitId</th>\n",
       "      <th>visitNumber</th>\n",
       "      <th>visitStartTime</th>\n",
       "      <th>made_purchase_on_future_visit</th>\n",
       "    </tr>\n",
       "  </thead>\n",
       "  <tbody>\n",
       "    <tr>\n",
       "      <th>12</th>\n",
       "      <td>0005884918507288420</td>\n",
       "      <td>1474464720</td>\n",
       "      <td>1</td>\n",
       "      <td>2016-09-21 06:32:00</td>\n",
       "      <td>False</td>\n",
       "    </tr>\n",
       "    <tr>\n",
       "      <th>13</th>\n",
       "      <td>0005884918507288420</td>\n",
       "      <td>1474469723</td>\n",
       "      <td>2</td>\n",
       "      <td>2016-09-21 07:55:23</td>\n",
       "      <td>False</td>\n",
       "    </tr>\n",
       "    <tr>\n",
       "      <th>19</th>\n",
       "      <td>0010286039787739137</td>\n",
       "      <td>1475249827</td>\n",
       "      <td>2</td>\n",
       "      <td>2016-09-30 08:37:07</td>\n",
       "      <td>False</td>\n",
       "    </tr>\n",
       "    <tr>\n",
       "      <th>20</th>\n",
       "      <td>0010286039787739137</td>\n",
       "      <td>1475084026</td>\n",
       "      <td>1</td>\n",
       "      <td>2016-09-28 10:33:46</td>\n",
       "      <td>False</td>\n",
       "    </tr>\n",
       "    <tr>\n",
       "      <th>32</th>\n",
       "      <td>0015065858137292339</td>\n",
       "      <td>1473641554</td>\n",
       "      <td>5</td>\n",
       "      <td>2016-09-11 17:52:34</td>\n",
       "      <td>False</td>\n",
       "    </tr>\n",
       "    <tr>\n",
       "      <th>33</th>\n",
       "      <td>0015065858137292339</td>\n",
       "      <td>1473119040</td>\n",
       "      <td>2</td>\n",
       "      <td>2016-09-05 16:44:00</td>\n",
       "      <td>False</td>\n",
       "    </tr>\n",
       "    <tr>\n",
       "      <th>34</th>\n",
       "      <td>0015065858137292339</td>\n",
       "      <td>1473630321</td>\n",
       "      <td>4</td>\n",
       "      <td>2016-09-11 14:45:21</td>\n",
       "      <td>False</td>\n",
       "    </tr>\n",
       "    <tr>\n",
       "      <th>35</th>\n",
       "      <td>0015065858137292339</td>\n",
       "      <td>1473466324</td>\n",
       "      <td>3</td>\n",
       "      <td>2016-09-09 17:12:04</td>\n",
       "      <td>False</td>\n",
       "    </tr>\n",
       "    <tr>\n",
       "      <th>36</th>\n",
       "      <td>0015065858137292339</td>\n",
       "      <td>1472856937</td>\n",
       "      <td>1</td>\n",
       "      <td>2016-09-02 15:55:37</td>\n",
       "      <td>False</td>\n",
       "    </tr>\n",
       "    <tr>\n",
       "      <th>37</th>\n",
       "      <td>0015065858137292339</td>\n",
       "      <td>1473997381</td>\n",
       "      <td>6</td>\n",
       "      <td>2016-09-15 20:43:01</td>\n",
       "      <td>False</td>\n",
       "    </tr>\n",
       "  </tbody>\n",
       "</table>\n",
       "</div>"
      ],
      "text/plain": [
       "          fullvisitorid     visitId  visitNumber      visitStartTime   \n",
       "12  0005884918507288420  1474464720            1 2016-09-21 06:32:00  \\\n",
       "13  0005884918507288420  1474469723            2 2016-09-21 07:55:23   \n",
       "19  0010286039787739137  1475249827            2 2016-09-30 08:37:07   \n",
       "20  0010286039787739137  1475084026            1 2016-09-28 10:33:46   \n",
       "32  0015065858137292339  1473641554            5 2016-09-11 17:52:34   \n",
       "33  0015065858137292339  1473119040            2 2016-09-05 16:44:00   \n",
       "34  0015065858137292339  1473630321            4 2016-09-11 14:45:21   \n",
       "35  0015065858137292339  1473466324            3 2016-09-09 17:12:04   \n",
       "36  0015065858137292339  1472856937            1 2016-09-02 15:55:37   \n",
       "37  0015065858137292339  1473997381            6 2016-09-15 20:43:01   \n",
       "\n",
       "    made_purchase_on_future_visit  \n",
       "12                          False  \n",
       "13                          False  \n",
       "19                          False  \n",
       "20                          False  \n",
       "32                          False  \n",
       "33                          False  \n",
       "34                          False  \n",
       "35                          False  \n",
       "36                          False  \n",
       "37                          False  "
      ]
     },
     "execution_count": 9,
     "metadata": {},
     "output_type": "execute_result"
    }
   ],
   "source": [
    "df_return_visits = df[df.duplicated(subset=[\"fullvisitorid\"], keep=False)]\n",
    "df_return_visits.head(10)"
   ]
  },
  {
   "cell_type": "markdown",
   "id": "817cee42-20c4-4c62-acc9-7a075527609c",
   "metadata": {},
   "source": [
    "Return visits are made up by two types of visitors\n",
    "\n",
    "1. those that made a purchase\n",
    "2. those that did not make a purchase\n",
    "\n",
    "The number of visitors who did and did not make a purchase during a return visit are shown below"
   ]
  },
  {
   "cell_type": "code",
   "execution_count": 10,
   "id": "66780c66-d639-4a63-a54c-949b4df262ae",
   "metadata": {
    "tags": []
   },
   "outputs": [
    {
     "data": {
      "text/html": [
       "<div>\n",
       "<style scoped>\n",
       "    .dataframe tbody tr th:only-of-type {\n",
       "        vertical-align: middle;\n",
       "    }\n",
       "\n",
       "    .dataframe tbody tr th {\n",
       "        vertical-align: top;\n",
       "    }\n",
       "\n",
       "    .dataframe thead th {\n",
       "        text-align: right;\n",
       "    }\n",
       "</style>\n",
       "<table border=\"1\" class=\"dataframe\">\n",
       "  <thead>\n",
       "    <tr style=\"text-align: right;\">\n",
       "      <th></th>\n",
       "      <th>made_purchase_on_future_visit</th>\n",
       "      <th>count</th>\n",
       "      <th>proportion</th>\n",
       "    </tr>\n",
       "  </thead>\n",
       "  <tbody>\n",
       "    <tr>\n",
       "      <th>0</th>\n",
       "      <td>False</td>\n",
       "      <td>10507</td>\n",
       "      <td>0.955616</td>\n",
       "    </tr>\n",
       "    <tr>\n",
       "      <th>1</th>\n",
       "      <td>True</td>\n",
       "      <td>488</td>\n",
       "      <td>0.044384</td>\n",
       "    </tr>\n",
       "  </tbody>\n",
       "</table>\n",
       "</div>"
      ],
      "text/plain": [
       "   made_purchase_on_future_visit  count  proportion\n",
       "0                          False  10507    0.955616\n",
       "1                           True    488    0.044384"
      ]
     },
     "execution_count": 10,
     "metadata": {},
     "output_type": "execute_result"
    }
   ],
   "source": [
    "df_return_visits[\"made_purchase_on_future_visit\"].value_counts().reset_index().assign(\n",
    "    proportion=lambda df: df[\"count\"] / df[\"count\"].sum()\n",
    ")"
   ]
  },
  {
   "cell_type": "markdown",
   "id": "fa81f1ed-953d-4b29-9d1a-636398f9383c",
   "metadata": {},
   "source": [
    "::: {.callout-tip title=\"Observations\"}\n",
    "\n",
    "1. Only approximately 4.4% of all return visits in September 2016 resulted in a purchase.\n",
    ":::"
   ]
  },
  {
   "cell_type": "markdown",
   "id": "699ec4eb-e170-4bae-b107-2466f48022ab",
   "metadata": {},
   "source": [
    "### Show Frequency of Repeat Customers During Return Visits"
   ]
  },
  {
   "cell_type": "markdown",
   "id": "30d55db0-9ece-4dc2-a4e1-5370711be55d",
   "metadata": {},
   "source": [
    "Some visitors made multiple return visits and a small subset of such visitors made multiple purchases. This is shown below."
   ]
  },
  {
   "cell_type": "markdown",
   "id": "0671d9e3-bfbc-4c05-99d1-c7fa1ab1522c",
   "metadata": {},
   "source": [
    "First, for each visitor, get the following\n",
    "\n",
    "1. whether that vistor ever made a purchase on a return visit\n",
    "2. number of purchases made across all return visits"
   ]
  },
  {
   "cell_type": "code",
   "execution_count": 11,
   "id": "b1b48fd9-32bf-494c-ab1b-3ecdc6cf66e0",
   "metadata": {
    "tags": []
   },
   "outputs": [
    {
     "data": {
      "text/html": [
       "<div>\n",
       "<style scoped>\n",
       "    .dataframe tbody tr th:only-of-type {\n",
       "        vertical-align: middle;\n",
       "    }\n",
       "\n",
       "    .dataframe tbody tr th {\n",
       "        vertical-align: top;\n",
       "    }\n",
       "\n",
       "    .dataframe thead th {\n",
       "        text-align: right;\n",
       "    }\n",
       "</style>\n",
       "<table border=\"1\" class=\"dataframe\">\n",
       "  <thead>\n",
       "    <tr style=\"text-align: right;\">\n",
       "      <th></th>\n",
       "      <th>fullvisitorid</th>\n",
       "      <th>made_purchase_on_future_visit_max</th>\n",
       "      <th>made_purchase_on_future_visit_sum</th>\n",
       "    </tr>\n",
       "  </thead>\n",
       "  <tbody>\n",
       "    <tr>\n",
       "      <th>0</th>\n",
       "      <td>0005884918507288420</td>\n",
       "      <td>False</td>\n",
       "      <td>0</td>\n",
       "    </tr>\n",
       "    <tr>\n",
       "      <th>1</th>\n",
       "      <td>0010286039787739137</td>\n",
       "      <td>False</td>\n",
       "      <td>0</td>\n",
       "    </tr>\n",
       "    <tr>\n",
       "      <th>2</th>\n",
       "      <td>0015065858137292339</td>\n",
       "      <td>False</td>\n",
       "      <td>0</td>\n",
       "    </tr>\n",
       "    <tr>\n",
       "      <th>3</th>\n",
       "      <td>0026203741366904270</td>\n",
       "      <td>True</td>\n",
       "      <td>1</td>\n",
       "    </tr>\n",
       "    <tr>\n",
       "      <th>4</th>\n",
       "      <td>0027817676806595220</td>\n",
       "      <td>False</td>\n",
       "      <td>0</td>\n",
       "    </tr>\n",
       "    <tr>\n",
       "      <th>...</th>\n",
       "      <td>...</td>\n",
       "      <td>...</td>\n",
       "      <td>...</td>\n",
       "    </tr>\n",
       "    <tr>\n",
       "      <th>3755</th>\n",
       "      <td>9986848664463401272</td>\n",
       "      <td>False</td>\n",
       "      <td>0</td>\n",
       "    </tr>\n",
       "    <tr>\n",
       "      <th>3756</th>\n",
       "      <td>9990362099175067703</td>\n",
       "      <td>False</td>\n",
       "      <td>0</td>\n",
       "    </tr>\n",
       "    <tr>\n",
       "      <th>3757</th>\n",
       "      <td>999203594099745000</td>\n",
       "      <td>False</td>\n",
       "      <td>0</td>\n",
       "    </tr>\n",
       "    <tr>\n",
       "      <th>3758</th>\n",
       "      <td>9992704342633956099</td>\n",
       "      <td>False</td>\n",
       "      <td>0</td>\n",
       "    </tr>\n",
       "    <tr>\n",
       "      <th>3759</th>\n",
       "      <td>9993899288592473535</td>\n",
       "      <td>False</td>\n",
       "      <td>0</td>\n",
       "    </tr>\n",
       "  </tbody>\n",
       "</table>\n",
       "<p>3760 rows × 3 columns</p>\n",
       "</div>"
      ],
      "text/plain": [
       "            fullvisitorid  made_purchase_on_future_visit_max   \n",
       "0     0005884918507288420                              False  \\\n",
       "1     0010286039787739137                              False   \n",
       "2     0015065858137292339                              False   \n",
       "3     0026203741366904270                               True   \n",
       "4     0027817676806595220                              False   \n",
       "...                   ...                                ...   \n",
       "3755  9986848664463401272                              False   \n",
       "3756  9990362099175067703                              False   \n",
       "3757   999203594099745000                              False   \n",
       "3758  9992704342633956099                              False   \n",
       "3759  9993899288592473535                              False   \n",
       "\n",
       "      made_purchase_on_future_visit_sum  \n",
       "0                                     0  \n",
       "1                                     0  \n",
       "2                                     0  \n",
       "3                                     1  \n",
       "4                                     0  \n",
       "...                                 ...  \n",
       "3755                                  0  \n",
       "3756                                  0  \n",
       "3757                                  0  \n",
       "3758                                  0  \n",
       "3759                                  0  \n",
       "\n",
       "[3760 rows x 3 columns]"
      ]
     },
     "execution_count": 11,
     "metadata": {},
     "output_type": "execute_result"
    }
   ],
   "source": [
    "df_return_visits_with_purchase = df_return_visits.groupby(\n",
    "    \"fullvisitorid\", as_index=False\n",
    ").agg({\"made_purchase_on_future_visit\": [\"max\", \"sum\"]})\n",
    "df_return_visits_with_purchase.columns = [\n",
    "    \"_\".join(a).rstrip(\"_\")\n",
    "    for a in df_return_visits_with_purchase.columns.to_flat_index()\n",
    "]\n",
    "df_return_visits_with_purchase"
   ]
  },
  {
   "cell_type": "markdown",
   "id": "35dbb2de-650f-442b-91ba-22574273021b",
   "metadata": {},
   "source": [
    "Next, get visitors who made a purchase on a return visit"
   ]
  },
  {
   "cell_type": "code",
   "execution_count": 12,
   "id": "16d97636-2dbd-4e4a-b012-3460fcbdefe4",
   "metadata": {
    "tags": []
   },
   "outputs": [
    {
     "data": {
      "text/html": [
       "<div>\n",
       "<style scoped>\n",
       "    .dataframe tbody tr th:only-of-type {\n",
       "        vertical-align: middle;\n",
       "    }\n",
       "\n",
       "    .dataframe tbody tr th {\n",
       "        vertical-align: top;\n",
       "    }\n",
       "\n",
       "    .dataframe thead th {\n",
       "        text-align: right;\n",
       "    }\n",
       "</style>\n",
       "<table border=\"1\" class=\"dataframe\">\n",
       "  <thead>\n",
       "    <tr style=\"text-align: right;\">\n",
       "      <th></th>\n",
       "      <th>fullvisitorid</th>\n",
       "      <th>made_purchase_on_future_visit_max</th>\n",
       "      <th>made_purchase_on_future_visit_sum</th>\n",
       "    </tr>\n",
       "  </thead>\n",
       "  <tbody>\n",
       "    <tr>\n",
       "      <th>3</th>\n",
       "      <td>0026203741366904270</td>\n",
       "      <td>True</td>\n",
       "      <td>1</td>\n",
       "    </tr>\n",
       "    <tr>\n",
       "      <th>7</th>\n",
       "      <td>0036417634769000138</td>\n",
       "      <td>True</td>\n",
       "      <td>1</td>\n",
       "    </tr>\n",
       "    <tr>\n",
       "      <th>8</th>\n",
       "      <td>0037518757923116572</td>\n",
       "      <td>True</td>\n",
       "      <td>1</td>\n",
       "    </tr>\n",
       "    <tr>\n",
       "      <th>14</th>\n",
       "      <td>0061519776091452595</td>\n",
       "      <td>True</td>\n",
       "      <td>1</td>\n",
       "    </tr>\n",
       "    <tr>\n",
       "      <th>19</th>\n",
       "      <td>0070976956518566605</td>\n",
       "      <td>True</td>\n",
       "      <td>1</td>\n",
       "    </tr>\n",
       "    <tr>\n",
       "      <th>...</th>\n",
       "      <td>...</td>\n",
       "      <td>...</td>\n",
       "      <td>...</td>\n",
       "    </tr>\n",
       "    <tr>\n",
       "      <th>3709</th>\n",
       "      <td>9891815404632176641</td>\n",
       "      <td>True</td>\n",
       "      <td>1</td>\n",
       "    </tr>\n",
       "    <tr>\n",
       "      <th>3718</th>\n",
       "      <td>9912185644936709935</td>\n",
       "      <td>True</td>\n",
       "      <td>1</td>\n",
       "    </tr>\n",
       "    <tr>\n",
       "      <th>3725</th>\n",
       "      <td>9941749289816017941</td>\n",
       "      <td>True</td>\n",
       "      <td>1</td>\n",
       "    </tr>\n",
       "    <tr>\n",
       "      <th>3742</th>\n",
       "      <td>9961396584113412108</td>\n",
       "      <td>True</td>\n",
       "      <td>1</td>\n",
       "    </tr>\n",
       "    <tr>\n",
       "      <th>3746</th>\n",
       "      <td>9975702176622548240</td>\n",
       "      <td>True</td>\n",
       "      <td>1</td>\n",
       "    </tr>\n",
       "  </tbody>\n",
       "</table>\n",
       "<p>423 rows × 3 columns</p>\n",
       "</div>"
      ],
      "text/plain": [
       "            fullvisitorid  made_purchase_on_future_visit_max   \n",
       "3     0026203741366904270                               True  \\\n",
       "7     0036417634769000138                               True   \n",
       "8     0037518757923116572                               True   \n",
       "14    0061519776091452595                               True   \n",
       "19    0070976956518566605                               True   \n",
       "...                   ...                                ...   \n",
       "3709  9891815404632176641                               True   \n",
       "3718  9912185644936709935                               True   \n",
       "3725  9941749289816017941                               True   \n",
       "3742  9961396584113412108                               True   \n",
       "3746  9975702176622548240                               True   \n",
       "\n",
       "      made_purchase_on_future_visit_sum  \n",
       "3                                     1  \n",
       "7                                     1  \n",
       "8                                     1  \n",
       "14                                    1  \n",
       "19                                    1  \n",
       "...                                 ...  \n",
       "3709                                  1  \n",
       "3718                                  1  \n",
       "3725                                  1  \n",
       "3742                                  1  \n",
       "3746                                  1  \n",
       "\n",
       "[423 rows x 3 columns]"
      ]
     },
     "execution_count": 12,
     "metadata": {},
     "output_type": "execute_result"
    }
   ],
   "source": [
    "df_return_visits_with_purchase = df_return_visits_with_purchase.query(\n",
    "    \"made_purchase_on_future_visit_max == True\"\n",
    ")\n",
    "df_return_visits_with_purchase"
   ]
  },
  {
   "cell_type": "markdown",
   "id": "fea54b9e-5632-4e46-9641-4cbbac9010c5",
   "metadata": {},
   "source": [
    "::: {.callout-note title=\"Notes\"}\n",
    "\n",
    "1. `made_purchase_on_future_visit` indicates if a purchase was made during a return visit.\n",
    "2. `made_purchase_on_future_visit_max` indicates whether a visitor who made a return visit to the store made a purchase during any such visit.\n",
    "3. `made_purchase_on_future_visit_sum` shows the total number of purchases made by a visitor across all return visits.\n",
    ":::"
   ]
  },
  {
   "cell_type": "markdown",
   "id": "3621f51c-9f17-4ad3-a5f5-27f8b5e08b2b",
   "metadata": {},
   "source": [
    "Finally, filter the occurrences of return visits during September 2016 to only capture all visitors who made **a purchase on multiple return visits**"
   ]
  },
  {
   "cell_type": "code",
   "execution_count": 13,
   "id": "1f0d0bfa-a5b0-40d6-b40e-ea618ada86a6",
   "metadata": {
    "tags": []
   },
   "outputs": [],
   "source": [
    "df_return_visits_merged = df_return_visits.merge(\n",
    "    df_return_visits_with_purchase, on=[\"fullvisitorid\"], how=\"inner\"\n",
    ")"
   ]
  },
  {
   "cell_type": "markdown",
   "id": "5f1b45d4-9cd4-4f96-9e8b-ae4319ce6039",
   "metadata": {},
   "source": [
    "Visitors who made a purchase on multiple return visits are shown below"
   ]
  },
  {
   "cell_type": "code",
   "execution_count": 14,
   "id": "2e0f7fd2-6b67-4a75-aa3d-092f98b72e17",
   "metadata": {
    "tags": []
   },
   "outputs": [
    {
     "data": {
      "text/html": [
       "<div>\n",
       "<style scoped>\n",
       "    .dataframe tbody tr th:only-of-type {\n",
       "        vertical-align: middle;\n",
       "    }\n",
       "\n",
       "    .dataframe tbody tr th {\n",
       "        vertical-align: top;\n",
       "    }\n",
       "\n",
       "    .dataframe thead th {\n",
       "        text-align: right;\n",
       "    }\n",
       "</style>\n",
       "<table border=\"1\" class=\"dataframe\">\n",
       "  <thead>\n",
       "    <tr style=\"text-align: right;\">\n",
       "      <th></th>\n",
       "      <th>fullvisitorid</th>\n",
       "      <th>visitId</th>\n",
       "      <th>visitNumber</th>\n",
       "      <th>visitStartTime</th>\n",
       "      <th>made_purchase_on_future_visit</th>\n",
       "      <th>made_purchase_on_future_visit_max</th>\n",
       "      <th>made_purchase_on_future_visit_sum</th>\n",
       "    </tr>\n",
       "  </thead>\n",
       "  <tbody>\n",
       "    <tr>\n",
       "      <th>316</th>\n",
       "      <td>2074164338647079047</td>\n",
       "      <td>1474310682</td>\n",
       "      <td>22</td>\n",
       "      <td>2016-09-19 11:44:42</td>\n",
       "      <td>False</td>\n",
       "      <td>True</td>\n",
       "      <td>4</td>\n",
       "    </tr>\n",
       "    <tr>\n",
       "      <th>317</th>\n",
       "      <td>2074164338647079047</td>\n",
       "      <td>1472735454</td>\n",
       "      <td>16</td>\n",
       "      <td>2016-09-01 06:10:54</td>\n",
       "      <td>False</td>\n",
       "      <td>True</td>\n",
       "      <td>4</td>\n",
       "    </tr>\n",
       "    <tr>\n",
       "      <th>318</th>\n",
       "      <td>2074164338647079047</td>\n",
       "      <td>1474373863</td>\n",
       "      <td>23</td>\n",
       "      <td>2016-09-20 05:17:43</td>\n",
       "      <td>True</td>\n",
       "      <td>True</td>\n",
       "      <td>4</td>\n",
       "    </tr>\n",
       "    <tr>\n",
       "      <th>319</th>\n",
       "      <td>2074164338647079047</td>\n",
       "      <td>1473196307</td>\n",
       "      <td>19</td>\n",
       "      <td>2016-09-06 14:11:47</td>\n",
       "      <td>True</td>\n",
       "      <td>True</td>\n",
       "      <td>4</td>\n",
       "    </tr>\n",
       "    <tr>\n",
       "      <th>320</th>\n",
       "      <td>2074164338647079047</td>\n",
       "      <td>1473792585</td>\n",
       "      <td>21</td>\n",
       "      <td>2016-09-13 11:49:45</td>\n",
       "      <td>True</td>\n",
       "      <td>True</td>\n",
       "      <td>4</td>\n",
       "    </tr>\n",
       "    <tr>\n",
       "      <th>321</th>\n",
       "      <td>2074164338647079047</td>\n",
       "      <td>1473446196</td>\n",
       "      <td>20</td>\n",
       "      <td>2016-09-09 11:36:36</td>\n",
       "      <td>True</td>\n",
       "      <td>True</td>\n",
       "      <td>4</td>\n",
       "    </tr>\n",
       "    <tr>\n",
       "      <th>322</th>\n",
       "      <td>2074164338647079047</td>\n",
       "      <td>1472746638</td>\n",
       "      <td>18</td>\n",
       "      <td>2016-09-01 09:17:18</td>\n",
       "      <td>False</td>\n",
       "      <td>True</td>\n",
       "      <td>4</td>\n",
       "    </tr>\n",
       "    <tr>\n",
       "      <th>323</th>\n",
       "      <td>2074164338647079047</td>\n",
       "      <td>1472739238</td>\n",
       "      <td>17</td>\n",
       "      <td>2016-09-01 07:13:58</td>\n",
       "      <td>False</td>\n",
       "      <td>True</td>\n",
       "      <td>4</td>\n",
       "    </tr>\n",
       "    <tr>\n",
       "      <th>535</th>\n",
       "      <td>280738376597848400</td>\n",
       "      <td>1473873900</td>\n",
       "      <td>2</td>\n",
       "      <td>2016-09-14 10:25:00</td>\n",
       "      <td>True</td>\n",
       "      <td>True</td>\n",
       "      <td>3</td>\n",
       "    </tr>\n",
       "    <tr>\n",
       "      <th>536</th>\n",
       "      <td>280738376597848400</td>\n",
       "      <td>1473878689</td>\n",
       "      <td>3</td>\n",
       "      <td>2016-09-14 11:44:49</td>\n",
       "      <td>False</td>\n",
       "      <td>True</td>\n",
       "      <td>3</td>\n",
       "    </tr>\n",
       "    <tr>\n",
       "      <th>537</th>\n",
       "      <td>280738376597848400</td>\n",
       "      <td>1473903584</td>\n",
       "      <td>5</td>\n",
       "      <td>2016-09-14 18:39:44</td>\n",
       "      <td>True</td>\n",
       "      <td>True</td>\n",
       "      <td>3</td>\n",
       "    </tr>\n",
       "    <tr>\n",
       "      <th>538</th>\n",
       "      <td>280738376597848400</td>\n",
       "      <td>1473882095</td>\n",
       "      <td>4</td>\n",
       "      <td>2016-09-14 12:41:35</td>\n",
       "      <td>True</td>\n",
       "      <td>True</td>\n",
       "      <td>3</td>\n",
       "    </tr>\n",
       "    <tr>\n",
       "      <th>549</th>\n",
       "      <td>3033366073043100694</td>\n",
       "      <td>1474033169</td>\n",
       "      <td>36</td>\n",
       "      <td>2016-09-16 06:39:29</td>\n",
       "      <td>True</td>\n",
       "      <td>True</td>\n",
       "      <td>3</td>\n",
       "    </tr>\n",
       "    <tr>\n",
       "      <th>550</th>\n",
       "      <td>3033366073043100694</td>\n",
       "      <td>1474486268</td>\n",
       "      <td>37</td>\n",
       "      <td>2016-09-21 12:31:08</td>\n",
       "      <td>False</td>\n",
       "      <td>True</td>\n",
       "      <td>3</td>\n",
       "    </tr>\n",
       "    <tr>\n",
       "      <th>551</th>\n",
       "      <td>3033366073043100694</td>\n",
       "      <td>1474588918</td>\n",
       "      <td>38</td>\n",
       "      <td>2016-09-22 17:01:58</td>\n",
       "      <td>True</td>\n",
       "      <td>True</td>\n",
       "      <td>3</td>\n",
       "    </tr>\n",
       "  </tbody>\n",
       "</table>\n",
       "</div>"
      ],
      "text/plain": [
       "           fullvisitorid     visitId  visitNumber      visitStartTime   \n",
       "316  2074164338647079047  1474310682           22 2016-09-19 11:44:42  \\\n",
       "317  2074164338647079047  1472735454           16 2016-09-01 06:10:54   \n",
       "318  2074164338647079047  1474373863           23 2016-09-20 05:17:43   \n",
       "319  2074164338647079047  1473196307           19 2016-09-06 14:11:47   \n",
       "320  2074164338647079047  1473792585           21 2016-09-13 11:49:45   \n",
       "321  2074164338647079047  1473446196           20 2016-09-09 11:36:36   \n",
       "322  2074164338647079047  1472746638           18 2016-09-01 09:17:18   \n",
       "323  2074164338647079047  1472739238           17 2016-09-01 07:13:58   \n",
       "535   280738376597848400  1473873900            2 2016-09-14 10:25:00   \n",
       "536   280738376597848400  1473878689            3 2016-09-14 11:44:49   \n",
       "537   280738376597848400  1473903584            5 2016-09-14 18:39:44   \n",
       "538   280738376597848400  1473882095            4 2016-09-14 12:41:35   \n",
       "549  3033366073043100694  1474033169           36 2016-09-16 06:39:29   \n",
       "550  3033366073043100694  1474486268           37 2016-09-21 12:31:08   \n",
       "551  3033366073043100694  1474588918           38 2016-09-22 17:01:58   \n",
       "\n",
       "     made_purchase_on_future_visit  made_purchase_on_future_visit_max   \n",
       "316                          False                               True  \\\n",
       "317                          False                               True   \n",
       "318                           True                               True   \n",
       "319                           True                               True   \n",
       "320                           True                               True   \n",
       "321                           True                               True   \n",
       "322                          False                               True   \n",
       "323                          False                               True   \n",
       "535                           True                               True   \n",
       "536                          False                               True   \n",
       "537                           True                               True   \n",
       "538                           True                               True   \n",
       "549                           True                               True   \n",
       "550                          False                               True   \n",
       "551                           True                               True   \n",
       "\n",
       "     made_purchase_on_future_visit_sum  \n",
       "316                                  4  \n",
       "317                                  4  \n",
       "318                                  4  \n",
       "319                                  4  \n",
       "320                                  4  \n",
       "321                                  4  \n",
       "322                                  4  \n",
       "323                                  4  \n",
       "535                                  3  \n",
       "536                                  3  \n",
       "537                                  3  \n",
       "538                                  3  \n",
       "549                                  3  \n",
       "550                                  3  \n",
       "551                                  3  "
      ]
     },
     "execution_count": 14,
     "metadata": {},
     "output_type": "execute_result"
    }
   ],
   "source": [
    "df_return_visits_merged.query(\"made_purchase_on_future_visit_sum > 2\").head(15)"
   ]
  },
  {
   "cell_type": "markdown",
   "id": "0bda248f-4ff4-4ccf-9550-f1551f53f2ca",
   "metadata": {},
   "source": [
    "::: {.callout-tip title=\"Observations\"}\n",
    "\n",
    "1. We can see that these are the subset of return visitors who made a purchase on multiple return visits since the values in the `made_purchase_on_future_visit_sum` column that are larger than 1.\n",
    ":::"
   ]
  },
  {
   "cell_type": "markdown",
   "id": "3e17a3d1-b984-40f2-a780-8abdd91589d9",
   "metadata": {},
   "source": [
    "For visitors who who made a purchae on multiple return visits, show the number of visitors who made a purchase on a single such visit and those that made a purchase during multiple such visits"
   ]
  },
  {
   "cell_type": "code",
   "execution_count": 15,
   "id": "992e2690-da61-411d-9e38-738a95e48a3c",
   "metadata": {
    "tags": []
   },
   "outputs": [
    {
     "data": {
      "text/html": [
       "<div>\n",
       "<style scoped>\n",
       "    .dataframe tbody tr th:only-of-type {\n",
       "        vertical-align: middle;\n",
       "    }\n",
       "\n",
       "    .dataframe tbody tr th {\n",
       "        vertical-align: top;\n",
       "    }\n",
       "\n",
       "    .dataframe thead th {\n",
       "        text-align: right;\n",
       "    }\n",
       "</style>\n",
       "<table border=\"1\" class=\"dataframe\">\n",
       "  <thead>\n",
       "    <tr style=\"text-align: right;\">\n",
       "      <th></th>\n",
       "      <th>made_purchase_on_multiple_return_visits</th>\n",
       "      <th>count</th>\n",
       "      <th>proportion</th>\n",
       "    </tr>\n",
       "  </thead>\n",
       "  <tbody>\n",
       "    <tr>\n",
       "      <th>0</th>\n",
       "      <td>False</td>\n",
       "      <td>1385</td>\n",
       "      <td>0.835344</td>\n",
       "    </tr>\n",
       "    <tr>\n",
       "      <th>1</th>\n",
       "      <td>True</td>\n",
       "      <td>273</td>\n",
       "      <td>0.164656</td>\n",
       "    </tr>\n",
       "  </tbody>\n",
       "</table>\n",
       "</div>"
      ],
      "text/plain": [
       "   made_purchase_on_multiple_return_visits  count  proportion\n",
       "0                                    False   1385    0.835344\n",
       "1                                     True    273    0.164656"
      ]
     },
     "execution_count": 15,
     "metadata": {},
     "output_type": "execute_result"
    }
   ],
   "source": [
    "df_return_visits_merged.assign(\n",
    "    made_purchase_on_multiple_return_visits=lambda df: df[\n",
    "        \"made_purchase_on_future_visit_sum\"\n",
    "    ]\n",
    "    > 1\n",
    ").groupby(\"made_purchase_on_multiple_return_visits\", as_index=False)[\n",
    "    \"fullvisitorid\"\n",
    "].count().rename(\n",
    "    columns={\"fullvisitorid\": \"count\"}\n",
    ").assign(\n",
    "    proportion=lambda df: df[\"count\"] / df[\"count\"].sum()\n",
    ")"
   ]
  },
  {
   "cell_type": "markdown",
   "id": "59146f12-f151-48ab-a78e-bad193bb94ab",
   "metadata": {},
   "source": [
    "::: {.callout-tip title=\"Observations\"}\n",
    "\n",
    "1. Most visitors who made a purchae on multiple return visits during September 2016 only made a purchase during one of thse visits. Only approximately 16% of such visitors made a purchase during multiple such visits.\n",
    "2. The SQL logic defined above is capturing repeat customers. These are visitors who made a purchase during more than one visit to the store. This is required per the scope of this project since the business wants to grow both repeat as well as new customers.\n",
    ":::"
   ]
  }
 ],
 "metadata": {
  "kernelspec": {
   "display_name": "transform",
   "language": "python",
   "name": "transform"
  },
  "language_info": {
   "codemirror_mode": {
    "name": "ipython",
    "version": 3
   },
   "file_extension": ".py",
   "mimetype": "text/x-python",
   "name": "python",
   "nbconvert_exporter": "python",
   "pygments_lexer": "ipython3",
   "version": "3.11.3"
  }
 },
 "nbformat": 4,
 "nbformat_minor": 5
}
