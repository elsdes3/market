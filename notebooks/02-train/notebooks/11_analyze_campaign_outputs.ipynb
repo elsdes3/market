{
 "cells": [
  {
   "cell_type": "markdown",
   "id": "910afdea-ad22-4ec1-beb1-3663157ecfde",
   "metadata": {
    "editable": true,
    "slideshow": {
     "slide_type": ""
    },
    "tags": [
     "parameters"
    ]
   },
   "source": [
    "# Run Campaign and Analyze Results"
   ]
  },
  {
   "cell_type": "code",
   "execution_count": 1,
   "id": "ef62e9aa-d129-46d0-8c2e-3a31c8f40a2f",
   "metadata": {
    "tags": []
   },
   "outputs": [],
   "source": [
    "%load_ext autoreload\n",
    "%autoreload 2"
   ]
  },
  {
   "cell_type": "markdown",
   "id": "c04f524e-0ed0-48a8-8b05-297c8849115d",
   "metadata": {},
   "source": [
    "::: {.content-hidden}\n",
    "Import necessary Python modules\n",
    ":::"
   ]
  },
  {
   "cell_type": "code",
   "execution_count": 2,
   "id": "50a12d2c-9277-465f-974d-0a51d202dfc9",
   "metadata": {
    "editable": true,
    "slideshow": {
     "slide_type": ""
    },
    "tags": [
     "parameters"
    ]
   },
   "outputs": [],
   "source": [
    "import os\n",
    "import sys\n",
    "from calendar import month_name\n",
    "from datetime import datetime\n",
    "from typing import List, Tuple\n",
    "\n",
    "import mlflow.sklearn\n",
    "import numpy as np\n",
    "import pandas as pd\n",
    "from scipy import stats\n",
    "from statsmodels.stats import proportion"
   ]
  },
  {
   "cell_type": "markdown",
   "id": "dd858b76-10a4-42eb-9ad9-45662e5e83b2",
   "metadata": {},
   "source": [
    "::: {.content-hidden}\n",
    "Get relative path to project root directory\n",
    ":::"
   ]
  },
  {
   "cell_type": "code",
   "execution_count": 3,
   "id": "41274ce9-4fc5-41ae-b1f3-6526d466c02c",
   "metadata": {
    "tags": []
   },
   "outputs": [],
   "source": [
    "PROJ_ROOT_DIR = os.path.join(os.pardir)\n",
    "src_dir = os.path.join(PROJ_ROOT_DIR, \"src\")\n",
    "sys.path.append(src_dir)"
   ]
  },
  {
   "cell_type": "markdown",
   "id": "df0460c2-91ee-4818-91ba-a4e841e283a0",
   "metadata": {},
   "source": [
    "::: {.content-hidden}\n",
    "Import custom Python modules\n",
    ":::"
   ]
  },
  {
   "cell_type": "code",
   "execution_count": 4,
   "id": "70a0b2ab-533e-4539-884a-49e560330b46",
   "metadata": {},
   "outputs": [],
   "source": [
    "%aimport audience_size_helpers\n",
    "import audience_size_helpers as ash\n",
    "\n",
    "%aimport model_helpers\n",
    "import model_helpers as modh\n",
    "\n",
    "%aimport statistical_checks\n",
    "import statistical_checks as sc\n",
    "\n",
    "%aimport utils\n",
    "import utils as ut"
   ]
  },
  {
   "cell_type": "markdown",
   "id": "f24e3a7d-42c2-4fe0-8a32-7aa6c4a4d4bf",
   "metadata": {},
   "source": [
    "## About"
   ]
  },
  {
   "cell_type": "markdown",
   "id": "4a90f463-cce9-4d8b-ab5d-31315d265483",
   "metadata": {},
   "source": [
    "### Overview\n",
    "This step assess the impact of running the marketing campaign. This step can be performed retrospectively, at the end of the campaign, when the outcome of the return visit of the first-time visitors to the merchandise store (during the inference period) is known. This is step 5. from a [typical A/B Testing workflow](https://www.datacamp.com/blog/data-demystified-what-is-a-b-testing).\n",
    "\n",
    "For the current use-case, if the marketing campaign results in more conversions in the control cohort compared to the test cohort, then this could suggest that the campaign has grown the customer base and thereby met the objective of this project. However, a test of statistical significance will be needed in order to ensure that this impact seen by running the campaign (growth in conversions) was not a random occurrence.\n",
    "\n",
    "This step compares the proportions (conversions) taken from two independent samples (test and control cohorts). The purpose is to determine if the conversion rate (KPI) of the test cohort is statistically different from that of the control cohort. If the\n",
    "\n",
    "1. conversion rate is higher in the test cohort\n",
    "2. difference in conversion rate between the test and control cohort is statistically significant at some level of confidence (eg. 95%)\n",
    "\n",
    "then it is possible to say with 95% confidence that the campaign has grown the customer base.\n",
    "\n",
    "### Implementation\n",
    "In python, [such a comparison is implemented](https://stats.stackexchange.com/a/544507/144450) using the `statsmodels` library in the [`proportions_chisquare()` method](https://www.statsmodels.org/dev/generated/statsmodels.stats.proportion.proportions_chisquare.html) where the `count` parameter represents the number of convertions in each cohort (test or control) and `nobs` represents the overall size of the same cohort."
   ]
  },
  {
   "cell_type": "markdown",
   "id": "3a130acf-a2e1-4785-ade7-ed03c2e47339",
   "metadata": {},
   "source": [
    "## User Inputs"
   ]
  },
  {
   "cell_type": "markdown",
   "id": "6b18c67c-3065-4c8e-baef-0459d4abd308",
   "metadata": {},
   "source": [
    "Define the following\n",
    "\n",
    "1. start and end dates for inference data\n",
    "2. confidence levels at which the difference in the cohort conversion rates is to be checked"
   ]
  },
  {
   "cell_type": "code",
   "execution_count": 5,
   "id": "755bdbc1-1610-4c90-be72-dc69ae86eebc",
   "metadata": {
    "editable": true,
    "slideshow": {
     "slide_type": ""
    },
    "tags": [
     "parameters"
    ]
   },
   "outputs": [],
   "source": [
    "#|echo: true\n",
    "# 1. start and end dates\n",
    "infer_start_date = \"20170301\"\n",
    "infer_end_date = \"20170331\"\n",
    "\n",
    "# 2. confidence levels to check difference in conversion rates\n",
    "ci_levels = np.arange(0.20, 1.00, 0.05, dtype=float)"
   ]
  },
  {
   "cell_type": "markdown",
   "id": "df51d2e5-4b16-403b-a91e-f428c33b19d2",
   "metadata": {},
   "source": [
    "::: {.content-hidden}\n",
    "Get path to data sub-folders\n",
    ":::"
   ]
  },
  {
   "cell_type": "code",
   "execution_count": 6,
   "id": "a87c90d2-d16a-47fc-aaeb-386cef786cb2",
   "metadata": {
    "tags": []
   },
   "outputs": [],
   "source": [
    "data_dir = os.path.join(PROJ_ROOT_DIR, \"data\")\n",
    "raw_data_dir = os.path.join(data_dir, \"raw\")\n",
    "processed_data_dir = os.path.join(data_dir, \"processed\")"
   ]
  },
  {
   "cell_type": "markdown",
   "id": "c8db0bee-d1ba-4f07-a237-e9df389c1a8f",
   "metadata": {},
   "source": [
    "::: {.content-hidden}\n",
    "Get the name of the month covering the inference data period\n",
    ":::"
   ]
  },
  {
   "cell_type": "code",
   "execution_count": 7,
   "id": "9b241d1a-9563-4404-acf1-2a785208b469",
   "metadata": {},
   "outputs": [],
   "source": [
    "infer_month = month_name[1:][int(infer_end_date[5:6]) - 1]"
   ]
  },
  {
   "cell_type": "markdown",
   "id": "b003d2ba-dca3-4828-8b1c-ee05acad6317",
   "metadata": {},
   "source": [
    "::: {.content-hidden}\n",
    "Define MLFlow storage paths\n",
    ":::"
   ]
  },
  {
   "cell_type": "code",
   "execution_count": 8,
   "id": "de72c6de-acca-487d-b5e1-f3d1cb02f704",
   "metadata": {
    "tags": []
   },
   "outputs": [],
   "source": [
    "mlruns_db_fpath = f\"{raw_data_dir}/mlruns.db\"\n",
    "mlflow.set_tracking_uri(f\"sqlite:///{mlruns_db_fpath}\")"
   ]
  },
  {
   "cell_type": "markdown",
   "id": "cb9cb07d-3e22-4b2d-85f8-70c523ae1f74",
   "metadata": {},
   "source": [
    "::: {.content-hidden}\n",
    "Set environment variable to silence MLFlow `git` warning messsage\n",
    ":::"
   ]
  },
  {
   "cell_type": "code",
   "execution_count": 9,
   "id": "e66a6d47-f94a-4d5c-abd0-231b063cb73a",
   "metadata": {
    "tags": []
   },
   "outputs": [],
   "source": [
    "os.environ[\"GIT_PYTHON_REFRESH\"] = \"quiet\""
   ]
  },
  {
   "cell_type": "markdown",
   "id": "21e5c2ef-838e-45d1-860e-edc780a1178a",
   "metadata": {},
   "source": [
    "The following helper functions are defined in the module `src/statistical_checks.py` and are used here\n",
    "\n",
    "1. `get_inference_data_with_cohorts()`\n",
    "   - loads inference predictions data with audience groups and cohorts assigned as separate columns\n",
    "2. `get_outcome_labels()`\n",
    "   - loads the outcome (ML label) of the inference predictions data\n",
    "   - for demonstration purposes only, this outcome is randomly generated here\n",
    "3. `get_cohorts()`\n",
    "   - filters audience data to retrieve visitors that were placed in one of the two audience cohorts (test or control)\n",
    "4. `get_overall_and_converted_cohort_sizes`\n",
    "   - calculate the size of the overall cohort and the conversions, for both test and control cohorts\n",
    "5. `check_significance_using_chisq()`\n",
    "   - checks significance of the difference in conversions between test and control cohort"
   ]
  },
  {
   "cell_type": "markdown",
   "id": "e7823268-4b2c-4256-a0ed-0cf3e30b8169",
   "metadata": {},
   "source": [
    "## Get Data"
   ]
  },
  {
   "cell_type": "markdown",
   "id": "f3ee361c-f465-426f-8bd9-6e94867868c9",
   "metadata": {},
   "source": [
    "### Fetch Latest Version of Best Deployment Candidate Model from Model Registry"
   ]
  },
  {
   "cell_type": "markdown",
   "id": "3ea3b3e7-33c8-4d49-ac8e-4f79e0cd2c2f",
   "metadata": {},
   "source": [
    "Get best deployment candidate model from model registry"
   ]
  },
  {
   "cell_type": "code",
   "execution_count": 10,
   "id": "7164a18b-634f-4cdf-8c7d-3eb9db9e6960",
   "metadata": {},
   "outputs": [],
   "source": [
    "#|echo: true\n",
    "df_candidate_mlflow_models = modh.get_all_deployment_candidate_models()"
   ]
  },
  {
   "cell_type": "markdown",
   "id": "bd802549-15ed-4350-a3f9-3d029bd1feb8",
   "metadata": {},
   "source": [
    "### Get Inference Data with Audience Cohorts, Associated with Best Model"
   ]
  },
  {
   "cell_type": "markdown",
   "id": "d7a2d528-0519-42a2-bd8e-0ffb06c7f32c",
   "metadata": {},
   "source": [
    "Load inference data, with the audience groups and cohorts shown as separate columns. This data should contain the outcome for all these first-time visitors to the store during the inference period. Filter this data to only get visitors who were placed in a test or control cohorts, and exclude others. This is done below using random outcomes (for demonstration purposes)"
   ]
  },
  {
   "cell_type": "code",
   "execution_count": 11,
   "id": "d7c8e3a2-7e6c-478b-906e-a116eff712f1",
   "metadata": {
    "tags": []
   },
   "outputs": [],
   "source": [
    "#|echo: true\n",
    "df_infer_audience_cohorts = (\n",
    "    sc.get_inference_data_with_cohorts(df_candidate_mlflow_models, \"audience_cohorts\")\n",
    "    .pipe(sc.get_outcome_labels)\n",
    "    .pipe(sc.get_cohorts, \"cohort\")\n",
    ")"
   ]
  },
  {
   "cell_type": "markdown",
   "id": "df27169b-bb34-4a17-abc9-9a6092866788",
   "metadata": {},
   "source": [
    "::: {.callout-note title=\"Notes\"}\n",
    "\n",
    "1. `sc.get_outcome_labels()` retrieves the campaign outcomes, which is the number of conversions in both the control and test cohorts. Here, for demonstration purposes, random values are used for the outcomes for both cohorts.\n",
    ":::"
   ]
  },
  {
   "cell_type": "markdown",
   "id": "b1f78d4e-efce-4038-a24a-2b443a1f8483",
   "metadata": {},
   "source": [
    "::: {.content-hidden}\n",
    "(Optional, Sanity check) Verify that equally sized test and control cohorts are found in each audience group in the inference data\n",
    ":::"
   ]
  },
  {
   "cell_type": "code",
   "execution_count": 12,
   "id": "fb9ec82a-68e8-49ea-a5df-bf73900ef19b",
   "metadata": {
    "tags": []
   },
   "outputs": [],
   "source": [
    "assert (\n",
    "    df_infer_audience_cohorts.groupby([\"maudience\", \"cohort\"], as_index=False)[\n",
    "        \"fullvisitorid\"\n",
    "    ]\n",
    "    .count()\n",
    "    .rename(columns={\"fullvisitorid\": \"num_visitors\"})\n",
    "    .groupby(\"maudience\")[\"num_visitors\"]\n",
    "    .diff(1)\n",
    "    .dropna()\n",
    "    == 0\n",
    ").all()"
   ]
  },
  {
   "cell_type": "markdown",
   "id": "d4ff5742-5c57-4a1d-933f-62439b0f3af5",
   "metadata": {},
   "source": [
    "## Compare Difference in KPI Between Cohorts"
   ]
  },
  {
   "cell_type": "markdown",
   "id": "8c7658bf-42b1-4b17-b6af-794ed5610541",
   "metadata": {},
   "source": [
    "Check if the difference between conversions across the two cohorts is statistically significant"
   ]
  },
  {
   "cell_type": "code",
   "execution_count": 13,
   "id": "b794486c-e488-4e53-afd6-71baa9a7b4a5",
   "metadata": {
    "editable": true,
    "slideshow": {
     "slide_type": ""
    },
    "tags": [
     "parameters"
    ]
   },
   "outputs": [
    {
     "name": "stdout",
     "output_type": "stream",
     "text": [
      "Set all specified datatypes.\n"
     ]
    },
    {
     "data": {
      "text/html": [
       "<div>\n",
       "<style scoped>\n",
       "    .dataframe tbody tr th:only-of-type {\n",
       "        vertical-align: middle;\n",
       "    }\n",
       "\n",
       "    .dataframe tbody tr th {\n",
       "        vertical-align: top;\n",
       "    }\n",
       "\n",
       "    .dataframe thead th {\n",
       "        text-align: right;\n",
       "    }\n",
       "</style>\n",
       "<table border=\"1\" class=\"dataframe\">\n",
       "  <thead>\n",
       "    <tr style=\"text-align: right;\">\n",
       "      <th></th>\n",
       "      <th>check</th>\n",
       "      <th>p_value</th>\n",
       "      <th>ci_level</th>\n",
       "      <th>control_size</th>\n",
       "      <th>test_size</th>\n",
       "      <th>control_conversions</th>\n",
       "      <th>test_conversions</th>\n",
       "      <th>control_conversion_rate</th>\n",
       "      <th>test_conversion_rate</th>\n",
       "    </tr>\n",
       "  </thead>\n",
       "  <tbody>\n",
       "    <tr>\n",
       "      <th>0</th>\n",
       "      <td>not statistically significant</td>\n",
       "      <td>0.268837</td>\n",
       "      <td>94</td>\n",
       "      <td>6249</td>\n",
       "      <td>6249</td>\n",
       "      <td>325</td>\n",
       "      <td>353</td>\n",
       "      <td>5.200832</td>\n",
       "      <td>5.648904</td>\n",
       "    </tr>\n",
       "    <tr>\n",
       "      <th>1</th>\n",
       "      <td>statistically significant</td>\n",
       "      <td>0.268837</td>\n",
       "      <td>70</td>\n",
       "      <td>6249</td>\n",
       "      <td>6249</td>\n",
       "      <td>325</td>\n",
       "      <td>353</td>\n",
       "      <td>5.200832</td>\n",
       "      <td>5.648904</td>\n",
       "    </tr>\n",
       "  </tbody>\n",
       "</table>\n",
       "</div>"
      ],
      "text/plain": [
       "                           check   p_value  ci_level  control_size  test_size  \\\n",
       "0  not statistically significant  0.268837        94          6249       6249   \n",
       "1      statistically significant  0.268837        70          6249       6249   \n",
       "\n",
       "   control_conversions  test_conversions  control_conversion_rate  \\\n",
       "0                  325               353                 5.200832   \n",
       "1                  325               353                 5.200832   \n",
       "\n",
       "   test_conversion_rate  \n",
       "0              5.648904  \n",
       "1              5.648904  "
      ]
     },
     "execution_count": 13,
     "metadata": {},
     "output_type": "execute_result"
    }
   ],
   "source": [
    "#|echo: true\n",
    "overall_sizes, conversion_sizes = sc.get_overall_and_converted_cohort_sizes(\n",
    "    df_infer_audience_cohorts, verbose=False\n",
    ")\n",
    "df_sig_checks = sc.check_significance_using_chisq(\n",
    "    overall_sizes, conversion_sizes, ci_levels\n",
    ").pipe(\n",
    "    ash.set_datatypes,\n",
    "    {\n",
    "        \"check\": pd.StringDtype(),\n",
    "        \"p_value\": pd.Float32Dtype(),\n",
    "        \"ci_level\": pd.Int8Dtype(),\n",
    "        \"control_size\": pd.Int16Dtype(),\n",
    "        \"test_size\": pd.Int16Dtype(),\n",
    "        \"control_conversions\": pd.Int16Dtype(),\n",
    "        \"test_conversions\": pd.Int16Dtype(),\n",
    "        \"control_conversion_rate\": pd.Float32Dtype(),\n",
    "        \"test_conversion_rate\": pd.Float32Dtype(),\n",
    "    },\n",
    ")\n",
    "df_sig_checks"
   ]
  },
  {
   "cell_type": "markdown",
   "id": "ab72d967-2f01-45b7-b26a-089e5447fdd4",
   "metadata": {},
   "source": [
    "::: {.callout-note title=\"Notes\"}\n",
    "\n",
    "1. The chi-squared test indicates if the difference between the conversion rate in the test and control cohort is statistically significant at a particular confidence level.\n",
    ":::"
   ]
  },
  {
   "cell_type": "markdown",
   "id": "81d40342-bd78-48c8-8a41-67ab87bf347a",
   "metadata": {},
   "source": [
    "::: {.callout-tip title=\"Observations\"}\n",
    "\n",
    "1. The top row shows the test of significance for the maximum specified confidence level (in this case 94%).\n",
    "2. The bottom row shows the maximum confidence level (40%) for which the difference in conversion rates is significant.\n",
    ":::"
   ]
  },
  {
   "cell_type": "markdown",
   "id": "b3caeea9-3709-4a03-89ce-c005ffafc4bb",
   "metadata": {},
   "source": [
    "## Export to Disk and ML Experiment Tracking"
   ]
  },
  {
   "cell_type": "markdown",
   "id": "caa09b20-2160-4185-aaf4-9299fe09ce25",
   "metadata": {},
   "source": [
    "Get the best MLFlow run ID"
   ]
  },
  {
   "cell_type": "code",
   "execution_count": 14,
   "id": "c94f0df9-7a94-49e4-babd-550acad0034a",
   "metadata": {
    "tags": []
   },
   "outputs": [],
   "source": [
    "#|echo: true\n",
    "best_run_id = df_candidate_mlflow_models.squeeze()[\"run_id\"]"
   ]
  },
  {
   "cell_type": "markdown",
   "id": "d1b77f16-f54c-4e58-aaa9-68c27f2b14fe",
   "metadata": {},
   "source": [
    "::: {.content-hidden}\n",
    "Show summary of `DataFrame` with check of statistical significance\n",
    ":::"
   ]
  },
  {
   "cell_type": "code",
   "execution_count": 15,
   "id": "02eaccdf-b557-4f06-8b6d-6ab5ad1c89a3",
   "metadata": {
    "tags": []
   },
   "outputs": [
    {
     "data": {
      "text/html": [
       "<div>\n",
       "<style scoped>\n",
       "    .dataframe tbody tr th:only-of-type {\n",
       "        vertical-align: middle;\n",
       "    }\n",
       "\n",
       "    .dataframe tbody tr th {\n",
       "        vertical-align: top;\n",
       "    }\n",
       "\n",
       "    .dataframe thead th {\n",
       "        text-align: right;\n",
       "    }\n",
       "</style>\n",
       "<table border=\"1\" class=\"dataframe\">\n",
       "  <thead>\n",
       "    <tr style=\"text-align: right;\">\n",
       "      <th></th>\n",
       "      <th>column</th>\n",
       "      <th>dtype</th>\n",
       "      <th>missing</th>\n",
       "    </tr>\n",
       "  </thead>\n",
       "  <tbody>\n",
       "    <tr>\n",
       "      <th>0</th>\n",
       "      <td>check</td>\n",
       "      <td>string[python]</td>\n",
       "      <td>0</td>\n",
       "    </tr>\n",
       "    <tr>\n",
       "      <th>1</th>\n",
       "      <td>p_value</td>\n",
       "      <td>Float32</td>\n",
       "      <td>0</td>\n",
       "    </tr>\n",
       "    <tr>\n",
       "      <th>2</th>\n",
       "      <td>ci_level</td>\n",
       "      <td>Int8</td>\n",
       "      <td>0</td>\n",
       "    </tr>\n",
       "    <tr>\n",
       "      <th>3</th>\n",
       "      <td>control_size</td>\n",
       "      <td>Int16</td>\n",
       "      <td>0</td>\n",
       "    </tr>\n",
       "    <tr>\n",
       "      <th>4</th>\n",
       "      <td>test_size</td>\n",
       "      <td>Int16</td>\n",
       "      <td>0</td>\n",
       "    </tr>\n",
       "    <tr>\n",
       "      <th>5</th>\n",
       "      <td>control_conversions</td>\n",
       "      <td>Int16</td>\n",
       "      <td>0</td>\n",
       "    </tr>\n",
       "    <tr>\n",
       "      <th>6</th>\n",
       "      <td>test_conversions</td>\n",
       "      <td>Int16</td>\n",
       "      <td>0</td>\n",
       "    </tr>\n",
       "    <tr>\n",
       "      <th>7</th>\n",
       "      <td>control_conversion_rate</td>\n",
       "      <td>Float32</td>\n",
       "      <td>0</td>\n",
       "    </tr>\n",
       "    <tr>\n",
       "      <th>8</th>\n",
       "      <td>test_conversion_rate</td>\n",
       "      <td>Float32</td>\n",
       "      <td>0</td>\n",
       "    </tr>\n",
       "  </tbody>\n",
       "</table>\n",
       "</div>"
      ],
      "text/plain": [
       "                    column           dtype  missing\n",
       "0                    check  string[python]        0\n",
       "1                  p_value         Float32        0\n",
       "2                 ci_level            Int8        0\n",
       "3             control_size           Int16        0\n",
       "4                test_size           Int16        0\n",
       "5      control_conversions           Int16        0\n",
       "6         test_conversions           Int16        0\n",
       "7  control_conversion_rate         Float32        0\n",
       "8     test_conversion_rate         Float32        0"
      ]
     },
     "metadata": {},
     "output_type": "display_data"
    }
   ],
   "source": [
    "#|output: false\n",
    "ut.summarize_df(df_sig_checks)"
   ]
  },
  {
   "cell_type": "markdown",
   "id": "b0bef53a-8b2c-475b-89d7-a8bd606e39ac",
   "metadata": {},
   "source": [
    "Export to disk and log exported file as MLFlow artifact"
   ]
  },
  {
   "cell_type": "code",
   "execution_count": 16,
   "id": "90e2d99f-1b62-42dc-83c8-82f844f9f0bb",
   "metadata": {
    "tags": []
   },
   "outputs": [
    {
     "name": "stdout",
     "output_type": "stream",
     "text": [
      "Exported campaign outcome analysis for inference during March to file campaign_analysis__run_0415bf0429b747faa0255ba6656c4342__infer_month_March__20230612_215830.parquet.gzip\n",
      "Logged campaign outcome analysis for inference during March as artifact in file campaign_analysis__run_0415bf0429b747faa0255ba6656c4342__infer_month_March__20230612_215830.parquet.gzip\n"
     ]
    }
   ],
   "source": [
    "#| echo: true\n",
    "#| output: false\n",
    "ut.export_and_track(\n",
    "    os.path.join(\n",
    "        processed_data_dir,\n",
    "        f\"campaign_analysis__run_\"\n",
    "        f\"{best_run_id}__\"\n",
    "        f\"infer_month_{infer_month}__\"\n",
    "        f\"{datetime.now().strftime('%Y%m%d_%H%M%S')}.parquet.gzip\",\n",
    "    ),\n",
    "    df_sig_checks,\n",
    "    f\"campaign outcome analysis for inference during {infer_month}\",\n",
    "    best_run_id,\n",
    ")"
   ]
  },
  {
   "cell_type": "markdown",
   "id": "b7e3b565-c2e2-4108-95a4-0cf9aff81499",
   "metadata": {},
   "source": [
    "## Next Step"
   ]
  },
  {
   "cell_type": "markdown",
   "id": "af2fdb27-b087-4c6c-a49f-a856fca6932a",
   "metadata": {},
   "source": [
    "The next step will clean up all project resources related to MLFlow."
   ]
  }
 ],
 "metadata": {
  "kernelspec": {
   "display_name": "train",
   "language": "python",
   "name": "train"
  },
  "language_info": {
   "codemirror_mode": {
    "name": "ipython",
    "version": 3
   },
   "file_extension": ".py",
   "mimetype": "text/x-python",
   "name": "python",
   "nbconvert_exporter": "python",
   "pygments_lexer": "ipython3",
   "version": "3.11.4"
  }
 },
 "nbformat": 4,
 "nbformat_minor": 5
}
