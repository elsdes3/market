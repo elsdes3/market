{
 "cells": [
  {
   "cell_type": "markdown",
   "id": "50278430-98c1-4110-8d04-f6a01523f0fc",
   "metadata": {},
   "source": [
    "# Cleanup Model Monitoring Outputs"
   ]
  },
  {
   "cell_type": "code",
   "execution_count": 1,
   "id": "599ae83d-8ed8-4bcd-b9d5-8c4a71e135d4",
   "metadata": {
    "tags": []
   },
   "outputs": [],
   "source": [
    "%load_ext lab_black\n",
    "%load_ext autoreload\n",
    "%autoreload 2"
   ]
  },
  {
   "cell_type": "markdown",
   "id": "b5250ef4-4bd5-4333-aae7-9e1e3c3fce2c",
   "metadata": {},
   "source": [
    "::: {.content-hidden}\n",
    "Import necessary Python modules\n",
    ":::"
   ]
  },
  {
   "cell_type": "code",
   "execution_count": 2,
   "id": "268b5811-b337-4c1f-98dc-d6544c296540",
   "metadata": {
    "tags": []
   },
   "outputs": [],
   "source": [
    "import os\n",
    "import shutil\n",
    "import sys\n",
    "from glob import glob\n",
    "\n",
    "import mlflow.sklearn\n",
    "import pandas as pd"
   ]
  },
  {
   "cell_type": "markdown",
   "id": "cc1dc082-ed24-4e0e-95ed-b2e003794c33",
   "metadata": {},
   "source": [
    "::: {.content-hidden}\n",
    "Get relative path to project root directory\n",
    ":::"
   ]
  },
  {
   "cell_type": "code",
   "execution_count": 3,
   "id": "51e64627-d19d-475d-a667-6e320a8ef148",
   "metadata": {
    "tags": []
   },
   "outputs": [],
   "source": [
    "PROJ_ROOT_DIR = os.path.join(os.pardir)\n",
    "src_dir = os.path.join(PROJ_ROOT_DIR, \"src\")\n",
    "sys.path.append(src_dir)"
   ]
  },
  {
   "cell_type": "markdown",
   "id": "9e0408ab-6e6e-4cd1-baae-6d028ca11493",
   "metadata": {},
   "source": [
    "::: {.content-hidden}\n",
    "Import custom Python modules\n",
    ":::"
   ]
  },
  {
   "cell_type": "code",
   "execution_count": 4,
   "id": "38be9dc2-82be-42d2-908c-6d8b5980b1a5",
   "metadata": {
    "tags": []
   },
   "outputs": [],
   "source": [
    "%aimport model_helpers\n",
    "import model_helpers as modh"
   ]
  },
  {
   "cell_type": "markdown",
   "id": "c99429d3-0315-4b9c-80df-75bd5b7aa9e2",
   "metadata": {},
   "source": [
    "## About"
   ]
  },
  {
   "cell_type": "markdown",
   "id": "d6136314-50ce-4c2f-a0bc-3fb55e1773ac",
   "metadata": {},
   "source": [
    "### Overview\n",
    "This step cleans up all project resources that were created, including\n",
    "\n",
    "1. intermediate (non-MLFlow) files\n",
    "2. MLFlow outputs (artifacts, [metrics](https://mlflow.org/docs/latest/tracking.html#performance-tracking-with-metrics), etc.)\n",
    "\n",
    "### Order of Operations\n",
    "\n",
    "This step can be run at the end of the project, after the campaign has ended and its outcomes have been analyzed."
   ]
  },
  {
   "cell_type": "markdown",
   "id": "7d712d90-8495-4aa8-a56a-620f6f6d13b0",
   "metadata": {},
   "source": [
    "## User Inputs"
   ]
  },
  {
   "cell_type": "markdown",
   "id": "32686dfe-a4a0-499b-acb8-051b57b14d13",
   "metadata": {},
   "source": [
    "Define the following\n",
    "\n",
    "1. file name prefix for the following MLFlow artifacts associated with the best deployment candidate MLFLow ML model\n",
    "   - processed data\n",
    "   - threshold tuning data, where predictions per threshold were evaluated using the test data split\n",
    "   - estimated sample sizes, where sizes were estimated using the test data split\n",
    "   - audience cohorts created using the inference data split\n",
    "   - audience profiles using the inference data split\n",
    "   - post-campaign impact evaluation"
   ]
  },
  {
   "cell_type": "code",
   "execution_count": 5,
   "id": "d71031db-6c4b-4f98-967b-ea1ebdfbacbd",
   "metadata": {
    "tags": [
     "parameters"
    ]
   },
   "outputs": [],
   "source": [
    "#| echo: true\n",
    "artifact_file_prefixes = [\n",
    "    'processed_data',\n",
    "    \"threshold_tuning_data\",\n",
    "    \"audience_sample_sizes\",\n",
    "    \"audience_cohorts\",\n",
    "    \"audience_profiles\",\n",
    "    \"campaign_analysis\",\n",
    "]"
   ]
  },
  {
   "cell_type": "markdown",
   "id": "dc686ade-ad12-4042-ab3c-332ded0b945c",
   "metadata": {},
   "source": [
    "::: {.content-hidden}\n",
    "Get path to data sub-folders\n",
    ":::"
   ]
  },
  {
   "cell_type": "code",
   "execution_count": 6,
   "id": "a7adb1c6-f5ee-4c3f-a4ff-958c0433a02b",
   "metadata": {
    "tags": []
   },
   "outputs": [],
   "source": [
    "data_dir = os.path.join(PROJ_ROOT_DIR, \"data\")\n",
    "raw_data_dir = os.path.join(data_dir, \"raw\")\n",
    "processed_data_dir = os.path.join(data_dir, \"processed\")"
   ]
  },
  {
   "cell_type": "markdown",
   "id": "ae4fe8a0-e7d6-4a4d-b5b6-dec52bf81a25",
   "metadata": {},
   "source": [
    "::: {.content-hidden}\n",
    "Define MLFlow storage paths\n",
    ":::"
   ]
  },
  {
   "cell_type": "code",
   "execution_count": 24,
   "id": "6a23ecd6-f7eb-4174-8c4d-66ab79f25193",
   "metadata": {
    "tags": []
   },
   "outputs": [],
   "source": [
    "mlruns_db_fpath = f\"{raw_data_dir}/mlruns.db\"\n",
    "mlflow_artifact_fpath = os.path.relpath(os.path.join(os.getcwd(), \"mlruns\"))\n",
    "mlflow.set_tracking_uri(f\"sqlite:///{mlruns_db_fpath}\")"
   ]
  },
  {
   "cell_type": "markdown",
   "id": "a9ddd9fe-f595-41d2-8922-320eabb8ff7b",
   "metadata": {},
   "source": [
    "::: {.content-hidden}\n",
    "Set environment variable to silence MLFlow `git` warning messsage\n",
    ":::"
   ]
  },
  {
   "cell_type": "code",
   "execution_count": 8,
   "id": "dd60b8ea-0b67-4abe-984e-cc2a856712e6",
   "metadata": {
    "tags": []
   },
   "outputs": [],
   "source": [
    "os.environ[\"GIT_PYTHON_REFRESH\"] = \"quiet\""
   ]
  },
  {
   "cell_type": "markdown",
   "id": "0e5ccde3-c3a2-40e4-8226-fb123c6f0e21",
   "metadata": {},
   "source": [
    "::: {.content-hidden}\n",
    "Define a helper function to get the filepath to an MLFlow artifact and the associated local (non-MLFlow) file\n",
    ":::"
   ]
  },
  {
   "cell_type": "code",
   "execution_count": 10,
   "id": "efde0d31-0ad4-4b54-915d-9b4c804031f9",
   "metadata": {
    "tags": []
   },
   "outputs": [],
   "source": [
    "def show_artifact_and_local_filepath_for_run_id(\n",
    "    df: pd.DataFrame, file_prefix: str, local_dir: str\n",
    ") -> pd.DataFrame:\n",
    "    \"\"\"Get artifact and local file associated with a run ID.\"\"\"\n",
    "    artifact_par_dir = mlflow.artifacts.download_artifacts(\n",
    "        run_id=df.squeeze()[\"run_id\"]\n",
    "    )\n",
    "\n",
    "    glob_str = f\"{file_prefix}__run_*.parquet.gzip\"\n",
    "    artifact_glob_dir_str = os.path.join(artifact_par_dir, glob_str)\n",
    "    artifact_fpath = glob(artifact_glob_dir_str)[-1]\n",
    "\n",
    "    artifact_dir = os.path.basename(artifact_fpath)\n",
    "    local_fpath = os.path.join(local_dir, artifact_dir)\n",
    "    return [artifact_fpath, local_fpath]"
   ]
  },
  {
   "cell_type": "markdown",
   "id": "3cd30ac8-f1be-4787-a5c6-e10b0e0f69ce",
   "metadata": {},
   "source": [
    "## Get Data"
   ]
  },
  {
   "cell_type": "markdown",
   "id": "490cfc21-2cc1-476d-bfd5-0bcf9ecdcc7f",
   "metadata": {},
   "source": [
    "### Fetch Latest Version of Best Deployment Candidate Model"
   ]
  },
  {
   "cell_type": "markdown",
   "id": "c1153fed-91ab-4857-851e-d5d9dce6aeab",
   "metadata": {},
   "source": [
    "Get best deployment candidate model from model registry"
   ]
  },
  {
   "cell_type": "code",
   "execution_count": 9,
   "id": "e3de6c7e-e27c-4bb5-8a0a-3fd5b0e82278",
   "metadata": {
    "tags": []
   },
   "outputs": [],
   "source": [
    "#|echo: true\n",
    "df_candidate_mlflow_models = modh.get_all_deployment_candidate_models()"
   ]
  },
  {
   "cell_type": "markdown",
   "id": "42a98cc8-8c85-4282-aad3-9d59e82515ff",
   "metadata": {},
   "source": [
    "### Get Filepaths to MLFlow File Artifacts"
   ]
  },
  {
   "cell_type": "markdown",
   "id": "625e0be5-9e77-4cec-aae0-e450e49253f6",
   "metadata": {},
   "source": [
    "Get the filepath to the MLFlow artifacts associated with the best deployment candidate model, as well as the filepath to the corresponding local file used when logging the artifact"
   ]
  },
  {
   "cell_type": "code",
   "execution_count": null,
   "id": "622e3294-4f8d-4e26-b8c2-2cb7f3861d7d",
   "metadata": {},
   "outputs": [],
   "source": [
    "#|echo: true\n",
    "artifacts_dict = {\n",
    "    k: show_artifact_and_local_filepath_for_run_id(\n",
    "        df_candidate_mlflow_models, k, processed_data_dir\n",
    "    )\n",
    "    for k in artifact_file_prefixes\n",
    "}"
   ]
  },
  {
   "cell_type": "markdown",
   "id": "3d1920e8-2222-4612-a3c2-dcf13124b149",
   "metadata": {},
   "source": [
    "## Cleanup"
   ]
  },
  {
   "cell_type": "markdown",
   "id": "eb2b8227-6ac9-4ee3-8cea-6c0517590659",
   "metadata": {},
   "source": [
    "### (Non-MLFlow) Local Outputs"
   ]
  },
  {
   "cell_type": "code",
   "execution_count": null,
   "id": "78514d62-9ed5-416e-8591-840b98d7c054",
   "metadata": {},
   "outputs": [],
   "source": [
    "#|echo: true\n",
    "#|output: false\n",
    "for k,v in artifacts_dict.items():\n",
    "    os.remove(v[1])\n",
    "    print(f\"Deleted: {os.path.basename(v[1]).split('__run')[0]}\")"
   ]
  },
  {
   "cell_type": "markdown",
   "id": "e3bc7792-0969-4e7a-893c-f1f313e9b55a",
   "metadata": {},
   "source": [
    "### (Non-MLFlow) ML Development Experiment Outputs"
   ]
  },
  {
   "cell_type": "code",
   "execution_count": 26,
   "id": "a0a01caa-13ac-4127-86e0-c6eeee25144a",
   "metadata": {
    "tags": []
   },
   "outputs": [],
   "source": [
    "#|echo: true\n",
    "#|output: false\n",
    "ml_runs_glob = os.path.join(raw_data_dir, \"ml__run_*__expt_*.parquet*\")\n",
    "for local_fpath in glob(ml_runs_glob):\n",
    "    os.remove(local_fpath)\n",
    "    print(f\"Deleted: {os.path.basename(local_fpath).split('__run')[0]}\")"
   ]
  },
  {
   "cell_type": "markdown",
   "id": "1bce5773-60c3-4eef-80f0-a9ee75cabbff",
   "metadata": {},
   "source": [
    "### MLFlow Outputs"
   ]
  },
  {
   "cell_type": "markdown",
   "id": "53aabd11-d180-4547-ba99-7c21dc273afd",
   "metadata": {},
   "source": [
    "Delete the [MLFlow run-logging database file](https://mlflow.org/docs/latest/tracking.html#scenario-2-mlflow-on-localhost-with-sqlite)"
   ]
  },
  {
   "cell_type": "code",
   "execution_count": 22,
   "id": "fd35258b-7d2f-4e1b-ae9a-6d622b9ac795",
   "metadata": {
    "tags": []
   },
   "outputs": [],
   "source": [
    "#|echo: true\n",
    "#|output: false\n",
    "os.remove(mlruns_db_fpath)\n",
    "print(f\"Removed MLFlow database at {os.path.basename(mlruns_db_fpath)}\")"
   ]
  },
  {
   "cell_type": "markdown",
   "id": "f4e13bea-634a-4e53-ba51-363e6bd30973",
   "metadata": {},
   "source": [
    "Delete the [MLFlow artifact directory (`mlruns`)](https://mlflow.org/docs/latest/tracking.html#scenario-1-mlflow-on-localhost), and all the artifact sub-directories contained in that directory"
   ]
  },
  {
   "cell_type": "code",
   "execution_count": 25,
   "id": "7761c741-95ea-4d5c-9a12-ff7354438d5c",
   "metadata": {
    "tags": []
   },
   "outputs": [],
   "source": [
    "#| echo: true\n",
    "#|output: false\n",
    "shutil.rmtree(mlflow_artifact_fpath)\n",
    "print(\n",
    "    \"Removed local MLFlow artifact logging directory at \"\n",
    "    f\"{os.path.basename(mlflow_artifact_fpath)}\"\n",
    ")"
   ]
  },
  {
   "cell_type": "markdown",
   "id": "c91c8bca-b1d3-448c-ba9c-adba9016a5c2",
   "metadata": {},
   "source": [
    "## Next Step"
   ]
  },
  {
   "cell_type": "markdown",
   "id": "95507458-cd70-46a0-9e41-34ef97697d8c",
   "metadata": {},
   "source": [
    "The next step will clean up all project resources related to BigQuery."
   ]
  }
 ],
 "metadata": {
  "kernelspec": {
   "display_name": "train",
   "language": "python",
   "name": "train"
  },
  "language_info": {
   "codemirror_mode": {
    "name": "ipython",
    "version": 3
   },
   "file_extension": ".py",
   "mimetype": "text/x-python",
   "name": "python",
   "nbconvert_exporter": "python",
   "pygments_lexer": "ipython3",
   "version": "3.11.3"
  }
 },
 "nbformat": 4,
 "nbformat_minor": 5
}
