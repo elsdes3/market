{
 "cells": [
  {
   "cell_type": "markdown",
   "id": "b2f9a841-067e-4958-ae2b-ef8beb5dfc3c",
   "metadata": {},
   "source": [
    "# Cleanup BigQuery Resources"
   ]
  },
  {
   "cell_type": "markdown",
   "id": "cf79d61a-32bf-499c-bf40-25d32feb3dac",
   "metadata": {},
   "source": [
    "::: {.content-hidden}\n",
    "Import necessary Python modules\n",
    ":::"
   ]
  },
  {
   "cell_type": "code",
   "execution_count": null,
   "id": "deb5037f-647f-412d-b563-b1a4dff938cd",
   "metadata": {
    "tags": []
   },
   "outputs": [],
   "source": [
    "import os\n",
    "import sys\n",
    "from glob import glob\n",
    "\n",
    "from google.cloud import bigquery\n",
    "from google.oauth2 import service_account"
   ]
  },
  {
   "cell_type": "markdown",
   "id": "9bb7a9df-a543-4c34-b75b-dcc44c9d8c7b",
   "metadata": {},
   "source": [
    "::: {.content-hidden}\n",
    "Get relative path to project root directory\n",
    ":::"
   ]
  },
  {
   "cell_type": "code",
   "execution_count": null,
   "id": "462a44a1-ac63-491b-9aec-9b310b399201",
   "metadata": {
    "tags": []
   },
   "outputs": [],
   "source": [
    "PROJ_ROOT_DIR = os.path.join(os.pardir)\n",
    "src_dir = os.path.join(PROJ_ROOT_DIR, \"src\")\n",
    "sys.path.append(src_dir)"
   ]
  },
  {
   "cell_type": "markdown",
   "id": "4c0a48c8-13b9-4df3-b227-b32c91dfcd4e",
   "metadata": {},
   "source": [
    "## About"
   ]
  },
  {
   "cell_type": "markdown",
   "id": "cd5f6b26-33d9-4f06-9da8-bbf3f4593169",
   "metadata": {},
   "source": [
    "This step deletes all Google Bigquery resources that were created during this project. This includes BigQuery [datasets](https://cloud.google.com/bigquery/docs/datasets-intro) and [tables](https://cloud.google.com/bigquery/docs/tables-intro)."
   ]
  },
  {
   "cell_type": "markdown",
   "id": "73fadf5d-3196-4cc2-8ad4-c8d7b6fe5254",
   "metadata": {},
   "source": [
    "## User Inputs"
   ]
  },
  {
   "cell_type": "markdown",
   "id": "5f6ea9db-dbfc-40bc-b175-7753d435920b",
   "metadata": {},
   "source": [
    "Define the following GCP BigQuery resources\n",
    "\n",
    "1. dataset id\n",
    "2. table id"
   ]
  },
  {
   "cell_type": "code",
   "execution_count": null,
   "id": "c7f5ce10-d7aa-4ae6-9f4b-83bfb14c9af5",
   "metadata": {
    "editable": true,
    "slideshow": {
     "slide_type": ""
    },
    "tags": [
     "parameters"
    ]
   },
   "outputs": [],
   "source": [
    "#| echo: true\n",
    "# 1. GCP resources\n",
    "gbq_dataset_id = 'mydemo2asdf'\n",
    "gbq_table_id = 'ecwa'"
   ]
  },
  {
   "cell_type": "markdown",
   "id": "8d1a8eae-5b20-4712-b349-2c100f67e89f",
   "metadata": {
    "editable": true,
    "slideshow": {
     "slide_type": ""
    },
    "tags": []
   },
   "source": [
    "::: {.content-hidden}\n",
    "Get path to data sub-folders\n",
    ":::"
   ]
  },
  {
   "cell_type": "code",
   "execution_count": null,
   "id": "60a452e6-ca85-4cca-8430-e33ac877b071",
   "metadata": {
    "editable": true,
    "slideshow": {
     "slide_type": ""
    },
    "tags": []
   },
   "outputs": [],
   "source": [
    "data_dir = os.path.join(PROJ_ROOT_DIR, \"data\")\n",
    "raw_data_dir = os.path.join(data_dir, \"raw\")"
   ]
  },
  {
   "cell_type": "markdown",
   "id": "b733a029-b54d-4900-bcfc-d2b955904c7b",
   "metadata": {},
   "source": [
    "::: {.content-hidden}\n",
    "Load Google Cloud authentication credentials for use with the native BigQuery Python client\n",
    ":::"
   ]
  },
  {
   "cell_type": "code",
   "execution_count": null,
   "id": "42107116-73a2-49a7-97a5-940ba8fbbc63",
   "metadata": {},
   "outputs": [],
   "source": [
    "gcp_proj_id = os.environ[\"GCP_PROJECT_ID\"]\n",
    "gcp_creds_fpath = glob(os.path.join(raw_data_dir, \"*.json\"))[0]\n",
    "gcp_creds = service_account.Credentials.from_service_account_file(\n",
    "    gcp_creds_fpath\n",
    ")"
   ]
  },
  {
   "cell_type": "markdown",
   "id": "03f3fc2a-a4dc-4871-9872-ba13e3e51d31",
   "metadata": {},
   "source": [
    "::: {.content-hidden}\n",
    "Get fully resolved name of the BigQuery table\n",
    ":::"
   ]
  },
  {
   "cell_type": "code",
   "execution_count": null,
   "id": "7170fcaa-8aec-4ce8-bcbe-dec079539084",
   "metadata": {},
   "outputs": [],
   "source": [
    "gbq_table_fully_resolved = f\"{gcp_proj_id}.{gbq_dataset_id}.{gbq_table_id}\""
   ]
  },
  {
   "cell_type": "markdown",
   "id": "2378d944-7dfc-465a-8c7f-b48b8a4e3278",
   "metadata": {},
   "source": [
    "::: {.content-hidden}\n",
    "Create authenticated native BigQuery Python client\n",
    ":::"
   ]
  },
  {
   "cell_type": "code",
   "execution_count": null,
   "id": "5775fa64-0f2c-4ffe-88c4-4f56dfca3072",
   "metadata": {},
   "outputs": [],
   "source": [
    "client = bigquery.Client(project=gcp_proj_id, credentials=gcp_creds)"
   ]
  },
  {
   "cell_type": "markdown",
   "id": "4264431c-7cdc-4a00-954b-27ef1c7297da",
   "metadata": {
    "editable": true,
    "slideshow": {
     "slide_type": ""
    },
    "tags": []
   },
   "source": [
    "## Cleanup BigQuery"
   ]
  },
  {
   "cell_type": "markdown",
   "id": "a9090dfa-7650-410d-a670-9c65aa363ef3",
   "metadata": {},
   "source": [
    "### Datasets"
   ]
  },
  {
   "cell_type": "markdown",
   "id": "4e4c01bc-2a69-4868-abe5-70e915bfd354",
   "metadata": {},
   "source": [
    "[Delete BigQuery dataset](https://cloud.google.com/bigquery/docs/samples/bigquery-delete-dataset#code-sample)"
   ]
  },
  {
   "cell_type": "code",
   "execution_count": null,
   "id": "f44d38ca-14e6-4395-9b5a-173fb7fbc227",
   "metadata": {},
   "outputs": [],
   "source": [
    "#| echo: true\n",
    "client.delete_dataset(\n",
    "    gbq_dataset_id, delete_contents=False, not_found_ok=True\n",
    ")\n",
    "print(f\"Deleted dataset with ID {gbq_dataset_id}\")"
   ]
  },
  {
   "cell_type": "markdown",
   "id": "0706ba62-826d-4b22-a349-aec9cdc540f5",
   "metadata": {},
   "source": [
    "### Tables"
   ]
  },
  {
   "cell_type": "markdown",
   "id": "ef874b55-a0ef-4846-b20f-76b3272c6c34",
   "metadata": {},
   "source": [
    "[Delete BigQuery table](https://cloud.google.com/bigquery/docs/samples/bigquery-delete-table#code-sample)"
   ]
  },
  {
   "cell_type": "code",
   "execution_count": null,
   "id": "f8a40879-513a-4742-8762-5acd3d461f38",
   "metadata": {},
   "outputs": [],
   "source": [
    "#| echo: true\n",
    "client.delete_table(gbq_table_fully_resolved)\n",
    "print(f\"Deleted table {gbq_table_fully_resolved}\")"
   ]
  }
 ],
 "metadata": {
  "kernelspec": {
   "display_name": "cleanup",
   "language": "python",
   "name": "cleanup"
  },
  "language_info": {
   "codemirror_mode": {
    "name": "ipython",
    "version": 3
   },
   "file_extension": ".py",
   "mimetype": "text/x-python",
   "name": "python",
   "nbconvert_exporter": "python",
   "pygments_lexer": "ipython3",
   "version": "3.11.3"
  }
 },
 "nbformat": 4,
 "nbformat_minor": 5
}
