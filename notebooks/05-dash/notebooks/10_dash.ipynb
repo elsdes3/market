{
 "cells": [
  {
   "attachments": {},
   "cell_type": "markdown",
   "id": "9ab10923-915a-4a9d-9c01-cb8634a8a6b8",
   "metadata": {},
   "source": [
    "# Create Dashboard Charts and Tables"
   ]
  },
  {
   "cell_type": "code",
   "execution_count": null,
   "id": "d80ae3ed-22d2-4986-b322-f9464dfc7459",
   "metadata": {},
   "outputs": [],
   "source": [
    "%load_ext autoreload\n",
    "%autoreload 2"
   ]
  },
  {
   "attachments": {},
   "cell_type": "markdown",
   "id": "cc831f3e-110f-4f8b-a08f-e8f9bf30ba1d",
   "metadata": {},
   "source": [
    "::: {.content-hidden}\n",
    "Import necessary Python modules\n",
    ":::"
   ]
  },
  {
   "cell_type": "code",
   "execution_count": null,
   "id": "f9b46103-ce9c-4e1b-b3b5-1aa39e4bf7bd",
   "metadata": {},
   "outputs": [],
   "source": [
    "import os\n",
    "import sys\n",
    "from calendar import month_name\n",
    "from glob import glob\n",
    "from typing import Dict, List\n",
    "\n",
    "import altair as alt\n",
    "import pandas as pd"
   ]
  },
  {
   "cell_type": "code",
   "execution_count": null,
   "id": "7866c7b6-8349-4b69-88f4-68dad0558747",
   "metadata": {},
   "outputs": [],
   "source": [
    "alt.renderers.set_embed_options(actions=False)"
   ]
  },
  {
   "attachments": {},
   "cell_type": "markdown",
   "id": "388e436c-5355-4e64-80c7-615471aebeb5",
   "metadata": {},
   "source": [
    "::: {.content-hidden}\n",
    "Get relative path to project root directory\n",
    ":::"
   ]
  },
  {
   "cell_type": "code",
   "execution_count": null,
   "id": "623bf445-562c-40c6-beea-55526baa2726",
   "metadata": {},
   "outputs": [],
   "source": [
    "PROJ_ROOT_DIR = os.path.join(os.pardir)\n",
    "src_dir = os.path.join(PROJ_ROOT_DIR, \"src\")\n",
    "sys.path.append(src_dir)"
   ]
  },
  {
   "attachments": {},
   "cell_type": "markdown",
   "id": "fa363cc7-3488-4cd8-adb0-5c94a87dac5c",
   "metadata": {},
   "source": [
    "::: {.content-hidden}\n",
    "Import custom Python modules\n",
    ":::"
   ]
  },
  {
   "cell_type": "code",
   "execution_count": null,
   "id": "68a63fe4-5b14-473f-b59e-4442b23c6aa2",
   "metadata": {},
   "outputs": [],
   "source": [
    "%aimport bigquery_auth_helpers\n",
    "from bigquery_auth_helpers import auth_to_bigquery\n",
    "\n",
    "%aimport dash_helpers\n",
    "import dash_helpers as dh\n",
    "\n",
    "%aimport transform_helpers\n",
    "import transform_helpers as th\n",
    "\n",
    "%aimport xlsx_helpers\n",
    "import xlsx_helpers as xlh"
   ]
  },
  {
   "attachments": {},
   "cell_type": "markdown",
   "id": "efac88bb-0854-46c9-95b4-5a184b476d96",
   "metadata": {},
   "source": [
    "## About"
   ]
  },
  {
   "attachments": {},
   "cell_type": "markdown",
   "id": "c9e40339-23d9-4b13-a8c9-0b7764ed0dd5",
   "metadata": {},
   "source": [
    "### Overview\n",
    "This step will create charts and tables to be displayed as part of the dashboard to summarize the audience group(s) for the marketing campaign.\n",
    "\n",
    "### Implementation\n",
    "The dashboard will be used by the business user (marketing team) to design the campaign so it must show all first-time visitors to the store during the inference period and the ML model's prediction of their propensity to make a purchase during a return visit to the store.\n",
    "\n",
    "The dashboard will also show the following\n",
    "\n",
    "1. most important features for predicting the propensity, separately for each audience group\n",
    "2. summary of visit attributes (for first-time visitors) during the inference period and, in order to provide some context, a month-over-month comparison of these attributes starting from the first month of Google Analytics tracking data used during ML model development\n",
    "\n",
    "### Order of Operations\n",
    "This step can be run prospectively at the end of the inference period, just before the start of the campaign, when all the inference data (first-time visitors to the store) becomes available. This step cab be run after the following BigQuery tables have been created\n",
    "\n",
    "1. `audience_cohorts`\n",
    "2. `audience_profiles`\n",
    "3. `monthly_summary`\n",
    "\n",
    "These tables were uploaded to BigQuery in the previous step."
   ]
  },
  {
   "attachments": {},
   "cell_type": "markdown",
   "id": "f105d1da-f940-4c25-a329-947682360dac",
   "metadata": {},
   "source": [
    "## User Inputs"
   ]
  },
  {
   "attachments": {},
   "cell_type": "markdown",
   "id": "31fdf2af-31da-4d69-a5f1-45dff11abf0b",
   "metadata": {},
   "source": [
    "Define the following\n",
    "\n",
    "1. BigQuery\n",
    "   - dataset id\n",
    "   - table ids for audience\n",
    "     - cohorts\n",
    "     - profile\n",
    "2. start and end dates for train, validation and test data"
   ]
  },
  {
   "cell_type": "code",
   "execution_count": null,
   "id": "b98ca954-52db-4a0a-8417-3d6c0bd2e84d",
   "metadata": {
    "editable": true,
    "slideshow": {
     "slide_type": ""
    },
    "tags": [
     "parameters"
    ]
   },
   "outputs": [],
   "source": [
    "#| echo: true\n",
    "# 1. GCP resources\n",
    "gbq_dataset_id = 'mydemo2asdf'\n",
    "gbq_table_id_cohorts = 'audience_cohorts'\n",
    "gbq_table_id_profiles = 'audience_profiles'\n",
    "gbq_table_id_feats_imp = 'audience_feats_imp'\n",
    "gbq_table_id_summary = 'monthly_summary'\n",
    "gbq_table_id_sa_fracs = \"cohort_audience_fractions\"\n",
    "gbq_table_id_conv_rates = \"audience_conversion_rates\"\n",
    "gbq_table_id_conv_rates_agg_combo = \"conversion_rates_aggregated\"\n",
    "gbq_table_id_daily_perf = \"daily_summary\"\n",
    "gbq_table_id_cat_feats_kpis = \"categorical_features_kpis\"\n",
    "\n",
    "# 2. start and end dates\n",
    "train_start_date = \"20160901\"\n",
    "train_end_date = \"20161231\"\n",
    "val_start_date = \"20170101\"\n",
    "val_end_date = \"20170131\"\n",
    "test_start_date = \"20170201\"\n",
    "test_end_date = \"20170228\"\n",
    "infer_start_date = '20170301'\n",
    "infer_end_date = '20170331'"
   ]
  },
  {
   "attachments": {},
   "cell_type": "markdown",
   "id": "ed26e9af-7eb3-4e44-ae41-55403216b043",
   "metadata": {},
   "source": [
    "::: {.content-hidden}\n",
    "Get path to data sub-folders and model folder\n",
    ":::"
   ]
  },
  {
   "cell_type": "code",
   "execution_count": null,
   "id": "89031c87-027d-4eea-86f4-a1924f2b344a",
   "metadata": {},
   "outputs": [],
   "source": [
    "data_dir = os.path.join(PROJ_ROOT_DIR, \"data\")\n",
    "raw_data_dir = os.path.join(data_dir, \"raw\")\n",
    "processed_data_dir = os.path.join(data_dir, \"processed\")\n",
    "gcp_keys_dir = os.path.join(PROJ_ROOT_DIR, \"gcp_keys\")"
   ]
  },
  {
   "attachments": {},
   "cell_type": "markdown",
   "id": "0bc2ced0-7dd6-450f-abbf-71e10a572baa",
   "metadata": {},
   "source": [
    "::: {.content-hidden}\n",
    "Load Google Cloud authentication credentials for use with the native BigQuery Python client\n",
    ":::"
   ]
  },
  {
   "cell_type": "code",
   "execution_count": null,
   "id": "d9ecd64d-0576-40df-b74a-b83d5c073e71",
   "metadata": {},
   "outputs": [],
   "source": [
    "gcp_proj_id = os.environ[\"GCP_PROJECT_ID\"]"
   ]
  },
  {
   "attachments": {},
   "cell_type": "markdown",
   "id": "5c3da54c-37f7-4b1e-9860-1450b16857c6",
   "metadata": {},
   "source": [
    "::: {.content-hidden}\n",
    "Get fully resolved name of the BigQuery tables\n",
    ":::"
   ]
  },
  {
   "cell_type": "code",
   "execution_count": null,
   "id": "c90f5ab9-c04d-46d5-9238-0ef96b8130ba",
   "metadata": {},
   "outputs": [],
   "source": [
    "gbq_table_fully_resolved_cohorts = f\"{gcp_proj_id}.{gbq_dataset_id}.{gbq_table_id_cohorts}\"\n",
    "gbq_table_fully_resolved_profiles = f\"{gcp_proj_id}.{gbq_dataset_id}.{gbq_table_id_profiles}\"\n",
    "gbq_table_fully_resolved_feats_imp = f\"{gcp_proj_id}.{gbq_dataset_id}.{gbq_table_id_feats_imp}\"\n",
    "gbq_summary_table_id_fully_resolved = f\"{gcp_proj_id}.{gbq_dataset_id}.{gbq_table_id_summary}\"\n",
    "gbq_sa_fracs_table_id_fully_resolved = f\"{gcp_proj_id}.{gbq_dataset_id}.{gbq_table_id_sa_fracs}\"\n",
    "gbq_conv_rates_table_id_fully_resolved = f\"{gcp_proj_id}.{gbq_dataset_id}.{gbq_table_id_conv_rates}\"\n",
    "gbq_conv_rates_combo_table_id_fully_resolved = f\"{gcp_proj_id}.{gbq_dataset_id}.{gbq_table_id_conv_rates_agg_combo}\"\n",
    "gbq_daily_perf_combo_table_id_fully_resolved = f\"{gcp_proj_id}.{gbq_dataset_id}.{gbq_table_id_daily_perf}\"\n",
    "gbq_table_fully_resolved_cat_feat_kpis = f\"{gcp_proj_id}.{gbq_dataset_id}.{gbq_table_id_cat_feats_kpis}\""
   ]
  },
  {
   "attachments": {},
   "cell_type": "markdown",
   "id": "208d6dea-e782-46f4-bf76-871566f325cc",
   "metadata": {},
   "source": [
    "::: {.content-hidden}\n",
    "Define a dictionary to specify datatypes of the profiles data\n",
    ":::"
   ]
  },
  {
   "cell_type": "code",
   "execution_count": null,
   "id": "2b1b55be-dfb7-4232-be10-af72b02c53cf",
   "metadata": {},
   "outputs": [],
   "source": [
    "dtypes_dict_profiles = {\n",
    "    \"Audience_Strategy\": pd.StringDtype(),\n",
    "    \"Stat_Expanded\": pd.StringDtype(),\n",
    "    \"High\": pd.Float32Dtype(),\n",
    "    \"Low\": pd.Float32Dtype(),\n",
    "    \"Medium\": pd.Float32Dtype(),\n",
    "}"
   ]
  },
  {
   "attachments": {},
   "cell_type": "markdown",
   "id": "306022c8-7c5d-42ac-a06c-dc78278f6906",
   "metadata": {},
   "source": [
    "::: {.content-hidden}\n",
    "Define a dictionary to specify datatypes of the feature importances data\n",
    ":::"
   ]
  },
  {
   "cell_type": "code",
   "execution_count": null,
   "id": "be122add-a71a-445d-8ddf-c08a69fb492c",
   "metadata": {},
   "outputs": [],
   "source": [
    "dtypes_dict_feats_imp = {\n",
    "    \"audience_strategy\": pd.StringDtype(),\n",
    "    \"num_observations\": pd.Int16Dtype(),\n",
    "    \"stat\": pd.StringDtype(),\n",
    "    \"maudience\": pd.StringDtype(),\n",
    "    \"value\": pd.StringDtype(),\n",
    "}"
   ]
  },
  {
   "attachments": {},
   "cell_type": "markdown",
   "id": "9314287a-2c9f-4724-8df9-911a7a66505d",
   "metadata": {},
   "source": [
    "::: {.content-hidden}\n",
    "Define a dictionary to specify datatypes of the cohorts data\n",
    ":::"
   ]
  },
  {
   "cell_type": "code",
   "execution_count": null,
   "id": "e9eee64a-21ce-41d8-a3be-1f47329ac928",
   "metadata": {},
   "outputs": [],
   "source": [
    "dtypes_dict_cohort = {\n",
    "    \"infer_month\": \"str\",\n",
    "    \"fullvisitorid\": \"str\",\n",
    "    \"visitId\": \"str\",\n",
    "    \"visitNumber\": \"int\",\n",
    "    \"quarter\": \"int\",\n",
    "    \"month\": \"int\",\n",
    "    \"day_of_month\": \"int\",\n",
    "    \"day_of_week\": \"int\",\n",
    "    \"hour\": \"int\",\n",
    "    \"minute\": \"int\",\n",
    "    \"second\": \"int\",\n",
    "    \"source\": \"str\",  #\n",
    "    \"medium\": \"str\",  #\n",
    "    \"channelGrouping\": \"str\",  #\n",
    "    \"hits\": \"int\",\n",
    "    \"bounces\": \"int\",\n",
    "    \"last_action\": \"str\",  #\n",
    "    \"promos_displayed\": \"int\",\n",
    "    \"promos_clicked\": \"int\",\n",
    "    \"product_views\": \"int\",\n",
    "    \"product_clicks\": \"int\",\n",
    "    \"pageviews\": \"int\",\n",
    "    \"time_on_site\": \"int\",\n",
    "    \"browser\": \"str\",  #\n",
    "    \"os\": \"str\",  #\n",
    "    \"deviceCategory\": \"str\",  #\n",
    "    \"added_to_cart\": \"int\",\n",
    "    \"revenue\": \"float\",\n",
    "    \"score\": \"float\",\n",
    "    \"predicted_score_label\": \"bool\",\n",
    "    \"maudience\": \"str\",\n",
    "    \"cohort\": \"str\",\n",
    "    \"audience_strategy\": \"str\",\n",
    "}"
   ]
  },
  {
   "attachments": {},
   "cell_type": "markdown",
   "id": "8918e3f0-ba64-4bea-8885-dba8c0179729",
   "metadata": {},
   "source": [
    "::: {.content-hidden}\n",
    "Define a dictionary to specify datatypes of the monthly performance summary data\n",
    ":::"
   ]
  },
  {
   "cell_type": "code",
   "execution_count": null,
   "id": "e4667d02-1ab6-48bd-a3bb-b2f47f797912",
   "metadata": {},
   "outputs": [],
   "source": [
    "dtypes_dict_monthly_summary = {\n",
    "    'month': pd.StringDtype(),\n",
    "    \"split_type\": pd.StringDtype(),\n",
    "    \"return_purchasers\": pd.Int16Dtype(),\n",
    "    \"revenue\": pd.Float32Dtype(),\n",
    "    \"visitors\": pd.Int16Dtype(),\n",
    "    \"pageviews\": pd.Int32Dtype(),\n",
    "    \"time_on_site\": pd.Float32Dtype(),\n",
    "    \"audience_strategy\": pd.StringDtype(),\n",
    "    \"bounce_rate\": pd.Float32Dtype(),\n",
    "    \"conversion_rate\": pd.Float32Dtype(),\n",
    "    \"product_clicks_rate\": pd.Float32Dtype(),\n",
    "    \"add_to_cart_rate\": pd.Float32Dtype(),\n",
    "    \"visitors_pct_change\": pd.Float32Dtype(),\n",
    "    \"revenue_pct_change\": pd.Float32Dtype(),\n",
    "    \"pageviews_pct_change\": pd.Float32Dtype(),\n",
    "    \"time_on_site_pct_change\": pd.Float32Dtype(),\n",
    "    \"bounce_rate_pct_change\": pd.Float32Dtype(),\n",
    "    \"conversion_rate_pct_change\": pd.Float32Dtype(),\n",
    "    \"product_clicks_rate_pct_change\": pd.Float32Dtype(),\n",
    "    \"add_to_cart_rate_pct_change\": pd.Float32Dtype(),\n",
    "}"
   ]
  },
  {
   "attachments": {},
   "cell_type": "markdown",
   "id": "640df5b2-fa42-4d8f-a8b2-08d3cd91dd48",
   "metadata": {},
   "source": [
    "::: {.content-hidden}\n",
    "Define a dictionary to specify datatypes of the daily performance summary data\n",
    ":::"
   ]
  },
  {
   "cell_type": "code",
   "execution_count": null,
   "id": "2a3d3288-9dd6-4ffd-a7e4-989846ca27ff",
   "metadata": {},
   "outputs": [],
   "source": [
    "dtypes_dict_daily_summary = {\n",
    "    \"date\": pd.StringDtype(),\n",
    "    \"maudience\": pd.StringDtype(),\n",
    "    \"revenue\": pd.Float32Dtype(),\n",
    "    \"time_on_site\": pd.Float32Dtype(),\n",
    "    \"bounce_rate\": pd.Float32Dtype(),\n",
    "    \"product_clicks_rate\": pd.Float32Dtype(),\n",
    "    \"add_to_cart_rate\": pd.Float32Dtype(),\n",
    "}"
   ]
  },
  {
   "attachments": {},
   "cell_type": "markdown",
   "id": "95d82099-80a6-4f65-a20a-7933a521834c",
   "metadata": {},
   "source": [
    "::: {.content-hidden}\n",
    "Define a dictionary to specify datatypes of the cohort-to-audience fraction\n",
    ":::"
   ]
  },
  {
   "cell_type": "code",
   "execution_count": null,
   "id": "2d7d18a2-a31f-4e50-935a-ddda9d013acb",
   "metadata": {},
   "outputs": [],
   "source": [
    "dtypes_sa_frac = {\n",
    "    \"infer_month\": pd.StringDtype(),\n",
    "    \"audience_strategy\": pd.StringDtype(),\n",
    "    \"maudience\": pd.StringDtype(),\n",
    "    \"cohort\": pd.StringDtype(),\n",
    "    \"size\": pd.Int16Dtype(),\n",
    "    \"group_size\": pd.Int16Dtype(),\n",
    "    \"uplift\": pd.Int8Dtype(),\n",
    "    \"power\": pd.Int8Dtype(),\n",
    "    \"ci_level\": pd.Int8Dtype(),\n",
    "    \"samp_to_aud_frac\": pd.Float32Dtype(),\n",
    "    \"size_type\": pd.StringDtype(),\n",
    "    \"data_type\": pd.StringDtype(),\n",
    "    \"data_size\": pd.Int32Dtype(),\n",
    "}"
   ]
  },
  {
   "attachments": {},
   "cell_type": "markdown",
   "id": "22e3bd6a-04f9-4501-8804-4277afad06fa",
   "metadata": {},
   "source": [
    "::: {.content-hidden}\n",
    "Define a dictionary to specify datatypes of the conversion rates for each dataset (development and inference)\n",
    ":::"
   ]
  },
  {
   "cell_type": "code",
   "execution_count": null,
   "id": "aa5cc823-5a37-4089-9867-54e626c90d75",
   "metadata": {},
   "outputs": [],
   "source": [
    "dtypes_conv_rates = {\n",
    "    \"audience_strategy\": pd.StringDtype(),\n",
    "    \"infer_month\": pd.StringDtype(),\n",
    "    \"maudience\": pd.StringDtype(),\n",
    "    \"pred_conversions\": pd.Int16Dtype(),\n",
    "    \"total_visitors\": pd.Int16Dtype(),\n",
    "    \"min_score\": pd.Float32Dtype(),\n",
    "    \"true_conversions\": pd.Int16Dtype(),\n",
    "    \"data_type\": pd.StringDtype(),\n",
    "    \"data_size\": pd.Int16Dtype(),\n",
    "    \"true_conv_rate\": pd.Float32Dtype(),\n",
    "    \"overall_true_conv_rate\": pd.Float32Dtype(),\n",
    "    \"pred_conv_rate\": pd.Float32Dtype(),\n",
    "    \"overall_pred_conv_rate\": pd.Float32Dtype(),\n",
    "}"
   ]
  },
  {
   "attachments": {},
   "cell_type": "markdown",
   "id": "798430ba-13cc-4e7c-82f3-d7ba41dac2ec",
   "metadata": {},
   "source": [
    "::: {.content-hidden}\n",
    "Define a dictionary to specify datatypes of the aggregated conversion rates\n",
    ":::"
   ]
  },
  {
   "cell_type": "code",
   "execution_count": null,
   "id": "4bc01b3a-af06-4755-988d-01ed3581b8d9",
   "metadata": {},
   "outputs": [],
   "source": [
    "dtypes_hmap = {\n",
    "    \"maudience\": pd.StringDtype(),\n",
    "    \"data_type\": pd.StringDtype(),\n",
    "    \"var\": pd.StringDtype(),\n",
    "    \"value\": pd.Float32Dtype(),\n",
    "}"
   ]
  },
  {
   "attachments": {},
   "cell_type": "markdown",
   "id": "4fc5935f-29f4-4ca2-832a-c0cddf985617",
   "metadata": {},
   "source": [
    "::: {.content-hidden}\n",
    "Define a dictionary to specify datatypes of the KPIs for all categories within each categorical feature\n",
    ":::"
   ]
  },
  {
   "cell_type": "code",
   "execution_count": null,
   "id": "6618f955-eb92-4474-a131-81df153aee28",
   "metadata": {},
   "outputs": [],
   "source": [
    "dtypes_dict_categorical_kpis = {\n",
    "    \"feature_name\": pd.StringDtype(),\n",
    "    \"feature_category\": pd.StringDtype(),\n",
    "    \"variable\": pd.StringDtype(),\n",
    "    \"value\": pd.Float32Dtype(),\n",
    "}"
   ]
  },
  {
   "attachments": {},
   "cell_type": "markdown",
   "id": "01b7a706-ac3a-4b9d-906d-407c8a2c00bd",
   "metadata": {},
   "source": [
    "Create a mapping between action type integer and label, in order to get meaningful names from the `audience_strategy` column in the profiles data"
   ]
  },
  {
   "cell_type": "code",
   "execution_count": null,
   "id": "65853833-215d-473e-85bd-b737c24bf2ae",
   "metadata": {},
   "outputs": [],
   "source": [
    "#| echo: true\n",
    "audience_strategy_mapper = {1: \"Multi-Group\", 2: \"Single Group\"}"
   ]
  },
  {
   "attachments": {},
   "cell_type": "markdown",
   "id": "55ec770d-c656-447e-9714-2146b8575ec1",
   "metadata": {},
   "source": [
    "::: {.content-hidden}\n",
    "Define helper function to show datatypes and number of missing values for all columns in a `DataFrame`\n",
    ":::"
   ]
  },
  {
   "cell_type": "code",
   "execution_count": null,
   "id": "04d58993-007c-4f02-a9e6-b5508b4578c0",
   "metadata": {},
   "outputs": [],
   "source": [
    "def summarize_df(df: pd.DataFrame) -> None:\n",
    "    \"\"\"Show datatypes and count missing values in columns of DataFrame.\"\"\"\n",
    "    display(\n",
    "        df.dtypes.rename(\"dtype\")\n",
    "        .to_frame()\n",
    "        .merge(\n",
    "            df.isna().sum().rename(\"missing\").to_frame(),\n",
    "            left_index=True,\n",
    "            right_index=True,\n",
    "            how=\"left\",\n",
    "        )\n",
    "        .reset_index()\n",
    "        .rename(columns={\"index\": \"column\"})\n",
    "    )"
   ]
  },
  {
   "attachments": {},
   "cell_type": "markdown",
   "id": "1bfe4b87-c7b3-4be9-b325-6f9a22db50e1",
   "metadata": {},
   "source": [
    "::: {.content-hidden}\n",
    "Define helper function to load data from BigQuery table into a `DataFrame` and apply data transformation steps\n",
    ":::"
   ]
  },
  {
   "cell_type": "code",
   "execution_count": null,
   "id": "c45c1bae-8769-4e94-8b40-368c8abf015c",
   "metadata": {},
   "outputs": [],
   "source": [
    "def get_data(\n",
    "    query: str,\n",
    "    mapper_dict: Dict[str, Dict[int, str]],\n",
    "    dtypes_dict: Dict,\n",
    "    gcp_keys_dir_path: str,\n",
    "    date_col: str = \"\",\n",
    "    data_type: str = \"profiles\",\n",
    "    custom_sort_single_col: Dict[str, List[str]] = dict(),\n",
    ") -> pd.DataFrame:\n",
    "    \"\"\"Get data from BigQuery table.\"\"\"\n",
    "    gcp_authorization_dict = auth_to_bigquery(gcp_keys_dir_path)\n",
    "    df = th.extract_data(query, gcp_authorization_dict)\n",
    "    if mapper_dict:\n",
    "        df = df.pipe(th.map_columns, mapper_dict)\n",
    "    df = df.pipe(th.set_datatypes, dtypes_dict)\n",
    "    if date_col:\n",
    "        df[date_col] = pd.to_datetime(df[\"date\"], utc=False)\n",
    "    if custom_sort_single_col and len(list(custom_sort_single_col)) == 1:\n",
    "        col_sort = list(custom_sort_single_col)[0]\n",
    "        sort_order = list(custom_sort_single_col.values())[0]\n",
    "        df = df.set_index(col_sort).loc[sort_order].reset_index()\n",
    "    return df"
   ]
  },
  {
   "attachments": {},
   "cell_type": "markdown",
   "id": "88daedfc-a688-42ef-9ea6-827f9b5b018a",
   "metadata": {},
   "source": [
    "## Get Data"
   ]
  },
  {
   "attachments": {},
   "cell_type": "markdown",
   "id": "918a40f9-4a09-44e8-80af-7dfb5fcb0359",
   "metadata": {},
   "source": [
    "### Profiles"
   ]
  },
  {
   "cell_type": "code",
   "execution_count": null,
   "id": "1e4f437d-3787-4644-9ff0-e86f640e1631",
   "metadata": {},
   "outputs": [],
   "source": [
    "#| echo: true\n",
    "query = f\"\"\"\n",
    "        SELECT *\n",
    "        FROM {gbq_table_fully_resolved_profiles}\n",
    "        \"\"\"\n",
    "df_profiles = get_data(\n",
    "    query,\n",
    "    {'Audience_Strategy': audience_strategy_mapper},\n",
    "    dtypes_dict_profiles,\n",
    "    gcp_keys_dir,\n",
    ")"
   ]
  },
  {
   "cell_type": "code",
   "execution_count": null,
   "id": "405a6c67-49aa-4c46-ae2c-403d766e7a88",
   "metadata": {},
   "outputs": [],
   "source": [
    "with pd.option_context('display.max_rows', None):\n",
    "    display(df_profiles)"
   ]
  },
  {
   "attachments": {},
   "cell_type": "markdown",
   "id": "44f0ca63-39c3-4749-9a7e-a90d275a443c",
   "metadata": {},
   "source": [
    "::: {.content-hidden}\n",
    "Summarize the `DataFrame` with the audience profile\n",
    ":::"
   ]
  },
  {
   "cell_type": "code",
   "execution_count": null,
   "id": "923c22e3-93da-4b9f-898b-ef5370d43e16",
   "metadata": {},
   "outputs": [],
   "source": [
    "#| output: false\n",
    "summarize_df(df_profiles)"
   ]
  },
  {
   "attachments": {},
   "cell_type": "markdown",
   "id": "890da2bb-c802-456b-b902-d5fe00e9f4ea",
   "metadata": {},
   "source": [
    "### Feature Importances"
   ]
  },
  {
   "cell_type": "code",
   "execution_count": null,
   "id": "88ef27c3-1b64-4e3f-a196-07504c26ebee",
   "metadata": {},
   "outputs": [],
   "source": [
    "#| echo: true\n",
    "query = f\"\"\"\n",
    "        SELECT *\n",
    "        FROM {gbq_table_fully_resolved_feats_imp}\n",
    "        \"\"\"\n",
    "df_feats_imp = get_data(\n",
    "    query,\n",
    "    {'audience_strategy': audience_strategy_mapper},\n",
    "    dtypes_dict_feats_imp,\n",
    "    gcp_keys_dir,\n",
    ")"
   ]
  },
  {
   "cell_type": "code",
   "execution_count": null,
   "id": "95101f6d-9ec2-455b-a7ee-ca5dc0777e34",
   "metadata": {},
   "outputs": [],
   "source": [
    "with pd.option_context('display.max_rows', None):\n",
    "    display(df_feats_imp)"
   ]
  },
  {
   "attachments": {},
   "cell_type": "markdown",
   "id": "c8237c12-c05b-4691-b2b5-04ff5db7c107",
   "metadata": {},
   "source": [
    "::: {.content-hidden}\n",
    "Summarize the `DataFrame` with the ML feature importances\n",
    ":::"
   ]
  },
  {
   "cell_type": "code",
   "execution_count": null,
   "id": "4e05cecd-c9e3-4305-bf20-6292aab9b0aa",
   "metadata": {},
   "outputs": [],
   "source": [
    "#| output: false\n",
    "summarize_df(df_feats_imp)"
   ]
  },
  {
   "attachments": {},
   "cell_type": "markdown",
   "id": "0933dab0-3c04-42e6-9405-4ac407d98a60",
   "metadata": {},
   "source": [
    "### Cohorts"
   ]
  },
  {
   "cell_type": "code",
   "execution_count": null,
   "id": "75963c27-421c-4019-a396-dc2fc0eaf26e",
   "metadata": {},
   "outputs": [],
   "source": [
    "#| echo: true\n",
    "query = f\"\"\"\n",
    "        SELECT * EXCEPT(made_purchase_on_future_visit, split_type)\n",
    "        FROM {gbq_table_fully_resolved_cohorts}\n",
    "        WHERE split_type = 'infer'\n",
    "        \"\"\"\n",
    "df_dev_cohorts = (\n",
    "    get_data(\n",
    "        query,\n",
    "        {'audience_strategy': audience_strategy_mapper},\n",
    "        dtypes_dict_cohort,\n",
    "        gcp_keys_dir,\n",
    "    )\n",
    ")"
   ]
  },
  {
   "cell_type": "code",
   "execution_count": null,
   "id": "c8bc4593-d055-4d2d-bf2a-7756fde7fbc8",
   "metadata": {},
   "outputs": [],
   "source": [
    "with pd.option_context('display.max_columns', None):\n",
    "    display(df_dev_cohorts.head())"
   ]
  },
  {
   "attachments": {},
   "cell_type": "markdown",
   "id": "cb7f0c00-bf7d-4494-8cfc-5a8eb51fe97f",
   "metadata": {},
   "source": [
    "::: {.content-hidden}\n",
    "Summarize the `DataFrame` with the audience cohorts\n",
    ":::"
   ]
  },
  {
   "cell_type": "code",
   "execution_count": null,
   "id": "86afe78c-b0e3-414c-b89c-83b9f398fce4",
   "metadata": {},
   "outputs": [],
   "source": [
    "#| output: false\n",
    "summarize_df(df_dev_cohorts)"
   ]
  },
  {
   "attachments": {},
   "cell_type": "markdown",
   "id": "ac59a72d-f6c8-4fe7-b527-636fc6fc657b",
   "metadata": {},
   "source": [
    "::: {.content-hidden}\n",
    "Verify that the true label (or outcome of the return visit, `made_purchase_on_future_visit`) is not present in the cohorts data\n",
    ":::"
   ]
  },
  {
   "cell_type": "code",
   "execution_count": null,
   "id": "18904021-b91b-40de-9fde-ef19d496c9e9",
   "metadata": {},
   "outputs": [],
   "source": [
    "assert 'made_purchase_on_future_visit' not in list(df_dev_cohorts)"
   ]
  },
  {
   "attachments": {},
   "cell_type": "markdown",
   "id": "9b418f9b-7076-4b83-b473-e4fb420735ab",
   "metadata": {},
   "source": [
    "::: {.callout-note title=\"Notes\"}\n",
    "1. The true outcome is not known at the end of the inference period. It will only be known after the end of the marketing campaign, which occurs after the inference period."
   ]
  },
  {
   "attachments": {},
   "cell_type": "markdown",
   "id": "fcff8cc3-8ae2-4b36-8c35-5d3b568674cf",
   "metadata": {},
   "source": [
    "### Monthly Performance Summary"
   ]
  },
  {
   "cell_type": "code",
   "execution_count": null,
   "id": "aae5b180-7ded-4f32-9776-59b45cafdd31",
   "metadata": {},
   "outputs": [],
   "source": [
    "#| echo: true\n",
    "query = f\"\"\"\n",
    "        SELECT * EXCEPT(channelGrouping,deviceCategory,browser,os,visitor_type)\n",
    "        FROM {gbq_summary_table_id_fully_resolved}\n",
    "        \"\"\"\n",
    "df_monthly_summary = (\n",
    "    get_data(\n",
    "        query,\n",
    "        {\n",
    "            'audience_strategy': audience_strategy_mapper,\n",
    "            \"month\": dict(\n",
    "                zip([m for m in list(range(1, 12 + 1))], month_name[1:])\n",
    "            ),\n",
    "        },\n",
    "        dtypes_dict_monthly_summary,\n",
    "        gcp_keys_dir,\n",
    "        custom_sort_single_col={\n",
    "            \"month\": [\n",
    "                'September',\n",
    "                'October',\n",
    "                'November',\n",
    "                'December',\n",
    "                'January',\n",
    "                'February',\n",
    "                'March',\n",
    "            ]\n",
    "        }\n",
    "    )\n",
    ")"
   ]
  },
  {
   "cell_type": "code",
   "execution_count": null,
   "id": "a7eddc83-2d4e-404c-8609-fa0a23b2da06",
   "metadata": {},
   "outputs": [],
   "source": [
    "with pd.option_context('display.max_columns', None):\n",
    "    display(df_monthly_summary)"
   ]
  },
  {
   "attachments": {},
   "cell_type": "markdown",
   "id": "08229582-e4bc-4a48-97e5-d6e2772a3df9",
   "metadata": {},
   "source": [
    "::: {.content-hidden}\n",
    "Summarize the `DataFrame` with the monthly performance summary\n",
    ":::"
   ]
  },
  {
   "cell_type": "code",
   "execution_count": null,
   "id": "38de3444-6694-4c0d-ada6-f5db4cc9b3ce",
   "metadata": {},
   "outputs": [],
   "source": [
    "#| output: false\n",
    "summarize_df(df_monthly_summary)"
   ]
  },
  {
   "attachments": {},
   "cell_type": "markdown",
   "id": "9f391895-fc9c-49e6-984d-c1feedc61a52",
   "metadata": {},
   "source": [
    "### Daily Performance Summary by Audience Group"
   ]
  },
  {
   "cell_type": "code",
   "execution_count": null,
   "id": "ab55c451-b412-4383-bd17-0f53c3e8a2cf",
   "metadata": {},
   "outputs": [],
   "source": [
    "#| echo: true\n",
    "query = f\"\"\"\n",
    "        SELECT maudience,\n",
    "               date,\n",
    "               revenue,\n",
    "               product_views,\n",
    "               bounce_rate,\n",
    "               product_clicks_rate,\n",
    "               add_to_cart_rate,\n",
    "               time_on_site\n",
    "        FROM {gbq_daily_perf_combo_table_id_fully_resolved}\n",
    "        WHERE agg_type != 'overall'\n",
    "        \"\"\"\n",
    "df_daily_summary_aud = (\n",
    "    get_data(\n",
    "        query,\n",
    "        {},\n",
    "        dtypes_dict_daily_summary,\n",
    "        gcp_keys_dir,\n",
    "        date_col='date',\n",
    "    )\n",
    ")"
   ]
  },
  {
   "cell_type": "code",
   "execution_count": null,
   "id": "8b22edfc-9abf-47e4-859f-778f33446a52",
   "metadata": {},
   "outputs": [],
   "source": [
    "with pd.option_context('display.max_columns', None):\n",
    "    display(df_daily_summary_aud)"
   ]
  },
  {
   "attachments": {},
   "cell_type": "markdown",
   "id": "412050dd-cbc5-49d7-86d1-3fb8a4f96b8c",
   "metadata": {},
   "source": [
    "::: {.content-hidden}\n",
    "Summarize the `DataFrame` with the daily performance summary by audience group\n",
    ":::"
   ]
  },
  {
   "cell_type": "code",
   "execution_count": null,
   "id": "4cf6a789-7866-48e2-b32b-5520a738a78a",
   "metadata": {},
   "outputs": [],
   "source": [
    "#| output: false\n",
    "summarize_df(df_daily_summary_aud)"
   ]
  },
  {
   "attachments": {},
   "cell_type": "markdown",
   "id": "e18596bf-c698-4ff3-8c46-c0b3901d79fd",
   "metadata": {},
   "source": [
    "### Daily Performance Summary Overall"
   ]
  },
  {
   "cell_type": "code",
   "execution_count": null,
   "id": "778ed140-de07-4297-bed8-b398df946815",
   "metadata": {},
   "outputs": [],
   "source": [
    "#| echo: true\n",
    "query = f\"\"\"\n",
    "        SELECT maudience,\n",
    "               date,\n",
    "               revenue,\n",
    "               product_views,\n",
    "               bounce_rate,\n",
    "               product_clicks_rate,\n",
    "               add_to_cart_rate,\n",
    "               time_on_site\n",
    "        FROM {gbq_daily_perf_combo_table_id_fully_resolved}\n",
    "        WHERE agg_type = 'overall'\n",
    "        \"\"\"\n",
    "df_daily_summary = (\n",
    "    get_data(\n",
    "        query,\n",
    "        {},\n",
    "        dtypes_dict_daily_summary,\n",
    "        gcp_keys_dir,\n",
    "        date_col='date',\n",
    "    )\n",
    ")"
   ]
  },
  {
   "cell_type": "code",
   "execution_count": null,
   "id": "7ae114dd-701d-4ba1-924e-8a2bfbb9b5ba",
   "metadata": {},
   "outputs": [],
   "source": [
    "with pd.option_context('display.max_columns', None):\n",
    "    display(df_daily_summary)"
   ]
  },
  {
   "attachments": {},
   "cell_type": "markdown",
   "id": "29a7375d-2638-41f2-9c6c-44cc3d2c54bb",
   "metadata": {},
   "source": [
    "::: {.content-hidden}\n",
    "Summarize the `DataFrame` with the overall daily performance summary\n",
    ":::"
   ]
  },
  {
   "cell_type": "code",
   "execution_count": null,
   "id": "5d9d66a6-808c-45f6-befc-bfd7a4c0d509",
   "metadata": {},
   "outputs": [],
   "source": [
    "#| output: false\n",
    "summarize_df(df_daily_summary)"
   ]
  },
  {
   "attachments": {},
   "cell_type": "markdown",
   "id": "fdfa9eb4-b864-4987-b0e6-39653eed3ec1",
   "metadata": {},
   "source": [
    "### Conversion Rates"
   ]
  },
  {
   "cell_type": "code",
   "execution_count": null,
   "id": "b2a7d8b7-2e38-43fc-a2f9-5fd431eedec2",
   "metadata": {},
   "outputs": [],
   "source": [
    "#| echo: true\n",
    "query = f\"\"\"\n",
    "        SELECT *\n",
    "        FROM {gbq_conv_rates_table_id_fully_resolved}\n",
    "        \"\"\"\n",
    "df_conv_rates = (\n",
    "    get_data(\n",
    "        query,\n",
    "        {'audience_strategy': audience_strategy_mapper},\n",
    "        dtypes_conv_rates,\n",
    "        gcp_keys_dir,\n",
    "    )\n",
    ")"
   ]
  },
  {
   "cell_type": "code",
   "execution_count": null,
   "id": "06672afa-e4dd-4ada-ba23-007177b53821",
   "metadata": {},
   "outputs": [],
   "source": [
    "with pd.option_context('display.max_columns', None):\n",
    "    display(df_conv_rates)"
   ]
  },
  {
   "attachments": {},
   "cell_type": "markdown",
   "id": "457ad44f-7e4d-4aad-9f44-0f0d59356cb0",
   "metadata": {},
   "source": [
    "::: {.content-hidden}\n",
    "Summarize the `DataFrame` with the conversion rates\n",
    ":::"
   ]
  },
  {
   "cell_type": "code",
   "execution_count": null,
   "id": "aa405f5f-6577-43af-a4f6-c7b011ae61f3",
   "metadata": {},
   "outputs": [],
   "source": [
    "#| output: false\n",
    "summarize_df(df_conv_rates)"
   ]
  },
  {
   "attachments": {},
   "cell_type": "markdown",
   "id": "6ab683c1-890c-43f4-8deb-854fa659dc3e",
   "metadata": {},
   "source": [
    "### Cohort-to-Audience Size Fractions"
   ]
  },
  {
   "cell_type": "code",
   "execution_count": null,
   "id": "2440c0b9-d5b3-46d6-b92d-79aef6b084af",
   "metadata": {},
   "outputs": [],
   "source": [
    "#| echo: true\n",
    "query = f\"\"\"\n",
    "        SELECT *\n",
    "        FROM {gbq_sa_fracs_table_id_fully_resolved}\n",
    "        \"\"\"\n",
    "df_sa_frac = (\n",
    "    get_data(\n",
    "        query,\n",
    "        {},\n",
    "        dtypes_sa_frac,\n",
    "        gcp_keys_dir,\n",
    "    )\n",
    ")"
   ]
  },
  {
   "cell_type": "code",
   "execution_count": null,
   "id": "b5bfe0c6-1ac5-43d0-95e4-2ab6ff4a15ec",
   "metadata": {},
   "outputs": [],
   "source": [
    "with pd.option_context('display.max_columns', None):\n",
    "    display(df_sa_frac)"
   ]
  },
  {
   "attachments": {},
   "cell_type": "markdown",
   "id": "bd43bfd1-ac10-4735-84a2-2b9fa88a3e3a",
   "metadata": {},
   "source": [
    "::: {.content-hidden}\n",
    "Summarize the `DataFrame` with the cohort-to-audience size fraction\n",
    ":::"
   ]
  },
  {
   "cell_type": "code",
   "execution_count": null,
   "id": "4f05ca17-6263-4e83-9f26-5630d5bad16d",
   "metadata": {},
   "outputs": [],
   "source": [
    "#| output: false\n",
    "summarize_df(df_sa_frac)"
   ]
  },
  {
   "attachments": {},
   "cell_type": "markdown",
   "id": "889dc6a7-7c23-4afb-a580-956f737a70f6",
   "metadata": {},
   "source": [
    "### Aggregated Conversion Rates (Overall)"
   ]
  },
  {
   "cell_type": "code",
   "execution_count": null,
   "id": "9c06cded-6aa4-47e9-8ad3-1b4c2f586e8d",
   "metadata": {},
   "outputs": [],
   "source": [
    "#| echo: true\n",
    "query = f\"\"\"\n",
    "        SELECT *\n",
    "        FROM {gbq_conv_rates_combo_table_id_fully_resolved}\n",
    "        WHERE maudience IS NULL\n",
    "        \"\"\"\n",
    "df_hmap = (\n",
    "    get_data(\n",
    "        query,\n",
    "        {},\n",
    "        dtypes_hmap,\n",
    "        gcp_keys_dir,\n",
    "    )\n",
    ")"
   ]
  },
  {
   "cell_type": "code",
   "execution_count": null,
   "id": "d2e581cc-17db-4db9-bad4-7c8d62899f87",
   "metadata": {},
   "outputs": [],
   "source": [
    "with pd.option_context('display.max_columns', None):\n",
    "    display(df_hmap)"
   ]
  },
  {
   "attachments": {},
   "cell_type": "markdown",
   "id": "51a951da-dfdd-491f-b31d-7751fa398e07",
   "metadata": {},
   "source": [
    "::: {.content-hidden}\n",
    "Summarize the `DataFrame` with the overall aggregated conversion rates\n",
    ":::"
   ]
  },
  {
   "cell_type": "code",
   "execution_count": null,
   "id": "dbe95291-6f2d-4fb2-8dce-592802eac824",
   "metadata": {},
   "outputs": [],
   "source": [
    "#| output: false\n",
    "summarize_df(df_hmap)"
   ]
  },
  {
   "attachments": {},
   "cell_type": "markdown",
   "id": "43236f8a-4751-44bd-a7c4-af3391b4d4c3",
   "metadata": {},
   "source": [
    "### Aggregated Conversion Rates (per Audience Group)"
   ]
  },
  {
   "cell_type": "code",
   "execution_count": null,
   "id": "88eb89bb-87a3-4979-be0e-98be1efdcba6",
   "metadata": {},
   "outputs": [],
   "source": [
    "#| echo: true\n",
    "query = f\"\"\"\n",
    "        SELECT *\n",
    "        FROM {gbq_conv_rates_combo_table_id_fully_resolved}\n",
    "        WHERE maudience IS NOT NULL\n",
    "        \"\"\"\n",
    "df_hmap_aud = (\n",
    "    get_data(\n",
    "        query,\n",
    "        {},\n",
    "        dtypes_hmap,\n",
    "        gcp_keys_dir,\n",
    "    )\n",
    ")"
   ]
  },
  {
   "cell_type": "code",
   "execution_count": null,
   "id": "7f6e37bf-247d-4572-b198-5e941865f31b",
   "metadata": {},
   "outputs": [],
   "source": [
    "with pd.option_context('display.max_columns', None):\n",
    "    display(df_hmap_aud)"
   ]
  },
  {
   "attachments": {},
   "cell_type": "markdown",
   "id": "810480b6-4558-4e46-bc48-b623e0a4feda",
   "metadata": {},
   "source": [
    "::: {.content-hidden}\n",
    "Summarize the `DataFrame` with the conversion rates aggregated by audience group\n",
    ":::"
   ]
  },
  {
   "cell_type": "code",
   "execution_count": null,
   "id": "9f39cc2c-4a89-4f3c-9131-56849d147751",
   "metadata": {},
   "outputs": [],
   "source": [
    "#| output: false\n",
    "summarize_df(df_hmap_aud)"
   ]
  },
  {
   "attachments": {},
   "cell_type": "markdown",
   "id": "f7c8f673-39f4-418b-81d6-f705a0d8f62f",
   "metadata": {},
   "source": [
    "### Categorical Feature KPIs"
   ]
  },
  {
   "cell_type": "code",
   "execution_count": null,
   "id": "95ffc876-4bd9-466f-bb3e-3aaebafc3ea4",
   "metadata": {},
   "outputs": [],
   "source": [
    "#| echo: true\n",
    "query = f\"\"\"\n",
    "        SELECT feature_name,\n",
    "               feature_category,\n",
    "               variable,\n",
    "               value\n",
    "        FROM {gbq_table_fully_resolved_cat_feat_kpis}\n",
    "        WHERE variable IN ('CTR', 'Conversion Rate')\n",
    "        \"\"\"\n",
    "df_development_agg = get_data(\n",
    "    query,\n",
    "    {},\n",
    "    dtypes_dict_categorical_kpis,\n",
    "    gcp_keys_dir,\n",
    ")"
   ]
  },
  {
   "cell_type": "code",
   "execution_count": null,
   "id": "98907ff2-ebb1-45b3-9f2a-2250fd739bb5",
   "metadata": {},
   "outputs": [],
   "source": [
    "with pd.option_context('display.max_columns', None):\n",
    "    display(df_development_agg)"
   ]
  },
  {
   "attachments": {},
   "cell_type": "markdown",
   "id": "e1ca89ab-d1aa-461b-948c-79394bc1390f",
   "metadata": {},
   "source": [
    "::: {.content-hidden}\n",
    "Summarize the `DataFrame` with the KPIs for all categories in each categorical feature\n",
    ":::"
   ]
  },
  {
   "cell_type": "code",
   "execution_count": null,
   "id": "6f2960ae-0f69-4468-b9f0-8ea06e00d1ad",
   "metadata": {},
   "outputs": [],
   "source": [
    "#| output: false\n",
    "summarize_df(df_development_agg)"
   ]
  },
  {
   "cell_type": "code",
   "execution_count": null,
   "id": "f06b4878-638c-49dc-b01b-9d4167221998",
   "metadata": {},
   "outputs": [],
   "source": [
    "df_dev_cohorts"
   ]
  },
  {
   "attachments": {},
   "cell_type": "markdown",
   "id": "d6cc3ca1-29f1-47be-9966-d273aa25391a",
   "metadata": {},
   "source": [
    "## Create Charts and Tables"
   ]
  },
  {
   "attachments": {},
   "cell_type": "markdown",
   "id": "13882ae8-c698-4625-b5fa-9694fbf0e3c5",
   "metadata": {},
   "source": [
    "### Conversion Rates During Development and Inference"
   ]
  },
  {
   "attachments": {},
   "cell_type": "markdown",
   "id": "fed38aff-b427-424e-835d-f4cc062fed17",
   "metadata": {},
   "source": [
    "Show metrics used to estimate sample sizes"
   ]
  },
  {
   "cell_type": "code",
   "execution_count": null,
   "id": "01b73dd8-33bb-44db-a5c2-0eaace5a2b09",
   "metadata": {},
   "outputs": [],
   "source": [
    "with pd.option_context('display.max_columns', None):\n",
    "    display(df_conv_rates)"
   ]
  },
  {
   "attachments": {},
   "cell_type": "markdown",
   "id": "96e39686-c79f-4a6e-9bca-3560936892f0",
   "metadata": {},
   "source": [
    "#### Charts"
   ]
  },
  {
   "attachments": {},
   "cell_type": "markdown",
   "id": "7df1eef7-f67b-48d1-9744-0eee3ea6e407",
   "metadata": {},
   "source": [
    "Show plot comparing true and predicted conversion rates for each audience group"
   ]
  },
  {
   "cell_type": "code",
   "execution_count": null,
   "id": "4e9991af-6b94-46d7-a207-684ffffb7bdb",
   "metadata": {},
   "outputs": [],
   "source": [
    "chart = dh.plot_repeated_column_row_grouped_bar_chart(\n",
    "    df_hmap_aud,\n",
    "    xvar = \"var\",\n",
    "    yvar = \"value\",\n",
    "    color_by_col = \"var\",\n",
    "    row_var = \"data_type\",\n",
    "    col_var = \"maudience\",\n",
    "    ptitle_str=(\n",
    "        \"Similar conversion rates by audience across \"\n",
    "        \"development & inference\"\n",
    "    ),\n",
    "    tooltip=[\n",
    "        alt.Tooltip('maudience:N', title='Audience Group'),\n",
    "        alt.Tooltip('data_type:N', title=\"Type of data\"),\n",
    "        alt.Tooltip('var:N', title=\"Quantity\"),\n",
    "        alt.Tooltip('value:Q', title='Value', format=\".2f\"),\n",
    "    ],\n",
    "    row_spacing = 25,\n",
    "    bar_order=['true', 'pred'],\n",
    "    bar_colors=['lightgrey', '#cc1e1f'],\n",
    "    axis_label_fontsize=15,\n",
    "    axis_title_fontsize=15,\n",
    "    show_title = True,\n",
    "    fig_size=dict(width=175, height=175),\n",
    ")\n",
    "chart"
   ]
  },
  {
   "attachments": {},
   "cell_type": "markdown",
   "id": "b5ca6a46-9d88-45ae-b38f-67ef1d4747a5",
   "metadata": {},
   "source": [
    "Show plot comparing overall statistics"
   ]
  },
  {
   "cell_type": "code",
   "execution_count": null,
   "id": "84c852e7-0acb-4e3f-981d-7b1f15215075",
   "metadata": {},
   "outputs": [],
   "source": [
    "chart = dh.plot_repeated_column_grouped_bar_chart(\n",
    "    df_hmap,\n",
    "    xvar=\"data_type\",\n",
    "    yvar=\"value\",\n",
    "    color_by_col=\"data_type\",\n",
    "    col_var=\"var\",\n",
    "    bar_order=['Development', 'Inference'],\n",
    "    bar_colors=['lightgrey', '#cc1e1f'],\n",
    "    ptitle_str=(\n",
    "        \"Similar overall conversion rates during \"\n",
    "        \"development and inference\"\n",
    "    ),\n",
    "    tooltip=[\n",
    "        alt.Tooltip('var:N', title='Metric'),\n",
    "        alt.Tooltip('data_type:N', title='Type of Data'),\n",
    "        alt.Tooltip('value:N', title='Value', format=\",.2f\"),\n",
    "    ],\n",
    "    axis_label_fontsize = 14,\n",
    "    axis_title_fontsize = 15,\n",
    "    show_title = True,\n",
    "    fig_size=dict(width=150, height=275),\n",
    ")\n",
    "chart"
   ]
  },
  {
   "attachments": {},
   "cell_type": "markdown",
   "id": "11399329-85e2-4195-8b99-c54712514ac0",
   "metadata": {},
   "source": [
    "Show plot comparing development and inference statistics for each audience group"
   ]
  },
  {
   "cell_type": "code",
   "execution_count": null,
   "id": "57ebd57b-b6e4-403f-ba85-521998f176eb",
   "metadata": {},
   "outputs": [],
   "source": [
    "for k, yvar in enumerate([\"total_visitors\", 'min_score', 'pred_conv_rate', 'true_conv_rate']):\n",
    "    chart = dh.plot_repeated_column_grouped_bar_chart_untidy_data(\n",
    "        df_conv_rates,\n",
    "        xvar = 'maudience',\n",
    "        yvar = yvar,\n",
    "        color_by_col = 'maudience',\n",
    "        col_var = 'data_type',\n",
    "        column_order = ['Development', 'Inference'],\n",
    "        title_dict={\n",
    "            \"total_visitors\": {\n",
    "                \"y\": \"Audience size\",\n",
    "                \"title\": (\n",
    "                    \"Similarly sized audiences are predicted between inference \"\n",
    "                    \"and historical data\"\n",
    "                ),\n",
    "            },\n",
    "            \"min_score\": {\n",
    "                \"y\": \"Minimum Predicted Propensity\",\n",
    "                \"title\": (\n",
    "                    \"Similar propensities prediced by audience \"\n",
    "                    \"across inference and historical data\"\n",
    "                ),\n",
    "            },\n",
    "            \"pred_conv_rate\": {\n",
    "                \"y\": \"Predicted Conversion Rate (%)\",\n",
    "                \"title\": (\n",
    "                    \"Similar conversion rates prediced by audience \"\n",
    "                    \"across inference and historical data\"\n",
    "                ),\n",
    "            },\n",
    "            \"true_conv_rate\": {\n",
    "                \"y\": \"True Conversion Rate (%)\",\n",
    "                \"title\": (\n",
    "                    \"Highest true conversion rate observed for \"\n",
    "                    \"high-propensity group\"\n",
    "                ),\n",
    "            },\n",
    "        },\n",
    "        tooltip = [\n",
    "            alt.Tooltip('infer_month:N', title='Inference Month'),\n",
    "            alt.Tooltip('audience_strategy:N', title='Audience Strategy'),\n",
    "            alt.Tooltip('data_type:N', title='Type of Dataset'),\n",
    "            alt.Tooltip('data_size:Q', title='Dataset Size', format=\",\"),\n",
    "            alt.Tooltip('maudience:N', title='Audience Group'),\n",
    "            alt.Tooltip('total_visitors:Q', title='Audience Size', format=\",\"),\n",
    "            alt.Tooltip('pred_conv_rate:Q', title='Predicted Conv. Rate (%)', format=\",.2f\"),\n",
    "            alt.Tooltip('true_conv_rate:Q', title='True Conv. Rate (%)', format=\",.2f\"),\n",
    "        ],\n",
    "        bar_order=[\"High\", \"Medium\", \"Low\"],\n",
    "        bar_colors=[\"#cc1e1f\", \"#fc8767\", \"#fcb49a\"],\n",
    "        column_header_fontsize = 15,\n",
    "        axis_label_fontsize = 15,\n",
    "        title_fontsize = 15,\n",
    "        show_title = True,\n",
    "        show_legend = True if k == 0 else False,\n",
    "        fig_size = dict(width=250, height=300),\n",
    "    )\n",
    "    display(chart)"
   ]
  },
  {
   "attachments": {},
   "cell_type": "markdown",
   "id": "8207007e-b65f-47d9-a03f-50d060af1a60",
   "metadata": {},
   "source": [
    "### Monthly Summary Stastics About Data"
   ]
  },
  {
   "attachments": {},
   "cell_type": "markdown",
   "id": "120b44fe-91cf-4565-b9b1-be64b4cd31d2",
   "metadata": {},
   "source": [
    "Show metadata"
   ]
  },
  {
   "cell_type": "code",
   "execution_count": null,
   "id": "75b4ba8d-9830-408c-b9bb-8f9c3af2625d",
   "metadata": {},
   "outputs": [],
   "source": [
    "with pd.option_context('display.max_columns', None):\n",
    "    display(df_monthly_summary)"
   ]
  },
  {
   "attachments": {},
   "cell_type": "markdown",
   "id": "60f95779-958d-4802-9856-e558583aaf1d",
   "metadata": {},
   "source": [
    "#### Chart"
   ]
  },
  {
   "attachments": {},
   "cell_type": "markdown",
   "id": "3629d7cf-c6f9-4285-b594-bc68390b2efd",
   "metadata": {},
   "source": [
    "Show plot"
   ]
  },
  {
   "cell_type": "code",
   "execution_count": null,
   "id": "328ff447-d550-4b74-bf92-6b8162590bc7",
   "metadata": {},
   "outputs": [],
   "source": [
    "df_monthly_summary"
   ]
  },
  {
   "cell_type": "code",
   "execution_count": null,
   "id": "74386cb8-0836-4c99-95b5-8512462c96e4",
   "metadata": {},
   "outputs": [],
   "source": [
    "ytitle = {\n",
    "    \"visitors\": 'Visitors',\n",
    "    \"revenue\": 'Revenue (USD)',\n",
    "    \"add_to_cart_rate\": \"Fraction of Visitors that Added Items to Cart (%)\",\n",
    "    \"bounce_rate\": \"Bounce Rate (%)\",\n",
    "    \"conversion_rate\": \"Conversion Rate (%)\",\n",
    "    \"product_clicks_rate\": \"Product List Clickthrough Rate (%)\",\n",
    "    \"time_on_site\": \"Average time spent on store website (minutes)\",\n",
    "    'pageviews': \"Number of pages viewed during visit\",\n",
    "}\n",
    "\n",
    "for yvar in list(ytitle):\n",
    "    chart = dh.plot_statistic_bar_chart_combo(\n",
    "        data=df_monthly_summary,\n",
    "        yvar=yvar,\n",
    "        color_by_col=\"split_type:N\",\n",
    "        colors={\"Train+Val\": \"lightgrey\", \"Test\": \"grey\", \"Infer\": \"red\"},\n",
    "        marker_size=80,\n",
    "        marker_colors=['red', 'green'],\n",
    "        marker_values=[False, True],\n",
    "        x_axis_sort=df_monthly_summary['month'].tolist(),\n",
    "        ptitle=ytitle[yvar],\n",
    "        axis_label_fontsize=14,\n",
    "        ptitle_vertical_offset=-1,\n",
    "        fig_size_bars=dict(width=575, height=300),\n",
    "        fig_size_lines=dict(width=575, height=125),\n",
    "    )\n",
    "    display(chart)"
   ]
  },
  {
   "attachments": {},
   "cell_type": "markdown",
   "id": "893bb761-860b-402f-af59-53748bfbc6fc",
   "metadata": {},
   "source": [
    "::: {.callout-note title=\"Notes\"}\n",
    "1. This chart shows select numerical attributes of first-time visitors to the store during the inference (production) period.\n",
    "2. The bar chart shows the monthly aggregated value of these attributes, separately for each month in the ML training+validation data, ML test data and inference data. Unless indicated, the statistics are monthly totals.\n",
    "3. The line chart shows the month-over-month percentage change in each attribute.\n",
    ":::"
   ]
  },
  {
   "attachments": {},
   "cell_type": "markdown",
   "id": "e1501367-9807-4c16-a7ed-38ab0d2e3f7c",
   "metadata": {},
   "source": [
    "::: {.callout-tip title=\"Observations\"}\n",
    "1. Absolute performance peaks during the holiday season (November and/or December) and is most variable during September and October.\n",
    "2. As expected, month-over-month growth drops during the winter after the holiday shopping season has ended (i.e. drops during January and February).\n",
    ":::"
   ]
  },
  {
   "attachments": {},
   "cell_type": "markdown",
   "id": "dcb6c54a-1dae-44f3-a9cd-10aeb1858b78",
   "metadata": {},
   "source": [
    "### KPIs by Categorical Feature"
   ]
  },
  {
   "attachments": {},
   "cell_type": "markdown",
   "id": "1085bc77-19d3-4571-adee-d70c7031ec53",
   "metadata": {},
   "source": [
    "Show KPIs per categorical"
   ]
  },
  {
   "cell_type": "code",
   "execution_count": null,
   "id": "3d85078d-f7f0-4498-a638-fdd01607eaa5",
   "metadata": {},
   "outputs": [],
   "source": [
    "with pd.option_context('display.max_columns', None):\n",
    "    display(df_development_agg.head(3))"
   ]
  },
  {
   "attachments": {},
   "cell_type": "markdown",
   "id": "cd96af40-0e55-42c3-9162-a48d8a6e5393",
   "metadata": {},
   "source": [
    "#### Chart"
   ]
  },
  {
   "attachments": {},
   "cell_type": "markdown",
   "id": "6ef367da-868a-4666-ae9e-e6dd7a3134cd",
   "metadata": {},
   "source": [
    "Show plot"
   ]
  },
  {
   "cell_type": "code",
   "execution_count": null,
   "id": "7f8b7828-be81-4869-928a-b0811101bed9",
   "metadata": {},
   "outputs": [],
   "source": [
    "ptitle_dict = {\n",
    "    \"os\": \"Linux and Mac operating systems give the best combination of KPIs\",\n",
    "    \"source\": \"Direct traffic gives best combination of KPIs\",\n",
    "    \"browser\": \"Chrome offers best combination of KPIs among web browsers\",\n",
    "    'medium': 'Traffic reaching from CPM, referral or no medium gives the best combination of KPIs',\n",
    "    'channelGrouping': \"Referral, direct or display channel shows the best combination of KPIs\",\n",
    "    'deviceCategory': \"Desktop devices give best combination of KPIs\",\n",
    "    'last_action': (\n",
    "        \"Ending a first visit with a Check Out or Add To/Remove from \"\n",
    "        \"Cart gives best KPIs\"\n",
    "    ),\n",
    "}\n",
    "for k, feature in enumerate(list(ptitle_dict)):\n",
    "    chart = dh.plot_stacked_bar_chart(\n",
    "        data=df_development_agg.query(f\"feature_name == '{feature}'\"),\n",
    "        xvar=\"feature_category\",\n",
    "        yvar=\"value\",\n",
    "        color_by_col='variable',\n",
    "        colors={\"CTR\": '#cccccc', 'Conversion Rate': 'red'},\n",
    "        show_title=True,\n",
    "        show_legend=True if k == 0 else False,\n",
    "        ptitle_str=ptitle_dict[feature],\n",
    "        tooltip=[\n",
    "            alt.Tooltip(\"feature_name:N\", title='Categorical Feature'),\n",
    "            alt.Tooltip(\"feature_category:N\", title='Feature Sub-Category'),\n",
    "            alt.Tooltip(\"variable:N\", title='Rate Type'),\n",
    "            alt.Tooltip(\"value:N\", title='Rate (%)', format=\".3f\"),\n",
    "        ],\n",
    "        x_label_height=400,\n",
    "        axis_label_fontsize=16,\n",
    "        title_fontsize=18,\n",
    "        title_fontweight='normal',\n",
    "        x_tick_label_angle=-45,\n",
    "        fig_size=dict(width=400, height=300),\n",
    "    )\n",
    "    display(chart)"
   ]
  },
  {
   "attachments": {},
   "cell_type": "markdown",
   "id": "33ea9742-4940-4b0c-be1d-60a94807a86a",
   "metadata": {},
   "source": [
    "### Feature Importances by Audience Group"
   ]
  },
  {
   "attachments": {},
   "cell_type": "markdown",
   "id": "4630ad89-e7c7-4a52-9d94-35d39d7cadcf",
   "metadata": {},
   "source": [
    "Show feature importances per audience group"
   ]
  },
  {
   "cell_type": "code",
   "execution_count": null,
   "id": "b1884201-9c83-4ea8-b588-927d623360e8",
   "metadata": {},
   "outputs": [],
   "source": [
    "with pd.option_context('display.max_columns', None):\n",
    "    display(df_feats_imp.head(3))"
   ]
  },
  {
   "attachments": {},
   "cell_type": "markdown",
   "id": "3ea3eafe-0118-4f29-9b80-eb6dc9e7d95c",
   "metadata": {},
   "source": [
    "#### Chart"
   ]
  },
  {
   "attachments": {},
   "cell_type": "markdown",
   "id": "73c7cc9c-93f6-4707-a789-6294d1fab2bd",
   "metadata": {},
   "source": [
    "Show plot"
   ]
  },
  {
   "cell_type": "code",
   "execution_count": null,
   "id": "fe96043c-cf49-45aa-96b5-ca38f5dfbeb4",
   "metadata": {},
   "outputs": [],
   "source": [
    "tooltip = [\n",
    "    alt.Tooltip('stat', title='Feature'),\n",
    "    alt.Tooltip('audience_strategy', title='Audience Strategy'),\n",
    "    alt.Tooltip('maudience', title='Audience Group'),\n",
    "    alt.Tooltip('num_observations', title='Obs. to get importance'),\n",
    "    alt.Tooltip('value', title='Importance', format=\".3f\"),\n",
    "]\n",
    "chart = dh.plot_feature_importances(\n",
    "    data=df_feats_imp,\n",
    "    y_label_width=600,\n",
    "    axis_label_fontsize=14,\n",
    "    tooltip=tooltip,\n",
    "    interactive=True,\n",
    "    bar_color='#525252',  # \"#3181bd\", \"#636363\"\n",
    "    show_x_ticks=False,\n",
    "    fig_size=dict(width=450, height=300),\n",
    ")\n",
    "chart"
   ]
  },
  {
   "attachments": {},
   "cell_type": "markdown",
   "id": "69d6338e-b6ef-4fc6-861a-ec96fe627fba",
   "metadata": {},
   "source": [
    "Show the first-visit bounce rate in historical data among first-time visitors"
   ]
  },
  {
   "cell_type": "code",
   "execution_count": null,
   "id": "4ebfac98-b53b-43ad-9018-0ed664b39e71",
   "metadata": {},
   "outputs": [],
   "source": [
    "#| output: true\n",
    "(\n",
    "    df_dev_cohorts.groupby('maudience', as_index=False)\n",
    "    .agg({\"bounces\":\"sum\", \"fullvisitorid\": \"count\"})\n",
    "    .rename(columns={\"fullvisitorid\": \"visitors\"})\n",
    "    .assign(bounce_rate=lambda df: 100*df['bounces']/df['visitors'])\n",
    ")"
   ]
  },
  {
   "attachments": {},
   "cell_type": "markdown",
   "id": "916cadda-3a07-4d75-968d-e2b8d5f51bb2",
   "metadata": {},
   "source": [
    "::: {.callout-note title=\"Notes\"}\n",
    "1. This chart shows the most important features to the prediction of the outcome in the current use-case (i.e. predicting the propensity of a visitor making a purchase during a future visit to the e-commerce store). These importances come from combined SHAPely values that provide global explanations, which allow us to interpret the entire ML model that was trained to make these predictions ([link](https://christophm.github.io/interpretable-ml-book/shap.html#shap-feature-importance)). The chart shows the features which changed the predicted absolute propensity on average by the most more percentage points.\n",
    "2. The feature importances were calculated and are shown separately for each audience group.\n",
    ":::"
   ]
  },
  {
   "attachments": {},
   "cell_type": "markdown",
   "id": "20b9b7fc-8842-45f6-b263-a9e07eca38f6",
   "metadata": {},
   "source": [
    "::: {.callout-tip title=\"Observations\"}\n",
    "1. For high propensity visitors, the most important features (of their first visit) to predict whether they made a return purchase were\n",
    "   - using an uncommonly used browser (`browser__other`)\n",
    "   - using one of the following operating systems\n",
    "     - Windows (`os__Windows`) (**fourth highest combination of KPIs by `os`**)\n",
    "     - FreeBSD (`os__FreeBSD`)\n",
    "     - Nokia-based OS (`os__Nokia`)\n",
    "       - this would have to be a mobile (phone or tablet) operating system, since Samsung does not offer a desktop-based operating system\n",
    "   - interacting with the store site (`hits`)\n",
    "   - reaching the store site through a paid search (`medium__cpc`)\n",
    "2. For medium propensity visitors, the most important first visit features were\n",
    "   - using the Mozilla Firefox browser (`os__Firefox OS`)\n",
    "   - using google search (`source__google`) as the [source](https://support.google.com/analytics/answer/1033173?hl=en) in order to access the store site\n",
    "   - using non-desktop operating systems\n",
    "     - Windows Phone (`os__Windows Phone`)\n",
    "     - Chrome OS (`os__Chrome OS`) (**third highest combination of KPIs by `os`**)\n",
    "     - Firefox OS (`os__Firefox OS`)\n",
    "   - used an affiliate (`medium__affiliate`) - referring website with a personal connection to the visitor - to access the store site\n",
    "   - bouncing from the site (`bounced__1`, or `bounced__True`) (**average bounce rate among predicted low propensity visitors is approx. 33%**)\n",
    "4. For low propensity visitors, the most important features (of their first visit) were\n",
    "   - bouncing from the site (`bounced__1`, or `bounced__True`) (**average bounce rate among predicted low propensity visitors is approx. 33%**)\n",
    "   - using a Mac-based OS (`os__MacIntosh`) (**highest combination of KPIs by `os`**)\n",
    "   - used an affiliate ([1](https://support.google.com/analytics/thread/21925739?hl=en&msgid=21929096), [2](https://support.google.com/analytics/thread/21925739/what-is-the-difference-between-affiliate-and-referral-traffic?hl=en)) (`medium__affiliate`) or [undetermined](https://www.owox.com/blog/use-cases/not-set-in-google-analytics/) (`medium__(not set)`) medium to access the store site\n",
    ":::"
   ]
  },
  {
   "attachments": {},
   "cell_type": "markdown",
   "id": "8cddeebd-f310-4432-bcf2-a8dd8c27cac8",
   "metadata": {},
   "source": [
    "### Profile by Audience Group"
   ]
  },
  {
   "attachments": {},
   "cell_type": "markdown",
   "id": "a22f25fc-52b3-435e-9b33-41776eb6cfd9",
   "metadata": {},
   "source": [
    "Show feature importances per audience group"
   ]
  },
  {
   "cell_type": "code",
   "execution_count": null,
   "id": "5081c75d-acd7-4bf7-9a8a-5fd2a71874f0",
   "metadata": {},
   "outputs": [],
   "source": [
    "with pd.option_context('display.max_columns', None):\n",
    "    display(df_feats_imp.head(3))"
   ]
  },
  {
   "attachments": {},
   "cell_type": "markdown",
   "id": "1f5c40bc-c3a6-4c2d-8794-f122b9bc1d91",
   "metadata": {},
   "source": [
    "#### Table"
   ]
  },
  {
   "attachments": {},
   "cell_type": "markdown",
   "id": "0cfb10ed-e21b-4b73-ae77-5d43977b08c7",
   "metadata": {},
   "source": [
    "Show the audience group profiles"
   ]
  },
  {
   "cell_type": "code",
   "execution_count": null,
   "id": "dd213663-ee45-4e01-83ed-27b7a635ddeb",
   "metadata": {},
   "outputs": [],
   "source": [
    "with pd.option_context('display.max_columns', None):\n",
    "    display(df_profiles)"
   ]
  },
  {
   "attachments": {},
   "cell_type": "markdown",
   "id": "1ec3beb2-bf71-4f27-b0a9-c101bafb7def",
   "metadata": {},
   "source": [
    "::: {.callout-tip title=\"Observations\"}\n",
    "1. High priority (stronger recommendations)\n",
    "   - Visitors predicted to have a low propensity to make a return purchase\n",
    "     - (`Revenue (Mean)`) spent more (higher revenue) on average during their first visit\n",
    "     - (`Last Action Completed Purchase`) completed a purchase at the end of their first visit more often\n",
    "     - (`Last Action Check Out`) checked out at the end of their first visit more often\n",
    "\n",
    "     than visitors in the other two groups. We might want to offer stronger discounts or offers (**be more aggressive**) to the low propensity group as part of the campaign in order to prompt them to make a purchase a return visit to the store (i.e. to maximize campaign response and ROI).\n",
    "   - (`Weekend Visitors`) There were more high propensity visitors predicted to make a return purchase who had their first visit on a weekend than medium and low propensity visitors. During the campaign (after the first visit), offers or discounts could be targeted at low > medium > high propensity visitors on weekends, in terms of priority, where low propensity visitors have the highest priority. We could offer more loyalty points on weekends to high propensity visitors, with fewer to medium and even less to low propensity visitors.\n",
    "   - (`Last Action Removed Products From Cart`) More visitors predicted to have a high propensity to make a return purchase removed an item from the shopping cart at the end of their first visit than visitors in other two groups.\n",
    "     - we should offer discounts on non-shopping cart items to low and medium propensity visitors (to convince them to remove items in their cart as was done by high-propensity visitors, and add items that are discounted, in the hopes they will purchase the new items in the cart)\n",
    "     - we should offer\n",
    "       - discounts on shopping cart items\n",
    "       - recommendations for similar products to shopping cart items\n",
    "\n",
    "       to high propensity visitors to convince them to purchase these during a return visit\n",
    "2. Low priority (weaker recommendations)\n",
    "   - (`Last Action Added To Cart`) Visitors predicted to have a medium propensity to make a return purchase added an item to their shopping cart at the end of their first visit more often than visitors in other two groups.\n",
    ":::"
   ]
  },
  {
   "attachments": {},
   "cell_type": "markdown",
   "id": "2a19f750-5312-4c0a-b9af-729c8faaf162",
   "metadata": {},
   "source": [
    "### Daily Summary"
   ]
  },
  {
   "attachments": {},
   "cell_type": "markdown",
   "id": "8984bdd6-7ea5-4e09-976b-5c16aa89f146",
   "metadata": {},
   "source": [
    "Show the daily summary data"
   ]
  },
  {
   "cell_type": "code",
   "execution_count": null,
   "id": "7674bb5d-d12e-466b-8a66-30027ab1b7d4",
   "metadata": {},
   "outputs": [],
   "source": [
    "with pd.option_context('display.max_columns', None):\n",
    "    display(df_daily_summary.head(3))"
   ]
  },
  {
   "attachments": {},
   "cell_type": "markdown",
   "id": "3dad8539-40f4-46a8-8ccb-9f833b340843",
   "metadata": {},
   "source": [
    "#### Chart"
   ]
  },
  {
   "attachments": {},
   "cell_type": "markdown",
   "id": "99776546-528b-434f-a1ec-5feaa167d2f6",
   "metadata": {},
   "source": [
    "Show plot"
   ]
  },
  {
   "cell_type": "code",
   "execution_count": null,
   "id": "9fd1cb2a-a031-450b-b79f-9ffe935597b1",
   "metadata": {},
   "outputs": [],
   "source": [
    "ytitle_daily = {\n",
    "    \"bounce_rate\": \"Bounce rate was weakest during 2016 holiday season\",\n",
    "    \"product_clicks_rate\": \"Consistent product CTR except for September\",\n",
    "    \"add_to_cart_rate\": (\n",
    "        \"Rate of adding product(s) to cart was consistently highest during \"\n",
    "        \"2016 holiday season\"\n",
    "    ),\n",
    "    \"time_on_site\": \"Consistent time spent on store site\",\n",
    "    \"revenue\": (\n",
    "        \"Maximum first-visit revenue during holiday season and consistently \"\n",
    "        \"low during 2016 Sepember & October\"\n",
    "    ),\n",
    "}\n",
    "daily_legend_params = dict(\n",
    "    direction=\"horizontal\", orient=\"bottom\", titleAnchor=\"start\"\n",
    ")"
   ]
  },
  {
   "cell_type": "code",
   "execution_count": null,
   "id": "41f6756c-86cb-4a80-aa97-9935d681b284",
   "metadata": {},
   "outputs": [],
   "source": [
    "for k, yvar in enumerate(list(ytitle_daily)):\n",
    "    metric = yvar.replace(\"_\", \" \").title()\n",
    "    chart = dh.plot_time_dependent_scatter_chart(\n",
    "        df_daily_summary,\n",
    "        yvar = yvar,\n",
    "        line_thickness = 0.5,\n",
    "        color_by_col = \"maudience\",\n",
    "        ptitle_str=ytitle_daily[yvar],\n",
    "        axis_title_fontsize = 16,\n",
    "        axis_label_fontsize = 14,\n",
    "        axis_label_angle = -25,\n",
    "        axis_tick_label_color = '#757575',\n",
    "        marker_order = [\"Development\", \"Inference\"],\n",
    "        marker_colors = ['#bdbdbd', '#e13128'],\n",
    "        marker_size = 100,\n",
    "        show_title = True,\n",
    "        show_legend = True if k == 0 else '',\n",
    "        tooltip = [\n",
    "            alt.Tooltip('maudience', title='Audience group'),\n",
    "            alt.Tooltip('date:T', title='Date'),\n",
    "            alt.Tooltip(f\"{yvar}:Q\", title=metric, format=\",.2f\"),\n",
    "        ],\n",
    "        legend_params={\n",
    "            \"scatter\": daily_legend_params,\n",
    "            \"area\": daily_legend_params,\n",
    "            \"line\": daily_legend_params,\n",
    "        },\n",
    "        ci_level=0.95,\n",
    "        fig_size = dict(width=800, height=150),\n",
    "    )\n",
    "    display(chart)"
   ]
  },
  {
   "attachments": {},
   "cell_type": "markdown",
   "id": "c9aea757-2915-4d03-8ee2-c3862e4d8b4c",
   "metadata": {},
   "source": [
    "### Daily Summary by Audience Group"
   ]
  },
  {
   "attachments": {},
   "cell_type": "markdown",
   "id": "b691a003-dfb5-468c-a068-cdf7527fccb7",
   "metadata": {},
   "source": [
    "Show the daily summary data by audience group"
   ]
  },
  {
   "cell_type": "code",
   "execution_count": null,
   "id": "bf0a2e43-d470-402b-92ff-6bc68a7f1b37",
   "metadata": {},
   "outputs": [],
   "source": [
    "with pd.option_context('display.max_columns', None):\n",
    "    display(df_daily_summary_aud)"
   ]
  },
  {
   "attachments": {},
   "cell_type": "markdown",
   "id": "bcfaf659-d214-4a97-a002-818a2342e922",
   "metadata": {},
   "source": [
    "#### Chart"
   ]
  },
  {
   "attachments": {},
   "cell_type": "markdown",
   "id": "800b5d26-9bd2-4aa3-9ed7-927dfb90a251",
   "metadata": {},
   "source": [
    "Show plot"
   ]
  },
  {
   "cell_type": "code",
   "execution_count": null,
   "id": "1ccdd583-1c0c-4080-b902-5474526d9b0a",
   "metadata": {},
   "outputs": [],
   "source": [
    "ytitle_daily_aud = {\n",
    "    \"bounce_rate\": (\n",
    "        \"Bounce rate for all audience groups within non-holiday range during \"\n",
    "        \"development\"\n",
    "    ),\n",
    "    \"product_clicks_rate\": (\n",
    "        \"Product CTR for all audience groups within 95% c.i. during \"\n",
    "        \"development\"\n",
    "    ),\n",
    "    \"add_to_cart_rate\": (\n",
    "        \"Add-to-cart rate for all audience groups within 95% c.i. during \"\n",
    "        \"development\"\n",
    "    ),\n",
    "    \"time_on_site\": (\n",
    "        \"Average time spent on store site for all audience groups within 95% \"\n",
    "        \"c.i. during development\"\n",
    "    ),\n",
    "    \"revenue\": (\n",
    "        \"First-visit revenue for all audience groups within post-holiday \"\n",
    "        \"range\"\n",
    "    ),\n",
    "}\n",
    "daily_aud_legend_params = dict(\n",
    "    direction=\"horizontal\", orient=\"bottom\", titleAnchor=\"start\"\n",
    ")"
   ]
  },
  {
   "cell_type": "code",
   "execution_count": null,
   "id": "556cf4bc-3301-4bf1-bb9f-76e9bf9c7697",
   "metadata": {},
   "outputs": [],
   "source": [
    "for k, yvar in enumerate(list(ytitle_daily_aud)):\n",
    "    metric = yvar.replace(\"_\", \" \").title()\n",
    "    chart = dh.plot_time_dependent_scatter_chart(\n",
    "        df_daily_summary_aud,\n",
    "        yvar = yvar,\n",
    "        line_thickness = 0.5,\n",
    "        color_by_col = \"maudience\",\n",
    "        ptitle_str = ytitle_daily_aud[yvar],\n",
    "        axis_title_fontsize = 16,\n",
    "        axis_label_fontsize = 14,\n",
    "        axis_label_angle = -25,\n",
    "        axis_tick_label_color = '#757575',\n",
    "        marker_order = [\"Low\", 'High', \"Medium\", 'Development'],\n",
    "        marker_colors = ['#fbb4ae', 'darkred', '#c7e9c0', '#bdbdbd'],\n",
    "        marker_size = 100,\n",
    "        show_title = True,\n",
    "        show_legend = True if k == 0 else '',\n",
    "        tooltip = [\n",
    "            alt.Tooltip('maudience', title='Audience group'),\n",
    "            alt.Tooltip('date:T', title='Date'),\n",
    "            alt.Tooltip(f\"{yvar}:Q\", title=metric, format=\",.2f\"),\n",
    "        ],\n",
    "        legend_params={\n",
    "            \"scatter\": daily_aud_legend_params,\n",
    "            \"area\": daily_aud_legend_params,\n",
    "            \"line\": daily_aud_legend_params,\n",
    "        },\n",
    "        ci_level=0.95,\n",
    "        fig_size = dict(width=800, height=150),\n",
    "    )\n",
    "    display(chart)"
   ]
  },
  {
   "attachments": {},
   "cell_type": "markdown",
   "id": "a9c7fb09-f738-421b-9073-14b5cb6b5473",
   "metadata": {},
   "source": [
    "::: {.callout-tip title=\"Observations\"}\n",
    "1. First-visit bounce rate is at its lowest during the lead-up to the Christmas holiday season and can be largely attributed to holiday shopping.\n",
    "2. The following first-visit attributes\n",
    "   - product CTR\n",
    "   - add-to-cart rate\n",
    "   - revenue\n",
    "   - average time spent on the store site\n",
    "\n",
    "   are consistently highest during holiday season and this too can be largely attributed to increased visitor interaction with the store due to holiday shopping.\n",
    ":::"
   ]
  },
  {
   "attachments": {},
   "cell_type": "markdown",
   "id": "3f84e879-0401-43a6-9642-e40676c76553",
   "metadata": {},
   "source": [
    "### Cohorts"
   ]
  },
  {
   "attachments": {},
   "cell_type": "markdown",
   "id": "fa912a30-4ce6-48ac-b4ac-0d51dd403a5f",
   "metadata": {},
   "source": [
    "#### Table"
   ]
  },
  {
   "attachments": {},
   "cell_type": "markdown",
   "id": "377874e9-7c81-498c-9626-776777300687",
   "metadata": {},
   "source": [
    "Show inference data with audience and cohort groups assigned"
   ]
  },
  {
   "cell_type": "code",
   "execution_count": null,
   "id": "d7493533-e497-4b9d-bf92-5f67a32b4a1e",
   "metadata": {},
   "outputs": [],
   "source": [
    "with pd.option_context('display.max_columns', None):\n",
    "    display(df_dev_cohorts.head())"
   ]
  },
  {
   "attachments": {},
   "cell_type": "markdown",
   "id": "703151f4-3de0-4143-9c6a-53aaa8a4ff32",
   "metadata": {},
   "source": [
    "::: {.callout-note title=\"Notes\"}\n",
    "1. The table shows the following for all first-time visitors to the store during the inference (production) period\n",
    "   - inference month (`infer_month`)\n",
    "   - attributes (characteristics) of the first visit (some of these are features used by the ML model)\n",
    "   - the ML model's prediction of such visitors' propensity to make a purchase on a return visit to the store (hard - `predicted_score_label` - and soft - `score` - predictions)\n",
    "   - assigned audience group (`maudience`), based on specified audience strategy (single or multiple audience groups, `audience_strategy`)\n",
    "   - audience test and control cohorts (`cohort`).\n",
    "2. The dashboard will contain a button to download this table to a `.XLSX` table using [Python libraries for working with MS Excel files](https://www.python-excel.org/).\n",
    "3. This table is the main deliverable for this project.\n",
    ":::"
   ]
  },
  {
   "attachments": {},
   "cell_type": "markdown",
   "id": "efa82baa-a726-44f9-99ab-4a66874d3034",
   "metadata": {},
   "source": [
    "Export `DataFrame` with inference data, including the audience cohorts, to XLSX file with the following formatting\n",
    "\n",
    "1. columns that are sufficiently wide to show the longest value in any row\n",
    "2. bold header row\n",
    "3. centered cell contents"
   ]
  },
  {
   "cell_type": "code",
   "execution_count": null,
   "id": "bc3d37c3-c392-4480-a87f-e4e505a909ec",
   "metadata": {},
   "outputs": [],
   "source": [
    "#| echo: true\n",
    "xlh.export_df_to_formatted_spreadsheet(\n",
    "    df_dev_cohorts,\n",
    "    os.path.join(processed_data_dir, \"Audience_cohorts_predictions.xlsx\"),\n",
    ")"
   ]
  },
  {
   "attachments": {},
   "cell_type": "markdown",
   "id": "a1a1096d-1e5c-480d-9ee0-2f23fff36bd4",
   "metadata": {},
   "source": [
    "::: {.callout-note title=\"Notes\"}\n",
    "1. The worksheet formatting improves the readability of the contents in this file by the end user (business client).\n",
    ":::"
   ]
  },
  {
   "attachments": {},
   "cell_type": "markdown",
   "id": "5a81b9c6-dca5-432c-8c13-e03d6d0cf793",
   "metadata": {},
   "source": [
    "## Recommendations"
   ]
  },
  {
   "attachments": {},
   "cell_type": "markdown",
   "id": "d58bc6c7-413c-43a3-ba4f-3de0afde0415",
   "metadata": {},
   "source": [
    "With the first-time visitors segmented into audience groups, as mentioned in the project scope, in order to best spend available marketing budget this allows greater flexibility in how customized a campaign response can be by using a different marketing approach with a customer that is predicted to have a high, medium or low propensity to make a return purchase. We will now make recommendations for more personalized marketing."
   ]
  },
  {
   "attachments": {},
   "cell_type": "markdown",
   "id": "206cc446-7b1a-4596-b62e-1838435905ef",
   "metadata": {},
   "source": [
    "### Based on ML Model's Most Important Features"
   ]
  },
  {
   "attachments": {},
   "cell_type": "markdown",
   "id": "5ca3d779-e775-4435-be13-5368ee906d0f",
   "metadata": {},
   "source": [
    "::: {.callout-note title=\"Notes\"}\n",
    "Based on\n",
    "1. discoveries made from exploring the data\n",
    "2. the ML model's most important features for predicting whether a visitor will make a return purchase\n",
    "\n",
    "we should target the following visitor profile to maximize campaign response\n",
    "1. High propensity visitors\n",
    "   - used an uncommonly used browser\n",
    "   - used one of the following operating systems\n",
    "     - Windows\n",
    "     - FreeBSD\n",
    "     - Nokia-based OS\n",
    "   - interacted with content on the store site\n",
    "   - reached the store site through a paid search\n",
    "\n",
    "   with an emphasis on Windows users\n",
    "2. Medium propensity visitors\n",
    "   - used the Mozilla Firefox browser\n",
    "   - used google search in order to access the store site\n",
    "   - used non-desktop operating systems\n",
    "     - Windows Phone\n",
    "     - Chrome OS\n",
    "     - Firefox OS\n",
    "   - used an affiliate referring website with a personal connection to the visitor to access the store site\n",
    "   - bounced from the site during their first visit\n",
    "\n",
    "   with an emphasis on\n",
    "   - Android users (Chrome OS)\n",
    "   - visitors who did not bounce from the site during their first visit\n",
    "4. Low propensity visitors\n",
    "   - bounced from the site during their first visit\n",
    "   - used a Mac-based operating system\n",
    "   - used an affiliate or undetermined medium to access the store site\n",
    "\n",
    "   with an emphasis on visitors who used a Mac-based operating system to access the store site during their first visit\n",
    "\n",
    "where the recommended emphasis is based on factors that produced a good combination of KPIs (CTR and conversion rate) among first-time visitors in the closest available month of historical data.\n",
    ":::"
   ]
  },
  {
   "attachments": {},
   "cell_type": "markdown",
   "id": "b1efbafc-ebd0-4d03-b123-b051596d414b",
   "metadata": {},
   "source": [
    "### Based on Observed Behavior During Production (Inference) Period"
   ]
  },
  {
   "attachments": {},
   "cell_type": "markdown",
   "id": "6ec3284d-1704-476d-9190-5165f1b99436",
   "metadata": {},
   "source": [
    "Show the average number of promotions viewed by high propensity visitors in historical data among first-time visitors"
   ]
  },
  {
   "cell_type": "code",
   "execution_count": null,
   "id": "2472c3f8-9085-4107-8c14-29f32cd029d5",
   "metadata": {},
   "outputs": [],
   "source": [
    "#| output: true\n",
    "avg_promos_disp_high_prop = df_dev_cohorts.query(\"maudience == 'High'\")['promos_displayed'].mean()\n",
    "print(\n",
    "    \"Average number of promotions viewed by visitors in high propensity \"\n",
    "    f\"group = {avg_promos_disp_high_prop:,.2f}%\"\n",
    ")"
   ]
  },
  {
   "attachments": {},
   "cell_type": "markdown",
   "id": "c68285de-43c9-4d0e-80e4-7e97f81e5daa",
   "metadata": {},
   "source": [
    "::: {.callout-note title=\"Notes\"}\n",
    "Based on visitor behavior during their first visit to the store, we should include the following actions to maximize campaign response\n",
    "1. Low propensity audience\n",
    "   - offer stronger discounts or offers (be more aggressive)\n",
    "   - offer the strongest discounts on weekends\n",
    "   - offer discounts on non-shopping cart items\n",
    "2. High propensity audience\n",
    "   - offer the weakest discounts on weekends\n",
    "   - offer discounts on shopping cart items and recommendations for similar products to shopping cart items\n",
    "3. Medium propensity audience\n",
    "   - offer the intermediate discounts (lower than low propensity and higher than the high propensity audience) on weekends\n",
    ":::"
   ]
  },
  {
   "attachments": {},
   "cell_type": "markdown",
   "id": "284ca483-a7b0-4ccf-be07-c8a32e76c799",
   "metadata": {},
   "source": [
    "## Next Step"
   ]
  },
  {
   "attachments": {},
   "cell_type": "markdown",
   "id": "62d1d2ea-df03-4cc2-ab46-08bd54db7161",
   "metadata": {},
   "source": [
    "The next step will delete all MLFlow-related resources created for this project."
   ]
  }
 ],
 "metadata": {
  "kernelspec": {
   "display_name": "Python 3 (ipykernel)",
   "language": "python",
   "name": "python3"
  },
  "language_info": {
   "codemirror_mode": {
    "name": "ipython",
    "version": 3
   },
   "file_extension": ".py",
   "mimetype": "text/x-python",
   "name": "python",
   "nbconvert_exporter": "python",
   "pygments_lexer": "ipython3",
   "version": "3.11.4"
  }
 },
 "nbformat": 4,
 "nbformat_minor": 5
}
